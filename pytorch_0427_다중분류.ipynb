{
  "nbformat": 4,
  "nbformat_minor": 0,
  "metadata": {
    "colab": {
      "name": "pytorch_0427_다중분류.ipynb",
      "provenance": [],
      "mount_file_id": "1Pxjg56DZWRc3yTaCyI6P15XjXNInNtdJ",
      "authorship_tag": "ABX9TyOr69r9TIpUTx4dSFTMUKD0",
      "include_colab_link": true
    },
    "kernelspec": {
      "name": "python3",
      "display_name": "Python 3"
    },
    "accelerator": "GPU"
  },
  "cells": [
    {
      "cell_type": "markdown",
      "metadata": {
        "id": "view-in-github",
        "colab_type": "text"
      },
      "source": [
        "<a href=\"https://colab.research.google.com/github/leehyunggeunkeun/pytorch-study/blob/master/pytorch_0427_%EB%8B%A4%EC%A4%91%EB%B6%84%EB%A5%98.ipynb\" target=\"_parent\"><img src=\"https://colab.research.google.com/assets/colab-badge.svg\" alt=\"Open In Colab\"/></a>"
      ]
    },
    {
      "cell_type": "code",
      "metadata": {
        "id": "uxrkvxT-3YfZ",
        "colab_type": "code",
        "colab": {}
      },
      "source": [
        "#필요 라이브러리\n",
        "\n",
        "#기본 \n",
        "import torch\n",
        "import torch.nn as nn\n",
        "import torch.optim as optim\n",
        "\n",
        "import torchvision.datasets as dsets #데이터셋 불러오기\n",
        "import torchvision.transforms as transforms #데이터 전처리\n",
        "from torch.utils.data import DataLoader #데이터 로더시에 필요\n",
        "import matplotlib.pyplot as plt #시각화"
      ],
      "execution_count": 0,
      "outputs": []
    },
    {
      "cell_type": "code",
      "metadata": {
        "id": "DzefMnyP31At",
        "colab_type": "code",
        "colab": {
          "base_uri": "https://localhost:8080/",
          "height": 36
        },
        "outputId": "a317db37-2a23-429e-a661-494db3c45bf9"
      },
      "source": [
        "#이미지라서 오래걸리니 gpu사용하자\n",
        "\n",
        "USE_CUDA = torch.cuda.is_available() # GPU를 사용가능하면 True, 아니라면 False를 리턴\n",
        "device = torch.device(\"cuda\" if USE_CUDA else \"cpu\") # GPU 사용 가능하면 사용하고 아니면 CPU 사용\n",
        "print(\"다음 기기로 학습합니다:\", device)"
      ],
      "execution_count": 2,
      "outputs": [
        {
          "output_type": "stream",
          "text": [
            "다음 기기로 학습합니다: cuda\n"
          ],
          "name": "stdout"
        }
      ]
    },
    {
      "cell_type": "code",
      "metadata": {
        "id": "RCzNzeOs37U1",
        "colab_type": "code",
        "colab": {}
      },
      "source": [
        "torch.manual_seed(1)\n",
        "if device == 'cuda':\n",
        "    torch.cuda.manual_seed_all(1)"
      ],
      "execution_count": 0,
      "outputs": []
    },
    {
      "cell_type": "code",
      "metadata": {
        "id": "dHJHYxjQ37r0",
        "colab_type": "code",
        "colab": {}
      },
      "source": [
        "#데이터셋 불러오기\n",
        "\n",
        "trans = transforms.Compose([transforms.ToTensor(),\n",
        "  transforms.Normalize((0.5,), (0.5,))  # 질문1 전처리 하는중에 차원 오류나는데 애초에 몇차원인지 아는방법은??\n",
        "])\n",
        "\n",
        "train_data = dsets.FashionMNIST('./data', train=True, transform=trans, download=True)\n",
        "\n",
        "test_data = dsets.FashionMNIST('./data', train=False, transform=trans, download=True)"
      ],
      "execution_count": 0,
      "outputs": []
    },
    {
      "cell_type": "code",
      "metadata": {
        "id": "sgjOV4fZ9Bbf",
        "colab_type": "code",
        "colab": {
          "base_uri": "https://localhost:8080/",
          "height": 36
        },
        "outputId": "1622250b-e339-4705-b081-18a5223d1642"
      },
      "source": [
        "train_val_ratio = 0.8\n",
        "train_size = int(len(train_data) * train_val_ratio)\n",
        "val_size = len(train_data) - train_size\n",
        "\n",
        "# train set와 validation set로 나누자\n",
        "\n",
        "train_dataset, val_dataset = torch.utils.data.random_split(train_data, [train_size, val_size])\n",
        "print(len(train_dataset), len(val_dataset))"
      ],
      "execution_count": 5,
      "outputs": [
        {
          "output_type": "stream",
          "text": [
            "48000 12000\n"
          ],
          "name": "stdout"
        }
      ]
    },
    {
      "cell_type": "code",
      "metadata": {
        "id": "wNgqdMmpAtrw",
        "colab_type": "code",
        "colab": {
          "base_uri": "https://localhost:8080/",
          "height": 185
        },
        "outputId": "21082d2c-31ef-43a6-af39-0ea19c51003d"
      },
      "source": [
        "train_data"
      ],
      "execution_count": 6,
      "outputs": [
        {
          "output_type": "execute_result",
          "data": {
            "text/plain": [
              "Dataset FashionMNIST\n",
              "    Number of datapoints: 60000\n",
              "    Root location: ./data\n",
              "    Split: Train\n",
              "    StandardTransform\n",
              "Transform: Compose(\n",
              "               ToTensor()\n",
              "               Normalize(mean=(0.5,), std=(0.5,))\n",
              "           )"
            ]
          },
          "metadata": {
            "tags": []
          },
          "execution_count": 6
        }
      ]
    },
    {
      "cell_type": "code",
      "metadata": {
        "id": "TihEA-5N-tJT",
        "colab_type": "code",
        "colab": {}
      },
      "source": [
        "learning_rate = 0.01"
      ],
      "execution_count": 0,
      "outputs": []
    },
    {
      "cell_type": "code",
      "metadata": {
        "id": "e-VSFkdJ9BeO",
        "colab_type": "code",
        "colab": {}
      },
      "source": [
        "train_loader=DataLoader(dataset=train_dataset,batch_size=64,shuffle=True)\n",
        "val_loader=DataLoader(dataset=val_dataset,batch_size=64,shuffle=True) #질문2: 밸리데이션도 셔플 맞는지\n",
        "test_loader=DataLoader(dataset=test_data,batch_size=64,shuffle=False)"
      ],
      "execution_count": 0,
      "outputs": []
    },
    {
      "cell_type": "code",
      "metadata": {
        "id": "jmbgjM2g8LYz",
        "colab_type": "code",
        "colab": {}
      },
      "source": [
        "class Fmnist(nn.Module):\n",
        "    def __init__(self):\n",
        "        super().__init__()\n",
        "        self.linear = nn.Linear(784, 10) # 질문3: 첨에 뜬금없이 60000인가 헷갈리다가 784 라는걸 알았는데 그걸 애초에 아는 방법은??? 몇 by몇 이미지인지 어디서확인??\n",
        "\n",
        "    def forward(self, x):\n",
        "        return self.linear(x)"
      ],
      "execution_count": 0,
      "outputs": []
    },
    {
      "cell_type": "code",
      "metadata": {
        "id": "ORt33Ai78LbT",
        "colab_type": "code",
        "colab": {}
      },
      "source": [
        "model = Fmnist().to(device)"
      ],
      "execution_count": 0,
      "outputs": []
    },
    {
      "cell_type": "code",
      "metadata": {
        "id": "ksEG8LKK_D0u",
        "colab_type": "code",
        "colab": {}
      },
      "source": [
        "criterion = nn.CrossEntropyLoss().to(device)\n",
        "optimizer = optim.Adam(model.parameters(),lr=learning_rate)"
      ],
      "execution_count": 0,
      "outputs": []
    },
    {
      "cell_type": "code",
      "metadata": {
        "id": "iRtz6BO_37xA",
        "colab_type": "code",
        "colab": {
          "base_uri": "https://localhost:8080/",
          "height": 633
        },
        "outputId": "e75b62be-f01b-4af3-9fe1-258d37d3a516"
      },
      "source": [
        "total_batch=len(train_loader)+len(val_loader)\n",
        "\n",
        "train_losses = []\n",
        "val_losses = []\n",
        "\n",
        "epochs=10\n",
        "\n",
        "for epoch in range(epochs+1):\n",
        "    avg_cost=0\n",
        "    for i,data in enumerate(train_loader):\n",
        "        imgs,labels=data\n",
        "        imgs=imgs.view(-1,28*28).to(device)\n",
        "        labels=labels.to(device)\n",
        "\n",
        "        optimizer.zero_grad()\n",
        "        hypothesis=model(imgs)\n",
        "        cost=criterion(hypothesis,labels)\n",
        "        cost.backward()\n",
        "        optimizer.step()\n",
        "        train_losses.append(cost.item())\n",
        "\n",
        "\n",
        "        avg_cost += cost/total_batch\n",
        "\n",
        "    print('epoch:{} cost= {}'.format(epoch+1,avg_cost))\n",
        "\n",
        "    for o,data in enumerate(val_loader):\n",
        "        imgs,labels=data\n",
        "        imgs=imgs.view(-1,28*28).to(device)\n",
        "        labels=labels.to(device)\n",
        "\n",
        "        optimizer.zero_grad()\n",
        "        hypothesis=model(imgs)\n",
        "        cost=criterion(hypothesis,labels)\n",
        "        cost.backward()\n",
        "        optimizer.step()\n",
        "        val_losses.append(cost.item())\n",
        "\n",
        "\n",
        "        avg_cost += cost/total_batch\n",
        "\n",
        "    print('epoch:{} cost= {}'.format(epoch+1,avg_cost))\n",
        "    print('-'*50)"
      ],
      "execution_count": 12,
      "outputs": [
        {
          "output_type": "stream",
          "text": [
            "epoch:1 cost= 0.5560718774795532\n",
            "epoch:1 cost= 0.6950882077217102\n",
            "--------------------------------------------------\n",
            "epoch:2 cost= 0.5307137966156006\n",
            "epoch:2 cost= 0.6610414385795593\n",
            "--------------------------------------------------\n",
            "epoch:3 cost= 0.5254216194152832\n",
            "epoch:3 cost= 0.6649884581565857\n",
            "--------------------------------------------------\n",
            "epoch:4 cost= 0.5287400484085083\n",
            "epoch:4 cost= 0.6615797281265259\n",
            "--------------------------------------------------\n",
            "epoch:5 cost= 0.5348923802375793\n",
            "epoch:5 cost= 0.6639482378959656\n",
            "--------------------------------------------------\n",
            "epoch:6 cost= 0.504184901714325\n",
            "epoch:6 cost= 0.6459331512451172\n",
            "--------------------------------------------------\n",
            "epoch:7 cost= 0.5301344394683838\n",
            "epoch:7 cost= 0.6579161882400513\n",
            "--------------------------------------------------\n",
            "epoch:8 cost= 0.5299121737480164\n",
            "epoch:8 cost= 0.6740760207176208\n",
            "--------------------------------------------------\n",
            "epoch:9 cost= 0.5112064480781555\n",
            "epoch:9 cost= 0.6418387293815613\n",
            "--------------------------------------------------\n",
            "epoch:10 cost= 0.5242249965667725\n",
            "epoch:10 cost= 0.6536989808082581\n",
            "--------------------------------------------------\n",
            "epoch:11 cost= 0.5144804120063782\n",
            "epoch:11 cost= 0.6463298201560974\n",
            "--------------------------------------------------\n"
          ],
          "name": "stdout"
        }
      ]
    },
    {
      "cell_type": "code",
      "metadata": {
        "id": "3N7hKUF7DnR4",
        "colab_type": "code",
        "colab": {
          "base_uri": "https://localhost:8080/",
          "height": 265
        },
        "outputId": "1c38378a-70a5-415f-ca12-b312ec0c7a3b"
      },
      "source": [
        "plt.plot(train_losses,label='Train')\n",
        "plt.plot(val_losses,label='Val')\n",
        "plt.legend()\n",
        "plt.show()"
      ],
      "execution_count": 13,
      "outputs": [
        {
          "output_type": "display_data",
          "data": {
            "image/png": "[encoded data removed]",
            "text/plain": [
              "<Figure size 432x288 with 1 Axes>"
            ]
          },
          "metadata": {
            "tags": [],
            "needs_background": "light"
          }
        }
      ]
    },
    {
      "cell_type": "code",
      "metadata": {
        "id": "-VMHtYW7DnXR",
        "colab_type": "code",
        "colab": {
          "base_uri": "https://localhost:8080/",
          "height": 36
        },
        "outputId": "c02ea3dd-95c8-43e4-acea-d51a3fc00b63"
      },
      "source": [
        "with torch.no_grad():\n",
        "    correct=0\n",
        "    total=0\n",
        "    \n",
        "    for i,data in enumerate(test_loader):\n",
        "        imgs,labels=data\n",
        "        imgs=imgs.view(-1,28*28).to(device)\n",
        "        labels=labels.to(device)\n",
        "\n",
        "        prediction=model(imgs)\n",
        "        _,argmax= torch.max(prediction,1)\n",
        "        total += imgs.size(0)\n",
        "        correct += (labels == argmax).sum().item()\n",
        "    \n",
        "    print('Test accuracy for {} images: {:.2f}%'.format(total, correct / total * 100))"
      ],
      "execution_count": 14,
      "outputs": [
        {
          "output_type": "stream",
          "text": [
            "Test accuracy for 10000 images: 80.67%\n"
          ],
          "name": "stdout"
        }
      ]
    },
    {
      "cell_type": "code",
      "metadata": {
        "id": "PV3SPC1ADnPr",
        "colab_type": "code",
        "colab": {}
      },
      "source": [
        ""
      ],
      "execution_count": 0,
      "outputs": []
    },
    {
      "cell_type": "code",
      "metadata": {
        "id": "Ye00DxpT_-3P",
        "colab_type": "code",
        "colab": {}
      },
      "source": [
        ""
      ],
      "execution_count": 0,
      "outputs": []
    }
  ]
}