{
  "nbformat": 4,
  "nbformat_minor": 0,
  "metadata": {
    "colab": {
      "name": "DNN.ipynb의 사본",
      "provenance": [],
      "collapsed_sections": [],
      "authorship_tag": "ABX9TyPCWUFD2nTZEbFDHWpE513I",
      "include_colab_link": true
    },
    "kernelspec": {
      "name": "python3",
      "display_name": "Python 3"
    },
    "accelerator": "GPU"
  },
  "cells": [
    {
      "cell_type": "markdown",
      "metadata": {
        "id": "view-in-github",
        "colab_type": "text"
      },
      "source": [
        "<a href=\"https://colab.research.google.com/github/leehyunggeunkeun/pytorch-study/blob/master/DNN_ipynb%EC%9D%98_%EC%82%AC%EB%B3%B8.ipynb\" target=\"_parent\"><img src=\"https://colab.research.google.com/assets/colab-badge.svg\" alt=\"Open In Colab\"/></a>"
      ]
    },
    {
      "cell_type": "markdown",
      "metadata": {
        "id": "gCzUM1Hh_2y7",
        "colab_type": "text"
      },
      "source": [
        "MNIST 데이터셋으로 softmax classfication"
      ]
    },
    {
      "cell_type": "code",
      "metadata": {
        "id": "xwHwzZmhuTh5",
        "colab_type": "code",
        "colab": {}
      },
      "source": [
        "#edwith 부스트코스 파이토치 강의를 보면서 필사하고 느낀점 및 방법들을 까먹지 않게 정리함...\n",
        "#출처 edwith 부스트 코스 pytorch 강의 "
      ],
      "execution_count": 0,
      "outputs": []
    },
    {
      "cell_type": "code",
      "metadata": {
        "id": "xFDZZWhP_-xN",
        "colab_type": "code",
        "colab": {}
      },
      "source": [
        "#필요한 라이브러리 불러오기\n",
        "\n",
        "#기본\n",
        "import torch\n",
        "import torch.nn as nn\n",
        "import torch.nn.functional as F\n",
        "import torch.optim as optim\n",
        "\n",
        "#기존 데이터셋 불러오기\n",
        "import torchvision.datasets as dsets         \n",
        "import torchvision.transforms as transforms  #다양한 이미지 변환\n",
        "\n",
        "import random"
      ],
      "execution_count": 0,
      "outputs": []
    },
    {
      "cell_type": "code",
      "metadata": {
        "id": "13mzi89-AhJv",
        "colab_type": "code",
        "colab": {}
      },
      "source": [
        "#gpu 사용하기\n",
        "\n",
        "device = 'cuda' if torch.cuda.is_available() else 'cpu'\n",
        "random.seed(111)\n",
        "torch.manual_seed(777)\n",
        "if device == 'cuda':\n",
        "    torch.cuda.manual_seed_all(777)"
      ],
      "execution_count": 0,
      "outputs": []
    },
    {
      "cell_type": "code",
      "metadata": {
        "id": "bFpAipMIA4ye",
        "colab_type": "code",
        "colab": {}
      },
      "source": [
        "#hyperparameters\n",
        "\n",
        "lr = 0.001\n",
        "training_epochs = 15\n",
        "batch_size = 100"
      ],
      "execution_count": 0,
      "outputs": []
    },
    {
      "cell_type": "code",
      "metadata": {
        "id": "wBzY6cjIBDSF",
        "colab_type": "code",
        "colab": {}
      },
      "source": [
        "mnist_train = dsets.MNIST(root='MNIST_data/',train=True,transform=transforms.ToTensor(),download=True)\n",
        "\n",
        "mnist_test = dsets.MNIST(root='MNIST_data/',train=False,transform=transforms.ToTensor(),download=True)"
      ],
      "execution_count": 0,
      "outputs": []
    },
    {
      "cell_type": "code",
      "metadata": {
        "id": "2Yqn6cJABri3",
        "colab_type": "code",
        "colab": {}
      },
      "source": [
        "#데이터셋 불러오기\n",
        "\n",
        "dataloader = torch.utils.data.DataLoader(dataset=mnist_train, batch_size=batch_size, shuffle=True, drop_last=True)"
      ],
      "execution_count": 0,
      "outputs": []
    },
    {
      "cell_type": "code",
      "metadata": {
        "id": "18EYREIhB7d4",
        "colab_type": "code",
        "colab": {}
      },
      "source": [
        "#layer를 한번 쌓아보자....\n",
        "\n",
        "linear1=torch.nn.Linear(784,256,bias=True)\n",
        "linear2=torch.nn.Linear(256,128,bias=True)\n",
        "linear3=torch.nn.Linear(128,64,bias=True)\n",
        "linear4=torch.nn.Linear(64,32,bias=True)    \n",
        "linear5=torch.nn.Linear(32,10,bias=True) \n",
        "\n",
        "relu=torch.nn.ReLU()\n",
        "\n"
      ],
      "execution_count": 0,
      "outputs": []
    },
    {
      "cell_type": "code",
      "metadata": {
        "id": "GGufNjEQCEBF",
        "colab_type": "code",
        "outputId": "7dda7c95-ef42-4024-8f22-515151bc43ad",
        "colab": {
          "base_uri": "https://localhost:8080/",
          "height": 756
        }
      },
      "source": [
        "#초기화\n",
        "torch.nn.init.normal_(linear1.weight)\n",
        "torch.nn.init.normal_(linear2.weight)\n",
        "torch.nn.init.normal_(linear3.weight)\n",
        "torch.nn.init.normal_(linear4.weight)\n",
        "torch.nn.init.normal_(linear5.weight) "
      ],
      "execution_count": 0,
      "outputs": [
        {
          "output_type": "execute_result",
          "data": {
            "text/plain": [
              "Parameter containing:\n",
              "tensor([[-0.8760, -0.2428, -0.0590,  0.1154,  0.1392, -2.1023, -1.3665,  1.6940,\n",
              "         -0.3535, -0.4622, -0.9144, -2.4040, -1.0246,  1.2613, -0.8845, -0.5964,\n",
              "          0.8419, -0.2984, -0.2444, -0.7330,  0.6643,  0.3606,  0.0785, -0.0251,\n",
              "          0.1463,  0.6727, -0.9334,  0.0913, -0.2854,  1.2619,  0.0364,  1.2454],\n",
              "        [-0.4429,  0.1839,  1.3681, -0.0368, -0.1383,  1.3645,  0.1795,  0.3320,\n",
              "         -0.7304,  1.1410,  1.8497,  1.3517, -3.2752,  2.0577,  0.7026,  0.6041,\n",
              "          0.2571,  1.9346, -0.5456, -1.4699,  0.6691, -3.0588, -1.0069, -0.1531,\n",
              "         -2.0676,  1.0222,  0.0523, -0.5590,  0.2663,  0.7497, -0.9099,  1.4027],\n",
              "        [ 0.3852,  2.2101, -1.5015, -0.6829,  0.3430, -0.5899, -0.5412, -1.3859,\n",
              "          1.5074, -0.9125, -0.4844, -0.5480, -0.4807, -0.5619,  0.5002,  1.0479,\n",
              "          1.5341, -0.9516,  0.0034,  0.6849,  0.0748, -0.2988, -0.8951,  0.0170,\n",
              "          0.1203, -0.2802, -1.2814,  1.2865,  0.2399,  0.3876,  1.4302, -0.7666],\n",
              "        [-1.8724, -0.2514, -0.9778, -0.0463, -0.2349,  0.6859,  0.2419,  1.8770,\n",
              "          0.3279,  0.9151,  0.6328,  0.1364,  0.0112, -1.0298,  0.0298,  0.2789,\n",
              "          0.1822,  0.3317, -0.6880, -0.2385,  0.2597,  0.6004,  0.4157,  0.4556,\n",
              "         -0.2989, -0.6979,  1.0488, -0.7182,  0.6565, -0.6063, -2.1994, -0.3400],\n",
              "        [ 1.5934,  0.4671, -0.6022,  0.4055, -1.0027,  0.2390,  0.5056,  0.5204,\n",
              "          0.1854, -1.1271,  0.6965,  1.1637,  1.3512,  0.2747,  0.0983,  0.5796,\n",
              "         -0.6514, -0.8025, -0.9902, -1.4581,  0.5787,  0.7435,  0.1690,  0.8503,\n",
              "          0.7681,  0.6488,  1.1507, -0.4447,  1.9859, -1.2649,  1.4433,  1.5439],\n",
              "        [-0.2760, -0.7097,  1.1859,  0.8677,  0.0380, -1.3708,  0.7039,  0.4456,\n",
              "         -0.4027, -0.3856, -0.6638, -0.1493, -1.0177,  1.5190, -0.6962,  0.5163,\n",
              "         -1.0773, -0.9040, -0.0802,  0.1042, -1.3553,  0.1056, -0.7934, -1.3633,\n",
              "         -0.5651, -0.4734,  0.3707, -1.3995, -0.5507, -0.8454, -0.3222,  0.0902],\n",
              "        [-0.1954, -0.3645, -0.1377,  1.2979,  0.5955,  1.5258, -0.6381,  0.0410,\n",
              "          0.9770,  1.4061,  0.0794,  0.3666, -0.9110,  1.5838, -1.5427,  1.0272,\n",
              "         -0.3731,  0.2619,  0.1821, -0.4752,  0.4237,  0.2654,  0.0284,  0.7251,\n",
              "          0.0255,  0.3605, -0.4610,  0.3641, -1.2300,  0.1145, -1.4955, -0.2016],\n",
              "        [ 1.2548,  0.5632, -0.2714,  2.0952,  0.9674,  0.8014,  0.2340, -0.7340,\n",
              "         -0.7106,  0.0911,  0.1824,  0.0625, -1.6248,  1.0412,  1.6765, -0.0241,\n",
              "         -0.1715, -0.4244, -0.0759,  0.6378,  0.0660,  0.5268,  1.1630,  0.7519,\n",
              "         -0.5462,  1.6258,  0.1170,  0.0164, -1.1678, -0.6859, -0.5075,  1.0143],\n",
              "        [ 1.7716, -0.2734, -1.4921, -0.5095,  1.5223, -1.0865,  0.1057,  1.4151,\n",
              "          1.6764, -1.2402, -0.3336,  0.3578,  0.3547, -0.3528,  0.8346,  0.2985,\n",
              "         -1.5384,  0.4605, -0.2662, -0.0789, -1.2371,  1.2775,  0.1596, -0.2021,\n",
              "          1.1615, -0.2041,  0.7810,  2.6347, -1.8458, -1.0159, -0.6744, -0.5237],\n",
              "        [ 0.8648, -1.3729,  0.1207, -1.1715, -0.8528,  0.2466,  1.1905, -0.2676,\n",
              "         -0.2561, -1.5826, -0.0891, -0.5608, -0.6481, -1.1053,  0.2668,  1.2709,\n",
              "         -0.1136,  0.8068,  1.1440, -0.0965,  0.4554,  1.1226,  0.9616,  0.3360,\n",
              "         -0.5901, -0.3998, -0.6851, -0.7589,  0.9744,  1.3738,  0.4867,  1.9154]],\n",
              "       requires_grad=True)"
            ]
          },
          "metadata": {
            "tags": []
          },
          "execution_count": 7
        }
      ]
    },
    {
      "cell_type": "code",
      "metadata": {
        "id": "eQ8pDO3FFdKQ",
        "colab_type": "code",
        "colab": {}
      },
      "source": [
        "model = torch.nn.Sequential(linear1, relu,linear2, relu,linear3,relu,linear4,relu,linear5).to(device)"
      ],
      "execution_count": 0,
      "outputs": []
    },
    {
      "cell_type": "code",
      "metadata": {
        "id": "cNOpWUYLCSbV",
        "colab_type": "code",
        "colab": {}
      },
      "source": [
        "criterion = torch.nn.CrossEntropyLoss().to(device)     \n",
        "optimizer = torch.optim.Adam(model.parameters(), lr=lr)"
      ],
      "execution_count": 0,
      "outputs": []
    },
    {
      "cell_type": "code",
      "metadata": {
        "id": "44fpEw-8DWxT",
        "colab_type": "code",
        "outputId": "ef487605-1fcf-42b1-a75a-06c252d8a420",
        "colab": {
          "base_uri": "https://localhost:8080/",
          "height": 298
        }
      },
      "source": [
        "total_batch=len(dataloader)\n",
        "\n",
        "\n",
        "for epoch in range(training_epochs):\n",
        "    avg_cost=0\n",
        "\n",
        "    for x,y in dataloader:\n",
        "        x=x.view(-1,784).to(device)\n",
        "        y=y.to(device)\n",
        "\n",
        "        optimizer.zero_grad()\n",
        "        hypothesis=model(x)\n",
        "        cost = criterion(hypothesis, y)\n",
        "        cost.backward()\n",
        "        optimizer.step()\n",
        "\n",
        "        avg_cost += cost / total_batch\n",
        "\n",
        "    print('Epoch:', '%04d' % (epoch + 1), 'cost =', '{:.9f}'.format(avg_cost))\n",
        "\n",
        "print('Learning finished')\n"
      ],
      "execution_count": 0,
      "outputs": [
        {
          "output_type": "stream",
          "text": [
            "Epoch: 0001 cost = 1526.032958984\n",
            "Epoch: 0002 cost = 276.694458008\n",
            "Epoch: 0003 cost = 154.710083008\n",
            "Epoch: 0004 cost = 100.505905151\n",
            "Epoch: 0005 cost = 70.059188843\n",
            "Epoch: 0006 cost = 51.572326660\n",
            "Epoch: 0007 cost = 38.485992432\n",
            "Epoch: 0008 cost = 29.354921341\n",
            "Epoch: 0009 cost = 22.394456863\n",
            "Epoch: 0010 cost = 17.481502533\n",
            "Epoch: 0011 cost = 13.946192741\n",
            "Epoch: 0012 cost = 10.915907860\n",
            "Epoch: 0013 cost = 8.931630135\n",
            "Epoch: 0014 cost = 7.279120922\n",
            "Epoch: 0015 cost = 6.125812054\n",
            "Learning finished\n"
          ],
          "name": "stdout"
        }
      ]
    },
    {
      "cell_type": "code",
      "metadata": {
        "id": "52yjNTpfD9bX",
        "colab_type": "code",
        "outputId": "f8fe9c83-0927-4742-ed98-b7486239237c",
        "colab": {
          "base_uri": "https://localhost:8080/",
          "height": 70
        }
      },
      "source": [
        "# Test the model using test sets\n",
        "with torch.no_grad():\n",
        "    \n",
        "    x_test = mnist_test.data.view(-1, 784).float().to(device)\n",
        "    y_test = mnist_test.targets.to(device)\n",
        "\n",
        "    prediction = model(x_test)\n",
        "    correct_prediction = torch.argmax(prediction, 1) == y_test\n",
        "    accuracy = correct_prediction.float().mean()\n",
        "    print('Accuracy:', accuracy.item())\n",
        "\n",
        "    # Get one and predict\n",
        "    r = random.randint(0, len(mnist_test) - 1)\n",
        "    x_single_data = mnist_test.data[r:r + 1].view(-1, 784).float().to(device)\n",
        "    y_single_data = mnist_test.targets[r:r + 1].to(device)\n",
        "\n",
        "    print('Label: ', y_single_data.item())\n",
        "    single_prediction = model(x_single_data)\n",
        "    print('Prediction: ', torch.argmax(single_prediction, 1).item())\n"
      ],
      "execution_count": 0,
      "outputs": [
        {
          "output_type": "stream",
          "text": [
            "Accuracy: 0.9134999513626099\n",
            "Label:  9\n",
            "Prediction:  9\n"
          ],
          "name": "stdout"
        }
      ]
    },
    {
      "cell_type": "markdown",
      "metadata": {
        "id": "1i4fbZKnR-3p",
        "colab_type": "text"
      },
      "source": [
        "cs231n 강의에서도 딴거 말고 걍 Batch Normalization 하라 했음...\n",
        "Batch Normalization 에 대해 알아보자"
      ]
    },
    {
      "cell_type": "code",
      "metadata": {
        "id": "OoNu1bXhSHya",
        "colab_type": "code",
        "colab": {}
      },
      "source": [
        ""
      ],
      "execution_count": 0,
      "outputs": []
    }
  ]
}