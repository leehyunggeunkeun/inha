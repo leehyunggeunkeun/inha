{
  "nbformat": 4,
  "nbformat_minor": 0,
  "metadata": {
    "colab": {
      "name": "1.Basic ML.ipynb",
      "provenance": [],
      "collapsed_sections": [],
      "authorship_tag": "ABX9TyMFYeHUaDnsI54VVJEXj8my",
      "include_colab_link": true
    },
    "kernelspec": {
      "name": "python3",
      "display_name": "Python 3"
    }
  },
  "cells": [
    {
      "cell_type": "markdown",
      "metadata": {
        "id": "view-in-github",
        "colab_type": "text"
      },
      "source": [
        "<a href=\"https://colab.research.google.com/github/leehyunggeunkeun/pytorch-study/blob/master/Edwith/1_Basic_ML.ipynb\" target=\"_parent\"><img src=\"https://colab.research.google.com/assets/colab-badge.svg\" alt=\"Open In Colab\"/></a>"
      ]
    },
    {
      "cell_type": "code",
      "metadata": {
        "id": "CC9v_F_BAgXN",
        "colab_type": "code",
        "colab": {}
      },
      "source": [
        "#edwith 부스트코스 파이토치 강의를 보면서 필사하고 느낀점 및 방법들을 까먹지 않게 정리함...\n",
        "#출처 edwith 부스트 코스 pytorch 강의"
      ],
      "execution_count": 0,
      "outputs": []
    },
    {
      "cell_type": "code",
      "metadata": {
        "id": "J5nMuHiLPK0n",
        "colab_type": "code",
        "colab": {}
      },
      "source": [
        "import torch\n",
        "import torch.nn as nn\n",
        "import torch.nn.functional as F\n",
        "import torch.optim as optim\n",
        "\n",
        "#데이터셋을 만들고 데이터를 로더하는데 이용\n",
        "from torch.utils.data import Dataset\n",
        "from torch.utils.data import DataLoader"
      ],
      "execution_count": 0,
      "outputs": []
    },
    {
      "cell_type": "code",
      "metadata": {
        "id": "hSSprNWIFGND",
        "colab_type": "code",
        "colab": {}
      },
      "source": [
        "x=torch.FloatTensor([[1,2],[3,4]])\n",
        "y=torch.FloatTensor([[5,6],[7,8]])"
      ],
      "execution_count": 0,
      "outputs": []
    },
    {
      "cell_type": "code",
      "metadata": {
        "id": "v-cmHtWTFMkQ",
        "colab_type": "code",
        "outputId": "2d546250-9f93-423c-f108-651edc3387ae",
        "colab": {
          "base_uri": "https://localhost:8080/",
          "height": 105
        }
      },
      "source": [
        "torch.cat([x,y],dim=0), torch.cat([x,y],dim=1)"
      ],
      "execution_count": 4,
      "outputs": [
        {
          "output_type": "execute_result",
          "data": {
            "text/plain": [
              "(tensor([[1., 2.],\n",
              "         [3., 4.],\n",
              "         [5., 6.],\n",
              "         [7., 8.]]), tensor([[1., 2., 5., 6.],\n",
              "         [3., 4., 7., 8.]]))"
            ]
          },
          "metadata": {
            "tags": []
          },
          "execution_count": 4
        }
      ]
    },
    {
      "cell_type": "code",
      "metadata": {
        "id": "-6RlFEX6FQ93",
        "colab_type": "code",
        "outputId": "32e6232a-3a38-4f8b-b6cc-940ce3a6796d",
        "colab": {
          "base_uri": "https://localhost:8080/",
          "height": 87
        }
      },
      "source": [
        "print(torch.ones_like(x)) \n",
        "print(torch.zeros_like(x))"
      ],
      "execution_count": 5,
      "outputs": [
        {
          "output_type": "stream",
          "text": [
            "tensor([[1., 1.],\n",
            "        [1., 1.]])\n",
            "tensor([[0., 0.],\n",
            "        [0., 0.]])\n"
          ],
          "name": "stdout"
        }
      ]
    },
    {
      "cell_type": "code",
      "metadata": {
        "id": "oqRIrNhiGAm2",
        "colab_type": "code",
        "colab": {}
      },
      "source": [
        "x_train=torch.FloatTensor([[1],[2],[3]])\n",
        "y_train=torch.FloatTensor([[2],[4],[6]])"
      ],
      "execution_count": 0,
      "outputs": []
    },
    {
      "cell_type": "code",
      "metadata": {
        "id": "lrgqdFVdHx-J",
        "colab_type": "code",
        "colab": {}
      },
      "source": [
        "w=torch.zeros(1,requires_grad=True)\n",
        "b=torch.zeros(1,requires_grad=True)"
      ],
      "execution_count": 0,
      "outputs": []
    },
    {
      "cell_type": "code",
      "metadata": {
        "id": "lumRjdMkIK8K",
        "colab_type": "code",
        "colab": {}
      },
      "source": [
        "optimizer=optim.SGD([w,b],lr=0.01)"
      ],
      "execution_count": 0,
      "outputs": []
    },
    {
      "cell_type": "code",
      "metadata": {
        "id": "KgBLxMwwILCn",
        "colab_type": "code",
        "colab": {}
      },
      "source": [
        "nb_epochs=1000\n",
        "for epoch in range(1,nb_epochs+1):\n",
        "    hypothesis=x_train.matmul(w)+b\n",
        "    cost=torch.mean((hypothesis-y_train)**2)\n",
        "\n",
        "    #항상 붙어다니는 3개\n",
        "\n",
        "    optimizer.zero_grad()   #gradient 초기화\n",
        "    cost.backward()         #gradient 계산\n",
        "    optimizer.step()        #개선"
      ],
      "execution_count": 0,
      "outputs": []
    },
    {
      "cell_type": "markdown",
      "metadata": {
        "id": "zir9TV7ocK3T",
        "colab_type": "text"
      },
      "source": [
        "간단한 다중회귀 예제"
      ]
    },
    {
      "cell_type": "code",
      "metadata": {
        "id": "xWhSGYMjILEy",
        "colab_type": "code",
        "colab": {}
      },
      "source": [
        "x_train=torch.FloatTensor([[73,80,75],\n",
        "                           [93,88,93],\n",
        "                           [89,91,90],\n",
        "                           [96,98,100],\n",
        "                           [73,66,70]])\n",
        "y_train=torch.FloatTensor([[152],[185],[180],[196],[142]])"
      ],
      "execution_count": 0,
      "outputs": []
    },
    {
      "cell_type": "code",
      "metadata": {
        "id": "huAUtyWaILG7",
        "colab_type": "code",
        "outputId": "b8d7d246-96fe-462f-b915-b5ef9c5c6d78",
        "colab": {
          "base_uri": "https://localhost:8080/",
          "height": 386
        }
      },
      "source": [
        "w = torch.zeros((3, 1), requires_grad=True)\n",
        "b = torch.zeros(1, requires_grad=True)\n",
        "# optimizer 설정\n",
        "optimizer = optim.SGD([w, b], lr=1e-5)\n",
        "\n",
        "nb_epochs = 20\n",
        "for epoch in range(nb_epochs + 1):\n",
        "    \n",
        "    # H(x) 계산\n",
        "    hypothesis = x_train.matmul(w) + b # or .mm or @\n",
        "\n",
        "    # cost 계산\n",
        "    cost = torch.mean((hypothesis - y_train) ** 2)\n",
        "\n",
        "    # cost로 H(x) 개선\n",
        "    optimizer.zero_grad()\n",
        "    cost.backward()\n",
        "    optimizer.step()\n",
        "\n",
        "    # 100번마다 로그 출력\n",
        "    print('Epoch {:4d}/{} hypothesis: {} Cost: {:.6f}'.format(\n",
        "        epoch, nb_epochs, hypothesis.squeeze().detach(), cost.item()\n",
        "    ))"
      ],
      "execution_count": 11,
      "outputs": [
        {
          "output_type": "stream",
          "text": [
            "Epoch    0/20 hypothesis: tensor([0., 0., 0., 0., 0.]) Cost: 29661.800781\n",
            "Epoch    1/20 hypothesis: tensor([67.2578, 80.8397, 79.6523, 86.7394, 61.6605]) Cost: 9298.520508\n",
            "Epoch    2/20 hypothesis: tensor([104.9128, 126.0990, 124.2466, 135.3015,  96.1821]) Cost: 2915.712402\n",
            "Epoch    3/20 hypothesis: tensor([125.9942, 151.4381, 149.2133, 162.4896, 115.5097]) Cost: 915.040527\n",
            "Epoch    4/20 hypothesis: tensor([137.7967, 165.6247, 163.1911, 177.7112, 126.3307]) Cost: 287.936096\n",
            "Epoch    5/20 hypothesis: tensor([144.4044, 173.5674, 171.0168, 186.2332, 132.3891]) Cost: 91.371071\n",
            "Epoch    6/20 hypothesis: tensor([148.1035, 178.0143, 175.3980, 191.0042, 135.7812]) Cost: 29.758249\n",
            "Epoch    7/20 hypothesis: tensor([150.1744, 180.5042, 177.8509, 193.6753, 137.6805]) Cost: 10.445267\n",
            "Epoch    8/20 hypothesis: tensor([151.3336, 181.8983, 179.2240, 195.1707, 138.7440]) Cost: 4.391237\n",
            "Epoch    9/20 hypothesis: tensor([151.9824, 182.6789, 179.9928, 196.0079, 139.3396]) Cost: 2.493121\n",
            "Epoch   10/20 hypothesis: tensor([152.3454, 183.1161, 180.4231, 196.4765, 139.6732]) Cost: 1.897688\n",
            "Epoch   11/20 hypothesis: tensor([152.5485, 183.3609, 180.6640, 196.7389, 139.8602]) Cost: 1.710552\n",
            "Epoch   12/20 hypothesis: tensor([152.6620, 183.4982, 180.7988, 196.8857, 139.9651]) Cost: 1.651416\n",
            "Epoch   13/20 hypothesis: tensor([152.7253, 183.5752, 180.8742, 196.9678, 140.0240]) Cost: 1.632369\n",
            "Epoch   14/20 hypothesis: tensor([152.7606, 183.6184, 180.9164, 197.0138, 140.0571]) Cost: 1.625924\n",
            "Epoch   15/20 hypothesis: tensor([152.7802, 183.6427, 180.9399, 197.0395, 140.0759]) Cost: 1.623420\n",
            "Epoch   16/20 hypothesis: tensor([152.7909, 183.6565, 180.9530, 197.0538, 140.0865]) Cost: 1.622152\n",
            "Epoch   17/20 hypothesis: tensor([152.7968, 183.6643, 180.9603, 197.0618, 140.0927]) Cost: 1.621261\n",
            "Epoch   18/20 hypothesis: tensor([152.7999, 183.6688, 180.9644, 197.0661, 140.0963]) Cost: 1.620501\n",
            "Epoch   19/20 hypothesis: tensor([152.8014, 183.6715, 180.9665, 197.0686, 140.0985]) Cost: 1.619757\n",
            "Epoch   20/20 hypothesis: tensor([152.8020, 183.6731, 180.9677, 197.0699, 140.0999]) Cost: 1.619046\n"
          ],
          "name": "stdout"
        }
      ]
    },
    {
      "cell_type": "markdown",
      "metadata": {
        "id": "fvSXDPjmcOqE",
        "colab_type": "text"
      },
      "source": [
        "실제 사용되는 일반적인 예제"
      ]
    },
    {
      "cell_type": "code",
      "metadata": {
        "id": "4l0h1fhMdFH1",
        "colab_type": "code",
        "colab": {}
      },
      "source": [
        "class LinearRegressionModel(nn.Module):  #선형회귀 클래스 만들기\n",
        "    def __init__(self):\n",
        "        super().__init__()\n",
        "        self.linear = nn.Linear(1, 1)\n",
        "\n",
        "    def forward(self, x):\n",
        "        return self.linear(x)"
      ],
      "execution_count": 0,
      "outputs": []
    },
    {
      "cell_type": "code",
      "metadata": {
        "id": "weHmfjcKdFFb",
        "colab_type": "code",
        "colab": {}
      },
      "source": [
        "class MultivariateLinearRegressionModel(nn.Module):  #다중선형회귀 클래스 만들기\n",
        "    def __init__(self):\n",
        "        super().__init__()\n",
        "        self.linear = nn.Linear(3, 1)\n",
        "\n",
        "    def forward(self, x):\n",
        "        return self.linear(x)"
      ],
      "execution_count": 0,
      "outputs": []
    },
    {
      "cell_type": "code",
      "metadata": {
        "id": "SZX9F94fdFCi",
        "colab_type": "code",
        "outputId": "67bfddc4-0d9b-458b-d922-689d8f181f1d",
        "colab": {
          "base_uri": "https://localhost:8080/",
          "height": 386
        }
      },
      "source": [
        "# 데이터\n",
        "x_train = torch.FloatTensor([[73, 80, 75],\n",
        "                             [93, 88, 93],\n",
        "                             [89, 91, 90],\n",
        "                             [96, 98, 100],\n",
        "                             [73, 66, 70]])\n",
        "y_train = torch.FloatTensor([[152], [185], [180], [196], [142]])\n",
        "# 모델 초기화\n",
        "model = MultivariateLinearRegressionModel()\n",
        "# optimizer 설정\n",
        "optimizer = optim.SGD(model.parameters(), lr=1e-5)\n",
        "\n",
        "nb_epochs = 20\n",
        "for epoch in range(nb_epochs+1):\n",
        "    \n",
        "    # H(x) 계산\n",
        "    prediction = model(x_train)\n",
        "    \n",
        "    # cost 계산\n",
        "    cost = F.mse_loss(prediction, y_train)\n",
        "    \n",
        "    # cost로 H(x) 개선\n",
        "    optimizer.zero_grad()\n",
        "    cost.backward()\n",
        "    optimizer.step()\n",
        "    \n",
        "    # 20번마다 로그 출력\n",
        "    print('Epoch {:4d}/{} Cost: {:.6f}'.format(\n",
        "        epoch, nb_epochs, cost.item()\n",
        "    ))"
      ],
      "execution_count": 14,
      "outputs": [
        {
          "output_type": "stream",
          "text": [
            "Epoch    0/20 Cost: 60050.960938\n",
            "Epoch    1/20 Cost: 18825.099609\n",
            "Epoch    2/20 Cost: 5902.977539\n",
            "Epoch    3/20 Cost: 1852.578857\n",
            "Epoch    4/20 Cost: 582.992310\n",
            "Epoch    5/20 Cost: 185.043091\n",
            "Epoch    6/20 Cost: 60.306183\n",
            "Epoch    7/20 Cost: 21.206503\n",
            "Epoch    8/20 Cost: 8.949690\n",
            "Epoch    9/20 Cost: 5.106713\n",
            "Epoch   10/20 Cost: 3.900951\n",
            "Epoch   11/20 Cost: 3.521895\n",
            "Epoch   12/20 Cost: 3.401890\n",
            "Epoch   13/20 Cost: 3.363150\n",
            "Epoch   14/20 Cost: 3.349870\n",
            "Epoch   15/20 Cost: 3.344558\n",
            "Epoch   16/20 Cost: 3.341729\n",
            "Epoch   17/20 Cost: 3.339708\n",
            "Epoch   18/20 Cost: 3.337922\n",
            "Epoch   19/20 Cost: 3.336215\n",
            "Epoch   20/20 Cost: 3.334541\n"
          ],
          "name": "stdout"
        }
      ]
    },
    {
      "cell_type": "code",
      "metadata": {
        "id": "MJ2OQzsfeMww",
        "colab_type": "code",
        "colab": {}
      },
      "source": [
        "class CustomDataset():\n",
        "    def __init__(self):\n",
        "        self.x_data=        [[73, 80, 75],\n",
        "                             [93, 88, 93],\n",
        "                             [89, 91, 90],\n",
        "                             [96, 98, 100],\n",
        "                             [73, 66, 70]]\n",
        "        self.y_data =[[152], [185], [180], [196], [142]]\n",
        "\n",
        "\n",
        "    def __len__(self):                          #__len__() 데이터셋의 총 데이터수\n",
        "        return len(self.x_data)\n",
        "\n",
        "    def __getitem__(self,idx):                  #__getitem__() 어떠한 인덱스 idx를 받았을때, 그에 상응하는 입출력 데이터 반환\n",
        "        x=torch.FloatTensor(self.x_data[idx])\n",
        "        y=torch.FloatTensor(self.y_data[idx])\n",
        "        return x,y\n"
      ],
      "execution_count": 0,
      "outputs": []
    },
    {
      "cell_type": "code",
      "metadata": {
        "id": "80T3y6WVeMzb",
        "colab_type": "code",
        "colab": {}
      },
      "source": [
        "dataset=CustomDataset()\n",
        "dataloader=DataLoader(dataset,batch_size=len(dataset))"
      ],
      "execution_count": 0,
      "outputs": []
    },
    {
      "cell_type": "code",
      "metadata": {
        "id": "dzRIpMcHeM3Q",
        "colab_type": "code",
        "outputId": "82110d92-9950-4cc1-aa99-36d124d4e907",
        "colab": {
          "base_uri": "https://localhost:8080/",
          "height": 386
        }
      },
      "source": [
        "nb_epochs=20\n",
        "for epoch in range(nb_epochs+1):\n",
        "    for batch_idx, samples in enumerate(dataloader):\n",
        "        x_train,y_train =  samples\n",
        "\n",
        "        prediction=model(x_train)\n",
        "        # cost 계산\n",
        "        cost = F.mse_loss(prediction, y_train)\n",
        "    \n",
        "        # cost로 H(x) 개선\n",
        "        optimizer.zero_grad()\n",
        "        cost.backward()\n",
        "        optimizer.step()\n",
        "    \n",
        "        # 20번마다 로그 출력\n",
        "        print('Epoch {:4d}/{} Cost: {:.6f}'.format(\n",
        "        epoch, nb_epochs, cost.item()\n",
        "        ))"
      ],
      "execution_count": 17,
      "outputs": [
        {
          "output_type": "stream",
          "text": [
            "Epoch    0/20 Cost: 3.332879\n",
            "Epoch    1/20 Cost: 3.331219\n",
            "Epoch    2/20 Cost: 3.329546\n",
            "Epoch    3/20 Cost: 3.327886\n",
            "Epoch    4/20 Cost: 3.326223\n",
            "Epoch    5/20 Cost: 3.324545\n",
            "Epoch    6/20 Cost: 3.322882\n",
            "Epoch    7/20 Cost: 3.321221\n",
            "Epoch    8/20 Cost: 3.319584\n",
            "Epoch    9/20 Cost: 3.317912\n",
            "Epoch   10/20 Cost: 3.316266\n",
            "Epoch   11/20 Cost: 3.314611\n",
            "Epoch   12/20 Cost: 3.312946\n",
            "Epoch   13/20 Cost: 3.311310\n",
            "Epoch   14/20 Cost: 3.309636\n",
            "Epoch   15/20 Cost: 3.308004\n",
            "Epoch   16/20 Cost: 3.306324\n",
            "Epoch   17/20 Cost: 3.304686\n",
            "Epoch   18/20 Cost: 3.303048\n",
            "Epoch   19/20 Cost: 3.301390\n",
            "Epoch   20/20 Cost: 3.299741\n"
          ],
          "name": "stdout"
        }
      ]
    },
    {
      "cell_type": "code",
      "metadata": {
        "id": "sX8NlLhWeM5r",
        "colab_type": "code",
        "colab": {}
      },
      "source": [
        "# 데이터\n",
        "x_train = torch.FloatTensor(x_train)\n",
        "y_train = torch.FloatTensor(y_train)\n",
        "# 모델 초기화\n",
        "model = MultivariateLinearRegressionModel()\n",
        "# optimizer 설정\n",
        "optimizer = optim.SGD(model.parameters(), lr=1e-5)\n",
        "\n",
        "nb_epochs = 20\n",
        "for epoch in range(nb_epochs+1):\n",
        "    \n",
        "    # H(x) 계산\n",
        "    prediction = model(x_train)\n",
        "    \n",
        "    "
      ],
      "execution_count": 0,
      "outputs": []
    },
    {
      "cell_type": "markdown",
      "metadata": {
        "id": "A9pKdztRA0s3",
        "colab_type": "text"
      },
      "source": [
        "Logistic Regression"
      ]
    },
    {
      "cell_type": "code",
      "metadata": {
        "id": "yCXjGiDWA2Vx",
        "colab_type": "code",
        "colab": {}
      },
      "source": [
        "import torch\n",
        "import torch.nn as nn\n",
        "import torch.nn.functional as F\n",
        "import torch.optim as optim"
      ],
      "execution_count": 0,
      "outputs": []
    },
    {
      "cell_type": "code",
      "metadata": {
        "id": "3nATUHhxA2wl",
        "colab_type": "code",
        "colab": {
          "base_uri": "https://localhost:8080/",
          "height": 34
        },
        "outputId": "48f8b262-2490-4489-d0c6-b07f0b397b4d"
      },
      "source": [
        "torch.manual_seed(1)"
      ],
      "execution_count": 20,
      "outputs": [
        {
          "output_type": "execute_result",
          "data": {
            "text/plain": [
              "<torch._C.Generator at 0x7f9c63486cf0>"
            ]
          },
          "metadata": {
            "tags": []
          },
          "execution_count": 20
        }
      ]
    },
    {
      "cell_type": "code",
      "metadata": {
        "id": "jkv-BQ7qA2y1",
        "colab_type": "code",
        "colab": {}
      },
      "source": [
        "x_data=[[1,2],[2,3],[3,1],[4,3],[5,3],[6,2]]\n",
        "y_data=[[0],[0],[0],[1],[1],[1]]\n",
        "\n",
        "x_train=torch.FloatTensor(x_data)\n",
        "y_train=torch.FloatTensor(y_data)"
      ],
      "execution_count": 0,
      "outputs": []
    },
    {
      "cell_type": "code",
      "metadata": {
        "id": "IgWZ9i5OBxEt",
        "colab_type": "code",
        "colab": {}
      },
      "source": [
        "w=torch.zeros((2,1),requires_grad=True)\n",
        "b=torch.zeros(1,requires_grad=True)"
      ],
      "execution_count": 0,
      "outputs": []
    },
    {
      "cell_type": "code",
      "metadata": {
        "id": "Hjv_PTVBCh5Y",
        "colab_type": "code",
        "colab": {
          "base_uri": "https://localhost:8080/",
          "height": 210
        },
        "outputId": "bf121ed4-9f39-4c1e-aa37-755a26a530da"
      },
      "source": [
        "optimizer=optim.SGD([w,b],lr=1)\n",
        "\n",
        "nb_epochs=1000\n",
        "for epoch in range(nb_epochs+1):\n",
        "\n",
        "    hypothesis=torch.sigmoid(x_train.matmul(w)+b)\n",
        "    cost=F.binary_cross_entropy(hypothesis,y_train)\n",
        "\n",
        "    optimizer.zero_grad()\n",
        "    cost.backward()\n",
        "    optimizer.step()\n",
        "\n",
        "    if epoch % 100==0:\n",
        "        print('Epoch {:4d}/{} Cost: {:.6f}'.format(\n",
        "        epoch, nb_epochs, cost.item()\n",
        "        ))"
      ],
      "execution_count": 23,
      "outputs": [
        {
          "output_type": "stream",
          "text": [
            "Epoch    0/1000 Cost: 0.693147\n",
            "Epoch  100/1000 Cost: 0.134722\n",
            "Epoch  200/1000 Cost: 0.080643\n",
            "Epoch  300/1000 Cost: 0.057900\n",
            "Epoch  400/1000 Cost: 0.045300\n",
            "Epoch  500/1000 Cost: 0.037261\n",
            "Epoch  600/1000 Cost: 0.031673\n",
            "Epoch  700/1000 Cost: 0.027556\n",
            "Epoch  800/1000 Cost: 0.024394\n",
            "Epoch  900/1000 Cost: 0.021888\n",
            "Epoch 1000/1000 Cost: 0.019852\n"
          ],
          "name": "stdout"
        }
      ]
    },
    {
      "cell_type": "code",
      "metadata": {
        "id": "_pjDGmQUDCbE",
        "colab_type": "code",
        "colab": {}
      },
      "source": [
        "class BinaryClassifier(nn.Module):\n",
        "    def __init__(self):\n",
        "        super().__init__()\n",
        "        self.linear=nn.Linear(2,1)  \n",
        "        self.sigmoid=nn.Sigmoid()\n",
        "\n",
        "    def forward(self,x):\n",
        "        return self.sigmoid(self.linear(x))"
      ],
      "execution_count": 0,
      "outputs": []
    },
    {
      "cell_type": "code",
      "metadata": {
        "id": "6j0ExaXaENpe",
        "colab_type": "code",
        "colab": {}
      },
      "source": [
        "model=BinaryClassifier()"
      ],
      "execution_count": 0,
      "outputs": []
    },
    {
      "cell_type": "code",
      "metadata": {
        "id": "n4jH3eiTEPQD",
        "colab_type": "code",
        "colab": {
          "base_uri": "https://localhost:8080/",
          "height": 210
        },
        "outputId": "e41ff651-7e56-4976-9880-9e8c9d685495"
      },
      "source": [
        "optimizer=optim.SGD(model.parameters(),lr=1)\n",
        "\n",
        "nb_epochs=100\n",
        "for epoch in range(nb_epochs+1):\n",
        "\n",
        "    hypothesis=model(x_train)\n",
        "    cost=F.binary_cross_entropy(hypothesis,y_train)\n",
        "\n",
        "    optimizer.zero_grad()\n",
        "    cost.backward()\n",
        "    optimizer.step()\n",
        "\n",
        "    if epoch % 10==0:\n",
        "       prediction=hypothesis>=torch.FloatTensor([0.5])\n",
        "       correct_prediction=prediction.float()==y_train\n",
        "       accuracy=correct_prediction.sum().item()/len(correct_prediction)\n",
        "       print('Epoch {:4d}/{} Cost: {:.6f} Accuracy{:2.2f}'.format(\n",
        "        epoch, nb_epochs, cost.item(),accuracy*100\n",
        "        ))"
      ],
      "execution_count": 26,
      "outputs": [
        {
          "output_type": "stream",
          "text": [
            "Epoch    0/100 Cost: 0.539713 Accuracy83.33\n",
            "Epoch   10/100 Cost: 0.614853 Accuracy66.67\n",
            "Epoch   20/100 Cost: 0.441875 Accuracy66.67\n",
            "Epoch   30/100 Cost: 0.373145 Accuracy83.33\n",
            "Epoch   40/100 Cost: 0.316358 Accuracy83.33\n",
            "Epoch   50/100 Cost: 0.266094 Accuracy83.33\n",
            "Epoch   60/100 Cost: 0.220498 Accuracy100.00\n",
            "Epoch   70/100 Cost: 0.182095 Accuracy100.00\n",
            "Epoch   80/100 Cost: 0.157299 Accuracy100.00\n",
            "Epoch   90/100 Cost: 0.144091 Accuracy100.00\n",
            "Epoch  100/100 Cost: 0.134272 Accuracy100.00\n"
          ],
          "name": "stdout"
        }
      ]
    },
    {
      "cell_type": "markdown",
      "metadata": {
        "id": "Vyx-9WJIFpRh",
        "colab_type": "text"
      },
      "source": [
        "Softmax Classification"
      ]
    },
    {
      "cell_type": "code",
      "metadata": {
        "id": "AgBjWoviFrT5",
        "colab_type": "code",
        "colab": {}
      },
      "source": [
        "import torch\n",
        "import torch.nn as nn\n",
        "import torch.nn.functional as F\n",
        "import torch.optim as optim"
      ],
      "execution_count": 0,
      "outputs": []
    },
    {
      "cell_type": "code",
      "metadata": {
        "id": "hSMULLG7Frry",
        "colab_type": "code",
        "colab": {
          "base_uri": "https://localhost:8080/",
          "height": 34
        },
        "outputId": "200fe19e-180a-4541-ee3e-74041f41033b"
      },
      "source": [
        "torch.manual_seed(1)"
      ],
      "execution_count": 28,
      "outputs": [
        {
          "output_type": "execute_result",
          "data": {
            "text/plain": [
              "<torch._C.Generator at 0x7f9c63486cf0>"
            ]
          },
          "metadata": {
            "tags": []
          },
          "execution_count": 28
        }
      ]
    },
    {
      "cell_type": "code",
      "metadata": {
        "id": "RIvyjFFMFruW",
        "colab_type": "code",
        "colab": {}
      },
      "source": [
        "x_train=[[1,2,1,1],\n",
        "         [2,1,3,2],\n",
        "         [3,1,3,4],\n",
        "         [4,1,5,5],\n",
        "         [1,7,5,5],\n",
        "         [1,2,5,6],\n",
        "         [1,6,6,6],\n",
        "         [1,7,7,7]]\n",
        "y_train=[2,2,2,1,1,1,0,0]\n",
        "\n",
        "x_train=torch.FloatTensor(x_train)\n",
        "y_train=torch.LongTensor(y_train)"
      ],
      "execution_count": 0,
      "outputs": []
    },
    {
      "cell_type": "code",
      "metadata": {
        "id": "njTWH3iDFrw6",
        "colab_type": "code",
        "colab": {}
      },
      "source": [
        "w=torch.zeros((4,3),requires_grad=True) #sample4 class3\n",
        "b=torch.zeros(1,requires_grad=True)"
      ],
      "execution_count": 0,
      "outputs": []
    },
    {
      "cell_type": "code",
      "metadata": {
        "id": "K9kv8ed5FrzH",
        "colab_type": "code",
        "colab": {
          "base_uri": "https://localhost:8080/",
          "height": 210
        },
        "outputId": "f8b2da6a-da55-4e01-c526-ae792dd0d615"
      },
      "source": [
        "optimizer=optim.SGD([w,b],lr=0.1)\n",
        "nb_epochs=1000\n",
        "for epoch in range(nb_epochs+1):\n",
        "\n",
        "    hypothesis=x_train.matmul(w)+b\n",
        "    cost=F.cross_entropy(hypothesis,y_train)\n",
        "\n",
        "    optimizer.zero_grad()\n",
        "    cost.backward()\n",
        "    optimizer.step()\n",
        "\n",
        "    if epoch % 100==0:\n",
        "        print('Epoch {:4d}/{} Cost: {:.6f}'.format(\n",
        "        epoch, nb_epochs, cost.item()\n",
        "        ))"
      ],
      "execution_count": 31,
      "outputs": [
        {
          "output_type": "stream",
          "text": [
            "Epoch    0/1000 Cost: 1.098612\n",
            "Epoch  100/1000 Cost: 0.761050\n",
            "Epoch  200/1000 Cost: 0.689991\n",
            "Epoch  300/1000 Cost: 0.643229\n",
            "Epoch  400/1000 Cost: 0.604117\n",
            "Epoch  500/1000 Cost: 0.568255\n",
            "Epoch  600/1000 Cost: 0.533922\n",
            "Epoch  700/1000 Cost: 0.500291\n",
            "Epoch  800/1000 Cost: 0.466908\n",
            "Epoch  900/1000 Cost: 0.433506\n",
            "Epoch 1000/1000 Cost: 0.399962\n"
          ],
          "name": "stdout"
        }
      ]
    },
    {
      "cell_type": "code",
      "metadata": {
        "id": "J7B8NDmoFr3g",
        "colab_type": "code",
        "colab": {}
      },
      "source": [
        "class SoftmaxClassifierModel(nn.Module):\n",
        "    def  __init__(self):\n",
        "        super().__init__()\n",
        "        self.linear=nn.Linear(4,3)\n",
        "\n",
        "    def forward(self,x):\n",
        "        return self.linear(x)"
      ],
      "execution_count": 0,
      "outputs": []
    },
    {
      "cell_type": "code",
      "metadata": {
        "id": "bEv0nZzJFr6a",
        "colab_type": "code",
        "colab": {}
      },
      "source": [
        "model= SoftmaxClassifierModel()"
      ],
      "execution_count": 0,
      "outputs": []
    },
    {
      "cell_type": "code",
      "metadata": {
        "id": "DXgVyoyUFr-w",
        "colab_type": "code",
        "colab": {
          "base_uri": "https://localhost:8080/",
          "height": 210
        },
        "outputId": "a2b90a1b-4953-470e-a986-97e60b4be866"
      },
      "source": [
        "optimizer=optim.SGD(model.parameters(),lr=0.1)\n",
        "\n",
        "nb_epochs=1000\n",
        "for epoch in range(nb_epochs+1):\n",
        "\n",
        "    prediction=model(x_train)\n",
        "    cost=F.cross_entropy(prediction,y_train)\n",
        "\n",
        "    optimizer.zero_grad()\n",
        "    cost.backward()\n",
        "    optimizer.step()\n",
        "\n",
        "    if epoch % 100==0:\n",
        "      \n",
        "       print('Epoch {:4d}/{} Cost: {:.6f}'.format(\n",
        "        epoch, nb_epochs, cost.item()\n",
        "        ))"
      ],
      "execution_count": 34,
      "outputs": [
        {
          "output_type": "stream",
          "text": [
            "Epoch    0/1000 Cost: 1.616785\n",
            "Epoch  100/1000 Cost: 0.658891\n",
            "Epoch  200/1000 Cost: 0.573443\n",
            "Epoch  300/1000 Cost: 0.518151\n",
            "Epoch  400/1000 Cost: 0.473265\n",
            "Epoch  500/1000 Cost: 0.433516\n",
            "Epoch  600/1000 Cost: 0.396563\n",
            "Epoch  700/1000 Cost: 0.360914\n",
            "Epoch  800/1000 Cost: 0.325392\n",
            "Epoch  900/1000 Cost: 0.289178\n",
            "Epoch 1000/1000 Cost: 0.254148\n"
          ],
          "name": "stdout"
        }
      ]
    },
    {
      "cell_type": "markdown",
      "metadata": {
        "id": "ZzWsiO6tAh7A",
        "colab_type": "text"
      },
      "source": [
        "Tips"
      ]
    },
    {
      "cell_type": "code",
      "metadata": {
        "id": "Zm38VLkaAimA",
        "colab_type": "code",
        "colab": {}
      },
      "source": [
        "import torch\n",
        "import torch.nn as nn\n",
        "import torch.nn.functional as F\n",
        "import torch.optim as optim"
      ],
      "execution_count": 0,
      "outputs": []
    },
    {
      "cell_type": "code",
      "metadata": {
        "id": "Vbdzz-QtAm_Y",
        "colab_type": "code",
        "outputId": "c107b3f5-f2e8-43ba-eb31-9ceef1be83e2",
        "colab": {
          "base_uri": "https://localhost:8080/",
          "height": 34
        }
      },
      "source": [
        "torch.manual_seed(1)"
      ],
      "execution_count": 36,
      "outputs": [
        {
          "output_type": "execute_result",
          "data": {
            "text/plain": [
              "<torch._C.Generator at 0x7f9c63486cf0>"
            ]
          },
          "metadata": {
            "tags": []
          },
          "execution_count": 36
        }
      ]
    },
    {
      "cell_type": "code",
      "metadata": {
        "id": "lUKjIhv3AoC3",
        "colab_type": "code",
        "colab": {}
      },
      "source": [
        "x_train=torch.FloatTensor([[1,2,1],                     #행이 많다고 가정하면  (m ,3)\n",
        "                           [1,3,2],\n",
        "                           [1,3,4],\n",
        "                           [1,5,5],\n",
        "                           [1,7,5],\n",
        "                           [1,2,5],\n",
        "                           [1,6,6],\n",
        "                           [1,7,7]])\n",
        "y_train=torch.LongTensor([2,2,2,1,1,1,0,0])            #(m,)"
      ],
      "execution_count": 0,
      "outputs": []
    },
    {
      "cell_type": "code",
      "metadata": {
        "id": "CYhFOsbnA5aB",
        "colab_type": "code",
        "colab": {}
      },
      "source": [
        "x_test=torch.FloatTensor([[2,1,1],[3,1,2],[3,3,4]])     #(m`,3)\n",
        "\n",
        "y_test=torch.LongTensor([2,2,2])                                        #(m`,)"
      ],
      "execution_count": 0,
      "outputs": []
    },
    {
      "cell_type": "code",
      "metadata": {
        "id": "Q03SWW0DBWHY",
        "colab_type": "code",
        "colab": {}
      },
      "source": [
        "class SoftmaxClassifierModel(nn.Module):\n",
        "    def __init__(self):\n",
        "        super().__init__()\n",
        "        self.linear=nn.Linear(3,3)\n",
        "\n",
        "    def forward(self,x):\n",
        "        return self.linear(x)\n",
        "\n",
        "    "
      ],
      "execution_count": 0,
      "outputs": []
    },
    {
      "cell_type": "code",
      "metadata": {
        "id": "w4waRgoiB2HK",
        "colab_type": "code",
        "colab": {}
      },
      "source": [
        "model=SoftmaxClassifierModel()"
      ],
      "execution_count": 0,
      "outputs": []
    },
    {
      "cell_type": "code",
      "metadata": {
        "id": "ZNwKbrIpB3-n",
        "colab_type": "code",
        "colab": {}
      },
      "source": [
        "optimizer=optim.SGD(model.parameters(),lr=0.1)"
      ],
      "execution_count": 0,
      "outputs": []
    },
    {
      "cell_type": "code",
      "metadata": {
        "id": "Ebq-iYdoB-RU",
        "colab_type": "code",
        "colab": {}
      },
      "source": [
        "def train(model, optimizer, x_train, y_train):\n",
        "    nb_epochs = 20\n",
        "    for epoch in range(nb_epochs):\n",
        "\n",
        "        # H(x) 계산\n",
        "        prediction = model(x_train)\n",
        "\n",
        "        # cost 계산\n",
        "        cost = F.cross_entropy(prediction, y_train)\n",
        "\n",
        "        # cost로 H(x) 개선\n",
        "        optimizer.zero_grad()\n",
        "        cost.backward()\n",
        "        optimizer.step()\n",
        "\n",
        "        print('Epoch {:4d}/{} Cost: {:.6f}'.format(\n",
        "            epoch, nb_epochs, cost.item()\n",
        "        ))"
      ],
      "execution_count": 0,
      "outputs": []
    },
    {
      "cell_type": "code",
      "metadata": {
        "id": "cYae25aMCMJ7",
        "colab_type": "code",
        "colab": {}
      },
      "source": [
        "def test(model, optimizer, x_test, y_test):\n",
        "    prediction = model(x_test)\n",
        "    predicted_classes = prediction.max(1)[1]\n",
        "    correct_count = (predicted_classes == y_test).sum().item()\n",
        "    cost = F.cross_entropy(prediction, y_test)\n",
        "\n",
        "    print('Accuracy: {}% Cost: {:.6f}'.format(\n",
        "         correct_count / len(y_test) * 100, cost.item()\n",
        "    ))"
      ],
      "execution_count": 0,
      "outputs": []
    },
    {
      "cell_type": "code",
      "metadata": {
        "id": "z9Z4lDCsCzMh",
        "colab_type": "code",
        "outputId": "82c4ea75-a43d-4606-994e-79f8acd70688",
        "colab": {
          "base_uri": "https://localhost:8080/",
          "height": 369
        }
      },
      "source": [
        "train(model, optimizer, x_train, y_train)"
      ],
      "execution_count": 44,
      "outputs": [
        {
          "output_type": "stream",
          "text": [
            "Epoch    0/20 Cost: 2.203667\n",
            "Epoch    1/20 Cost: 1.199645\n",
            "Epoch    2/20 Cost: 1.142985\n",
            "Epoch    3/20 Cost: 1.117769\n",
            "Epoch    4/20 Cost: 1.100901\n",
            "Epoch    5/20 Cost: 1.089523\n",
            "Epoch    6/20 Cost: 1.079872\n",
            "Epoch    7/20 Cost: 1.071320\n",
            "Epoch    8/20 Cost: 1.063325\n",
            "Epoch    9/20 Cost: 1.055720\n",
            "Epoch   10/20 Cost: 1.048378\n",
            "Epoch   11/20 Cost: 1.041245\n",
            "Epoch   12/20 Cost: 1.034285\n",
            "Epoch   13/20 Cost: 1.027478\n",
            "Epoch   14/20 Cost: 1.020813\n",
            "Epoch   15/20 Cost: 1.014279\n",
            "Epoch   16/20 Cost: 1.007872\n",
            "Epoch   17/20 Cost: 1.001586\n",
            "Epoch   18/20 Cost: 0.995419\n",
            "Epoch   19/20 Cost: 0.989365\n"
          ],
          "name": "stdout"
        }
      ]
    },
    {
      "cell_type": "code",
      "metadata": {
        "id": "2y14gEwEC0gQ",
        "colab_type": "code",
        "outputId": "4165bdf3-d0ee-4674-c44c-0861d86d4b11",
        "colab": {
          "base_uri": "https://localhost:8080/",
          "height": 34
        }
      },
      "source": [
        "test(model, optimizer, x_test, y_test)      #overfitting 따라서  lr을 줄여보자!"
      ],
      "execution_count": 45,
      "outputs": [
        {
          "output_type": "stream",
          "text": [
            "Accuracy: 0.0% Cost: 1.425844\n"
          ],
          "name": "stdout"
        }
      ]
    },
    {
      "cell_type": "code",
      "metadata": {
        "id": "lJahBajwDIPb",
        "colab_type": "code",
        "colab": {}
      },
      "source": [
        "model=SoftmaxClassifierModel()"
      ],
      "execution_count": 0,
      "outputs": []
    },
    {
      "cell_type": "code",
      "metadata": {
        "id": "qX8B91uNDrSd",
        "colab_type": "code",
        "colab": {}
      },
      "source": [
        "optimizer=optim.SGD(model.parameters(),lr=1e-5)"
      ],
      "execution_count": 0,
      "outputs": []
    },
    {
      "cell_type": "code",
      "metadata": {
        "id": "Y7-1Jq3kDtsk",
        "colab_type": "code",
        "outputId": "5275ae17-81cb-4dec-9c4a-cae9fcb2078a",
        "colab": {
          "base_uri": "https://localhost:8080/",
          "height": 369
        }
      },
      "source": [
        "train(model, optimizer, x_train, y_train)"
      ],
      "execution_count": 48,
      "outputs": [
        {
          "output_type": "stream",
          "text": [
            "Epoch    0/20 Cost: 1.280268\n",
            "Epoch    1/20 Cost: 1.280221\n",
            "Epoch    2/20 Cost: 1.280174\n",
            "Epoch    3/20 Cost: 1.280128\n",
            "Epoch    4/20 Cost: 1.280081\n",
            "Epoch    5/20 Cost: 1.280034\n",
            "Epoch    6/20 Cost: 1.279988\n",
            "Epoch    7/20 Cost: 1.279941\n",
            "Epoch    8/20 Cost: 1.279894\n",
            "Epoch    9/20 Cost: 1.279848\n",
            "Epoch   10/20 Cost: 1.279801\n",
            "Epoch   11/20 Cost: 1.279754\n",
            "Epoch   12/20 Cost: 1.279708\n",
            "Epoch   13/20 Cost: 1.279661\n",
            "Epoch   14/20 Cost: 1.279614\n",
            "Epoch   15/20 Cost: 1.279568\n",
            "Epoch   16/20 Cost: 1.279521\n",
            "Epoch   17/20 Cost: 1.279474\n",
            "Epoch   18/20 Cost: 1.279428\n",
            "Epoch   19/20 Cost: 1.279381\n"
          ],
          "name": "stdout"
        }
      ]
    },
    {
      "cell_type": "code",
      "metadata": {
        "id": "x6h-X7iVDuoU",
        "colab_type": "code",
        "outputId": "2fa7dcb5-3888-408e-dae3-02b4949f62e5",
        "colab": {
          "base_uri": "https://localhost:8080/",
          "height": 34
        }
      },
      "source": [
        "test(model, optimizer, x_test, y_test)     "
      ],
      "execution_count": 49,
      "outputs": [
        {
          "output_type": "stream",
          "text": [
            "Accuracy: 100.0% Cost: 0.528334\n"
          ],
          "name": "stdout"
        }
      ]
    },
    {
      "cell_type": "markdown",
      "metadata": {
        "id": "V-oupO22UH3R",
        "colab_type": "text"
      },
      "source": [
        "Data Preprocessing"
      ]
    },
    {
      "cell_type": "code",
      "metadata": {
        "id": "T6CVIcgYDwYP",
        "colab_type": "code",
        "colab": {}
      },
      "source": [
        "#linear regression\n",
        "\n",
        "x_train=torch.FloatTensor([[73,80,75],\n",
        "                           [93,88,93],\n",
        "                           [89,91,90],\n",
        "                           [96,98,100],\n",
        "                           [73,66,70]])\n",
        "y_train=torch.FloatTensor([[152],[185],[180],[196],[142]])"
      ],
      "execution_count": 0,
      "outputs": []
    },
    {
      "cell_type": "code",
      "metadata": {
        "id": "J3uwxQ9AUE68",
        "colab_type": "code",
        "outputId": "70de7aa3-9de3-4eec-ef3e-3ed307f5ab0f",
        "colab": {
          "base_uri": "https://localhost:8080/",
          "height": 105
        }
      },
      "source": [
        "mu = x_train.mean(dim=0)\n",
        "sigma = x_train.std(dim=0)\n",
        "norm_x_train = (x_train - mu) / sigma\n",
        "norm_x_train"
      ],
      "execution_count": 51,
      "outputs": [
        {
          "output_type": "execute_result",
          "data": {
            "text/plain": [
              "tensor([[-1.0674, -0.3758, -0.8398],\n",
              "        [ 0.7418,  0.2778,  0.5863],\n",
              "        [ 0.3799,  0.5229,  0.3486],\n",
              "        [ 1.0132,  1.0948,  1.1409],\n",
              "        [-1.0674, -1.5197, -1.2360]])"
            ]
          },
          "metadata": {
            "tags": []
          },
          "execution_count": 51
        }
      ]
    },
    {
      "cell_type": "code",
      "metadata": {
        "id": "uooK7tU2U_kr",
        "colab_type": "code",
        "colab": {}
      },
      "source": [
        "class MultivariateLinearRegressionModel(nn.Module):\n",
        "    def __init__(self):\n",
        "        super().__init__()\n",
        "        self.linear = nn.Linear(3, 1)\n",
        "\n",
        "    def forward(self, x):\n",
        "        return self.linear(x)"
      ],
      "execution_count": 0,
      "outputs": []
    },
    {
      "cell_type": "code",
      "metadata": {
        "id": "UyfvxwI2VBQy",
        "colab_type": "code",
        "colab": {}
      },
      "source": [
        "model = MultivariateLinearRegressionModel()\n"
      ],
      "execution_count": 0,
      "outputs": []
    },
    {
      "cell_type": "code",
      "metadata": {
        "id": "Ipm4Ams6VB-5",
        "colab_type": "code",
        "colab": {}
      },
      "source": [
        "def train(model, optimizer, x_train, y_train):\n",
        "    nb_epochs = 20\n",
        "    for epoch in range(nb_epochs):\n",
        "\n",
        "        # H(x) 계산\n",
        "        prediction = model(x_train)\n",
        "\n",
        "        # cost 계산\n",
        "        cost = F.mse_loss(prediction, y_train)\n",
        "\n",
        "        # cost로 H(x) 개선\n",
        "        optimizer.zero_grad()\n",
        "        cost.backward()\n",
        "        optimizer.step()\n",
        "\n",
        "        print('Epoch {:4d}/{} Cost: {:.6f}'.format(\n",
        "            epoch, nb_epochs, cost.item()\n",
        "        ))\n"
      ],
      "execution_count": 0,
      "outputs": []
    },
    {
      "cell_type": "code",
      "metadata": {
        "id": "qRFa6fjzVDV3",
        "colab_type": "code",
        "outputId": "d0258c44-e2cd-4976-ae99-aaf047dc7996",
        "colab": {
          "base_uri": "https://localhost:8080/",
          "height": 369
        }
      },
      "source": [
        "train(model, optimizer, norm_x_train, y_train)\n"
      ],
      "execution_count": 55,
      "outputs": [
        {
          "output_type": "stream",
          "text": [
            "Epoch    0/20 Cost: 29547.708984\n",
            "Epoch    1/20 Cost: 29547.708984\n",
            "Epoch    2/20 Cost: 29547.708984\n",
            "Epoch    3/20 Cost: 29547.708984\n",
            "Epoch    4/20 Cost: 29547.708984\n",
            "Epoch    5/20 Cost: 29547.708984\n",
            "Epoch    6/20 Cost: 29547.708984\n",
            "Epoch    7/20 Cost: 29547.708984\n",
            "Epoch    8/20 Cost: 29547.708984\n",
            "Epoch    9/20 Cost: 29547.708984\n",
            "Epoch   10/20 Cost: 29547.708984\n",
            "Epoch   11/20 Cost: 29547.708984\n",
            "Epoch   12/20 Cost: 29547.708984\n",
            "Epoch   13/20 Cost: 29547.708984\n",
            "Epoch   14/20 Cost: 29547.708984\n",
            "Epoch   15/20 Cost: 29547.708984\n",
            "Epoch   16/20 Cost: 29547.708984\n",
            "Epoch   17/20 Cost: 29547.708984\n",
            "Epoch   18/20 Cost: 29547.708984\n",
            "Epoch   19/20 Cost: 29547.708984\n"
          ],
          "name": "stdout"
        }
      ]
    },
    {
      "cell_type": "code",
      "metadata": {
        "id": "Kbheq0OjVEJL",
        "colab_type": "code",
        "colab": {}
      },
      "source": [
        ""
      ],
      "execution_count": 0,
      "outputs": []
    }
  ]
}