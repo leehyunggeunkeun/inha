{
  "nbformat": 4,
  "nbformat_minor": 0,
  "metadata": {
    "colab": {
      "name": "3.CNN.ipynb",
      "provenance": [],
      "collapsed_sections": [],
      "mount_file_id": "1mKLnwo42Kp1M9oqUX7tY95fl1SsAwRnV",
      "authorship_tag": "ABX9TyOezWANgjsJ5duXGpDP9pJw",
      "include_colab_link": true
    },
    "kernelspec": {
      "name": "python3",
      "display_name": "Python 3"
    },
    "accelerator": "GPU"
  },
  "cells": [
    {
      "cell_type": "markdown",
      "metadata": {
        "id": "view-in-github",
        "colab_type": "text"
      },
      "source": [
        "<a href=\"https://colab.research.google.com/github/leehyunggeunkeun/pytorch-study/blob/master/Edwith/3_CNN.ipynb\" target=\"_parent\"><img src=\"https://colab.research.google.com/assets/colab-badge.svg\" alt=\"Open In Colab\"/></a>"
      ]
    },
    {
      "cell_type": "code",
      "metadata": {
        "id": "Qk8AQL0rM6yk",
        "colab_type": "code",
        "colab": {}
      },
      "source": [
        "#edwith 부스트코스 파이토치 강의를 보면서 필사하고 느낀점 및 방법들을 까먹지 않게 정리함...\n",
        "#출처 edwith 부스트 코스 pytorch 강의"
      ],
      "execution_count": 0,
      "outputs": []
    },
    {
      "cell_type": "markdown",
      "metadata": {
        "id": "C8jgctE3wMdl",
        "colab_type": "text"
      },
      "source": [
        "라이브러리 가져오기"
      ]
    },
    {
      "cell_type": "code",
      "metadata": {
        "id": "N7bU8dKcwI2Z",
        "colab_type": "code",
        "colab": {}
      },
      "source": [
        "import torch\n",
        "import torch.nn as nn\n",
        "import torch.optim as optim\n",
        "import torch.nn.functional as F\n",
        "\n",
        "import torchvision.datasets as dsets\n",
        "import torchvision.transforms as transforms\n",
        "\n",
        "from torch.utils.data import DataLoader,Dataset\n",
        "\n",
        "import torch.nn.init"
      ],
      "execution_count": 0,
      "outputs": []
    },
    {
      "cell_type": "markdown",
      "metadata": {
        "id": "yOfAs2K_wN6l",
        "colab_type": "text"
      },
      "source": [
        "gpu 사용설정 seed설정"
      ]
    },
    {
      "cell_type": "code",
      "metadata": {
        "id": "EsfEkkRVxbyd",
        "colab_type": "code",
        "outputId": "a8bf3089-5305-41ee-e5a4-fc85991e2243",
        "colab": {
          "base_uri": "https://localhost:8080/",
          "height": 34
        }
      },
      "source": [
        "device='cuda' if torch.cuda.is_available() else 'cpu'\n",
        "\n",
        "torch.manual_seed(1)\n",
        "if device=='cuda':\n",
        "    torch.cuda.manual_seed_all(1)\n",
        "    print(device,torch.cuda.is_available())"
      ],
      "execution_count": 0,
      "outputs": [
        {
          "output_type": "stream",
          "text": [
            "cuda True\n"
          ],
          "name": "stdout"
        }
      ]
    },
    {
      "cell_type": "markdown",
      "metadata": {
        "id": "4Y-u-q9gwN86",
        "colab_type": "text"
      },
      "source": [
        "학습에 사용되는 parameter 설정"
      ]
    },
    {
      "cell_type": "code",
      "metadata": {
        "id": "3XJ1mGxfyBPU",
        "colab_type": "code",
        "colab": {}
      },
      "source": [
        "lr=0.001\n",
        "training_epochs=15\n",
        "batch_size=100"
      ],
      "execution_count": 0,
      "outputs": []
    },
    {
      "cell_type": "markdown",
      "metadata": {
        "id": "DmW7OUPuwN_Q",
        "colab_type": "text"
      },
      "source": [
        "데이터셋 가져오고 loader 만들기"
      ]
    },
    {
      "cell_type": "code",
      "metadata": {
        "id": "5Ts4FSNgyCt0",
        "colab_type": "code",
        "colab": {}
      },
      "source": [
        "mnist_train=dsets.MNIST(root='MNIST_data/',\n",
        "                        train=True,\n",
        "                        transform=transforms.ToTensor(),\n",
        "                        download=True)\n",
        "\n",
        "mnist_test=dsets.MNIST(root='MNIST_data/',\n",
        "                        train=False,\n",
        "                        transform=transforms.ToTensor(),\n",
        "                        download=True)"
      ],
      "execution_count": 0,
      "outputs": []
    },
    {
      "cell_type": "code",
      "metadata": {
        "id": "cpE7JmTryCwH",
        "colab_type": "code",
        "colab": {}
      },
      "source": [
        "dataloader=DataLoader(dataset=mnist_train,batch_size=batch_size,shuffle=True,drop_last=True)"
      ],
      "execution_count": 0,
      "outputs": []
    },
    {
      "cell_type": "markdown",
      "metadata": {
        "id": "SglrRJ9mwOBv",
        "colab_type": "text"
      },
      "source": [
        "학습 모델 만들기"
      ]
    },
    {
      "cell_type": "code",
      "metadata": {
        "id": "h3kBG3kMykz8",
        "colab_type": "code",
        "colab": {}
      },
      "source": [
        "class CNN(nn.Module):\n",
        "    def __init__(self):\n",
        "        super().__init__()\n",
        "        self.layer1=nn.Sequential(\n",
        "            nn.Conv2d(1,32,kernel_size=3,stride=1,padding=1),\n",
        "            nn.ReLU(),\n",
        "            nn.MaxPool2d(2)\n",
        "        )\n",
        "\n",
        "        self.layer2=nn.Sequential(\n",
        "            nn.Conv2d(32,64,kernel_size=3,stride=1,padding=1),\n",
        "            nn.ReLU(),\n",
        "            nn.MaxPool2d(2)\n",
        "        )\n",
        "\n",
        "        self.fc=nn.Linear(7*7*64,10,bias=True)\n",
        "        #ReLU함수니까 kaiming he로 초기화 해보자\n",
        "        \n",
        "        torch.nn.init.kaiming_uniform_(self.fc.weight)\n",
        "\n",
        "    def forward(self,x):\n",
        "        out=self.layer1(x)\n",
        "        out=self.layer2(out)\n",
        "\n",
        "        out=out.view(out.size(0),-1)\n",
        "        out=self.fc(out)\n",
        "        return out\n"
      ],
      "execution_count": 0,
      "outputs": []
    },
    {
      "cell_type": "code",
      "metadata": {
        "id": "2qqh57Xoyk22",
        "colab_type": "code",
        "colab": {}
      },
      "source": [
        "model=CNN().to(device)"
      ],
      "execution_count": 0,
      "outputs": []
    },
    {
      "cell_type": "markdown",
      "metadata": {
        "id": "RKPoIlfqwODy",
        "colab_type": "text"
      },
      "source": [
        "Loss function(criterion) 선택하고 최적화 도구 선택"
      ]
    },
    {
      "cell_type": "code",
      "metadata": {
        "id": "7nvNyeyx08Mi",
        "colab_type": "code",
        "colab": {}
      },
      "source": [
        "criterion=nn.CrossEntropyLoss().to(device)\n",
        "optimizer=optim.Adam(model.parameters(),lr=lr)"
      ],
      "execution_count": 0,
      "outputs": []
    },
    {
      "cell_type": "markdown",
      "metadata": {
        "id": "8bW8-TMOwOGE",
        "colab_type": "text"
      },
      "source": [
        "모델 학습 및 loss check(criterion의 output)"
      ]
    },
    {
      "cell_type": "code",
      "metadata": {
        "id": "0Zc1-fS61SG_",
        "colab_type": "code",
        "outputId": "9bdf0e3a-5558-4f1b-9616-f88308d75f60",
        "colab": {
          "base_uri": "https://localhost:8080/",
          "height": 298
        }
      },
      "source": [
        "total_batch=len(dataloader)\n",
        "\n",
        "for epoch in range(training_epochs+1):\n",
        "    avg_cost=0\n",
        "\n",
        "    for x_train,y_train in dataloader:\n",
        "        x_train=x_train.to(device)\n",
        "        y_train=y_train.to(device)\n",
        "\n",
        "        hypothesis=model(x_train)\n",
        "        cost=criterion(hypothesis,y_train)\n",
        "\n",
        "        optimizer.zero_grad()\n",
        "        cost.backward()\n",
        "        optimizer.step()\n",
        "\n",
        "        avg_cost+=cost/total_batch\n",
        "\n",
        "\n",
        "    print('epoch:{} cost = {}'.format(epoch+1,avg_cost))"
      ],
      "execution_count": 0,
      "outputs": [
        {
          "output_type": "stream",
          "text": [
            "epoch:1 cost = 0.219669371843338\n",
            "epoch:2 cost = 0.059830959886312485\n",
            "epoch:3 cost = 0.04381280764937401\n",
            "epoch:4 cost = 0.03537820652127266\n",
            "epoch:5 cost = 0.029796332120895386\n",
            "epoch:6 cost = 0.02461753785610199\n",
            "epoch:7 cost = 0.0211408082395792\n",
            "epoch:8 cost = 0.01821761205792427\n",
            "epoch:9 cost = 0.01504435669630766\n",
            "epoch:10 cost = 0.013120515272021294\n",
            "epoch:11 cost = 0.011256090365350246\n",
            "epoch:12 cost = 0.009303014725446701\n",
            "epoch:13 cost = 0.008710939437150955\n",
            "epoch:14 cost = 0.007114006672054529\n",
            "epoch:15 cost = 0.005993535742163658\n",
            "epoch:16 cost = 0.004749580752104521\n"
          ],
          "name": "stdout"
        }
      ]
    },
    {
      "cell_type": "markdown",
      "metadata": {
        "id": "eqwXIsx5wOIF",
        "colab_type": "text"
      },
      "source": [
        "학습된 모델의 성능 확인"
      ]
    },
    {
      "cell_type": "code",
      "metadata": {
        "id": "ldVr5bYo3GTl",
        "colab_type": "code",
        "outputId": "edadf966-d9db-4b78-feb1-d8074adeb11d",
        "colab": {
          "base_uri": "https://localhost:8080/",
          "height": 105
        }
      },
      "source": [
        "with torch.no_grad():\n",
        "    x_test=mnist_test.test_data.view(len(mnist_test),1,28,28).float().to(device)\n",
        "    y_test=mnist_test.test_labels.to(device)\n",
        "\n",
        "    prediction=model(x_test)\n",
        "    correct_prediction=torch.argmax(prediction,1)==y_test\n",
        "    accuracy=correct_prediction.float().mean()\n",
        "    print('Accuracy:',100*accuracy.item())"
      ],
      "execution_count": 0,
      "outputs": [
        {
          "output_type": "stream",
          "text": [
            "Accuracy: 98.8099992275238\n"
          ],
          "name": "stdout"
        },
        {
          "output_type": "stream",
          "text": [
            "/usr/local/lib/python3.6/dist-packages/torchvision/datasets/mnist.py:60: UserWarning: test_data has been renamed data\n",
            "  warnings.warn(\"test_data has been renamed data\")\n",
            "/usr/local/lib/python3.6/dist-packages/torchvision/datasets/mnist.py:50: UserWarning: test_labels has been renamed targets\n",
            "  warnings.warn(\"test_labels has been renamed targets\")\n"
          ],
          "name": "stderr"
        }
      ]
    },
    {
      "cell_type": "markdown",
      "metadata": {
        "id": "DJPz_b2Z-E8P",
        "colab_type": "text"
      },
      "source": [
        "나중에 논문작성시 VISDOM 이용하면 편할듯..."
      ]
    },
    {
      "cell_type": "code",
      "metadata": {
        "id": "tC_Sre7rCCJf",
        "colab_type": "code",
        "colab": {}
      },
      "source": [
        ""
      ],
      "execution_count": 0,
      "outputs": []
    },
    {
      "cell_type": "markdown",
      "metadata": {
        "id": "U7VNT1p9916z",
        "colab_type": "text"
      },
      "source": [
        "ImageFolder\n",
        "(내가 가진 사진으로 데이터셋 만드는 방법)"
      ]
    },
    {
      "cell_type": "code",
      "metadata": {
        "id": "099yBWW994zv",
        "colab_type": "code",
        "colab": {}
      },
      "source": [
        "import torchvision\n",
        "from torchvision import transforms\n",
        "from torch.utils.data import DataLoader\n",
        "\n",
        "from matplotlib.pyplot import imshow"
      ],
      "execution_count": 0,
      "outputs": []
    },
    {
      "cell_type": "code",
      "metadata": {
        "id": "1VbHKfTlBMBy",
        "colab_type": "code",
        "colab": {}
      },
      "source": [
        "train_data=torchvision.datasets.ImageFolder(root='/content/drive/My Drive/Colab Notebooks/부스트코스/custom_data/origin_data',transform=None)"
      ],
      "execution_count": 0,
      "outputs": []
    },
    {
      "cell_type": "code",
      "metadata": {
        "id": "r71AFLm_BmGx",
        "colab_type": "code",
        "outputId": "f97e310c-e2ba-48ed-9631-f8a527908bea",
        "colab": {
          "base_uri": "https://localhost:8080/",
          "height": 237
        }
      },
      "source": [
        "for num, value in enumerate(train_data):\n",
        "    data,label=value\n",
        "    print(num, data,label)\n",
        "    \n",
        "    imshow(data)\n",
        "    break"
      ],
      "execution_count": 0,
      "outputs": [
        {
          "output_type": "stream",
          "text": [
            "0 <PIL.Image.Image image mode=RGB size=128x64 at 0x7F14FFD2F748> 0\n"
          ],
          "name": "stdout"
        },
        {
          "output_type": "display_data",
          "data": {
            "image/png": "[encoded data removed]",
            "text/plain": [
              "<Figure size 432x288 with 1 Axes>"
            ]
          },
          "metadata": {
            "tags": [],
            "needs_background": "light"
          }
        }
      ]
    },
    {
      "cell_type": "code",
      "metadata": {
        "id": "4TIvwt3vI4BC",
        "colab_type": "code",
        "colab": {}
      },
      "source": [
        "#이미지 크기가 너무 크니까 사이즈를 줄여보자"
      ],
      "execution_count": 0,
      "outputs": []
    },
    {
      "cell_type": "code",
      "metadata": {
        "id": "zoieLRawJARW",
        "colab_type": "code",
        "colab": {}
      },
      "source": [
        "trans=transforms.Compose([transforms.Resize((64,128))])"
      ],
      "execution_count": 0,
      "outputs": []
    },
    {
      "cell_type": "code",
      "metadata": {
        "id": "kscTPXzpJU65",
        "colab_type": "code",
        "colab": {}
      },
      "source": [
        "train_data=torchvision.datasets.ImageFolder(root='/content/drive/My Drive/Colab Notebooks/부스트코스/custom_data/origin_data',transform=trans)"
      ],
      "execution_count": 0,
      "outputs": []
    },
    {
      "cell_type": "code",
      "metadata": {
        "id": "M6ho3D1fJU_D",
        "colab_type": "code",
        "colab": {}
      },
      "source": [
        "#그런데 다음에 또 하기 귀찮으니까 아예 전처리 과정을 거쳐서 128*64로 변경하자 "
      ],
      "execution_count": 0,
      "outputs": []
    },
    {
      "cell_type": "code",
      "metadata": {
        "id": "yn01bxInJU9o",
        "colab_type": "code",
        "outputId": "3179aeb1-87c0-420a-9f52-0ecf0773f926",
        "colab": {
          "base_uri": "https://localhost:8080/",
          "height": 1000
        }
      },
      "source": [
        "for num, value in enumerate(train_data):\n",
        "    data,label=value\n",
        "    print(num, data,label)\n",
        "    \n",
        "    if (label==0):\n",
        "        data.save('/content/drive/My Drive/Colab Notebooks/부스트코스/custom_data/train_data/gray/%d_%d.jpeg'.format(num,label))\n",
        "    else :\n",
        "        data.save('/content/drive/My Drive/Colab Notebooks/부스트코스/custom_data/train_data/red/%d_%d.jpeg'.format(num,label))\n",
        "       "
      ],
      "execution_count": 0,
      "outputs": [
        {
          "output_type": "stream",
          "text": [
            "0 <PIL.Image.Image image mode=RGB size=128x64 at 0x7F14FFC024A8> 0\n",
            "1 <PIL.Image.Image image mode=RGB size=128x64 at 0x7F14FFC7E5F8> 0\n",
            "2 <PIL.Image.Image image mode=RGB size=128x64 at 0x7F14FFC7E198> 0\n",
            "3 <PIL.Image.Image image mode=RGB size=128x64 at 0x7F14FFC7E208> 0\n",
            "4 <PIL.Image.Image image mode=RGB size=128x64 at 0x7F14FFC7EBE0> 0\n",
            "5 <PIL.Image.Image image mode=RGB size=128x64 at 0x7F14FFC7E390> 0\n",
            "6 <PIL.Image.Image image mode=RGB size=128x64 at 0x7F14FFC7EC50> 0\n",
            "7 <PIL.Image.Image image mode=RGB size=128x64 at 0x7F14FFC7ED30> 0\n",
            "8 <PIL.Image.Image image mode=RGB size=128x64 at 0x7F14FFC7EF60> 0\n",
            "9 <PIL.Image.Image image mode=RGB size=128x64 at 0x7F14FFC7ED68> 0\n",
            "10 <PIL.Image.Image image mode=RGB size=128x64 at 0x7F14FFC7EB00> 0\n",
            "11 <PIL.Image.Image image mode=RGB size=128x64 at 0x7F14FFC7EE48> 0\n",
            "12 <PIL.Image.Image image mode=RGB size=128x64 at 0x7F14FFC7EF98> 0\n",
            "13 <PIL.Image.Image image mode=RGB size=128x64 at 0x7F14FFC7EDA0> 0\n",
            "14 <PIL.Image.Image image mode=RGB size=128x64 at 0x7F14FFC7EC88> 0\n",
            "15 <PIL.Image.Image image mode=RGB size=128x64 at 0x7F14FFC7E470> 0\n",
            "16 <PIL.Image.Image image mode=RGB size=128x64 at 0x7F14FFC7E9B0> 0\n",
            "17 <PIL.Image.Image image mode=RGB size=128x64 at 0x7F14FFC7EB38> 0\n",
            "18 <PIL.Image.Image image mode=RGB size=128x64 at 0x7F14FFC7EC18> 0\n",
            "19 <PIL.Image.Image image mode=RGB size=128x64 at 0x7F14FFC7EA90> 0\n",
            "20 <PIL.Image.Image image mode=RGB size=128x64 at 0x7F14FFC7E978> 0\n",
            "21 <PIL.Image.Image image mode=RGB size=128x64 at 0x7F14FFC7E8D0> 0\n",
            "22 <PIL.Image.Image image mode=RGB size=128x64 at 0x7F14FFC02390> 0\n",
            "23 <PIL.Image.Image image mode=RGB size=128x64 at 0x7F14FFC7E8D0> 0\n",
            "24 <PIL.Image.Image image mode=RGB size=128x64 at 0x7F14FFC7E5F8> 0\n",
            "25 <PIL.Image.Image image mode=RGB size=128x64 at 0x7F14FFC7E630> 0\n",
            "26 <PIL.Image.Image image mode=RGB size=128x64 at 0x7F14FFC7E208> 0\n",
            "27 <PIL.Image.Image image mode=RGB size=128x64 at 0x7F14FFC7EBE0> 0\n",
            "28 <PIL.Image.Image image mode=RGB size=128x64 at 0x7F14FFC7E390> 0\n",
            "29 <PIL.Image.Image image mode=RGB size=128x64 at 0x7F14FFC02390> 0\n",
            "30 <PIL.Image.Image image mode=RGB size=128x64 at 0x7F14FFD2F748> 0\n",
            "31 <PIL.Image.Image image mode=RGB size=128x64 at 0x7F14FFC02630> 0\n",
            "32 <PIL.Image.Image image mode=RGB size=128x64 at 0x7F14FFD2F748> 0\n",
            "33 <PIL.Image.Image image mode=RGB size=128x64 at 0x7F14FFC7E390> 0\n",
            "34 <PIL.Image.Image image mode=RGB size=128x64 at 0x7F14FFC025C0> 0\n",
            "35 <PIL.Image.Image image mode=RGB size=128x64 at 0x7F14FFD2F748> 0\n",
            "36 <PIL.Image.Image image mode=RGB size=128x64 at 0x7F14FFC02390> 0\n",
            "37 <PIL.Image.Image image mode=RGB size=128x64 at 0x7F14FFD2F748> 0\n",
            "38 <PIL.Image.Image image mode=RGB size=128x64 at 0x7F14FFC02630> 0\n",
            "39 <PIL.Image.Image image mode=RGB size=128x64 at 0x7F14FFD2F748> 0\n",
            "40 <PIL.Image.Image image mode=RGB size=128x64 at 0x7F14FFC02630> 0\n",
            "41 <PIL.Image.Image image mode=RGB size=128x64 at 0x7F14FFD2F748> 0\n",
            "42 <PIL.Image.Image image mode=RGB size=128x64 at 0x7F14FFC02390> 0\n",
            "43 <PIL.Image.Image image mode=RGB size=128x64 at 0x7F14FFD2F748> 0\n",
            "44 <PIL.Image.Image image mode=RGB size=128x64 at 0x7F14FFC7E390> 0\n",
            "45 <PIL.Image.Image image mode=RGB size=128x64 at 0x7F14FFC02860> 0\n",
            "46 <PIL.Image.Image image mode=RGB size=128x64 at 0x7F14FFD2F748> 0\n",
            "47 <PIL.Image.Image image mode=RGB size=128x64 at 0x7F14FFC02630> 0\n",
            "48 <PIL.Image.Image image mode=RGB size=128x64 at 0x7F14FFD2F748> 0\n",
            "49 <PIL.Image.Image image mode=RGB size=128x64 at 0x7F14FFC02860> 0\n",
            "50 <PIL.Image.Image image mode=RGB size=128x64 at 0x7F14FFD2F748> 0\n",
            "51 <PIL.Image.Image image mode=RGB size=128x64 at 0x7F14FFC02630> 0\n",
            "52 <PIL.Image.Image image mode=RGB size=128x64 at 0x7F14FFC7E390> 0\n",
            "53 <PIL.Image.Image image mode=RGB size=128x64 at 0x7F14FFC02630> 0\n",
            "54 <PIL.Image.Image image mode=RGB size=128x64 at 0x7F14FFD2F748> 0\n",
            "55 <PIL.Image.Image image mode=RGB size=128x64 at 0x7F14FFC02860> 0\n",
            "56 <PIL.Image.Image image mode=RGB size=128x64 at 0x7F14FFD2F748> 0\n",
            "57 <PIL.Image.Image image mode=RGB size=128x64 at 0x7F14FFC02630> 0\n",
            "58 <PIL.Image.Image image mode=RGB size=128x64 at 0x7F14FFD2F748> 0\n",
            "59 <PIL.Image.Image image mode=RGB size=128x64 at 0x7F14FFC02860> 0\n",
            "60 <PIL.Image.Image image mode=RGB size=128x64 at 0x7F14FFD2F748> 0\n",
            "61 <PIL.Image.Image image mode=RGB size=128x64 at 0x7F14FFC02630> 0\n",
            "62 <PIL.Image.Image image mode=RGB size=128x64 at 0x7F14FFD2F748> 0\n",
            "63 <PIL.Image.Image image mode=RGB size=128x64 at 0x7F14FFC02860> 0\n",
            "64 <PIL.Image.Image image mode=RGB size=128x64 at 0x7F14FFD2F748> 0\n",
            "65 <PIL.Image.Image image mode=RGB size=128x64 at 0x7F14FFC02630> 0\n",
            "66 <PIL.Image.Image image mode=RGB size=128x64 at 0x7F14FFD2F748> 0\n",
            "67 <PIL.Image.Image image mode=RGB size=128x64 at 0x7F14FFC02860> 0\n",
            "68 <PIL.Image.Image image mode=RGB size=128x64 at 0x7F14FFD2F748> 0\n",
            "69 <PIL.Image.Image image mode=RGB size=128x64 at 0x7F14FFC02630> 0\n",
            "70 <PIL.Image.Image image mode=RGB size=128x64 at 0x7F14FFD2F748> 0\n",
            "71 <PIL.Image.Image image mode=RGB size=128x64 at 0x7F14FFC02860> 0\n",
            "72 <PIL.Image.Image image mode=RGB size=128x64 at 0x7F14FFD2F748> 0\n",
            "73 <PIL.Image.Image image mode=RGB size=128x64 at 0x7F14FFC02630> 0\n",
            "74 <PIL.Image.Image image mode=RGB size=128x64 at 0x7F14FFD2F748> 0\n",
            "75 <PIL.Image.Image image mode=RGB size=128x64 at 0x7F14FFC02860> 0\n",
            "76 <PIL.Image.Image image mode=RGB size=128x64 at 0x7F14FFD2F748> 0\n",
            "77 <PIL.Image.Image image mode=RGB size=128x64 at 0x7F14FFC02630> 0\n",
            "78 <PIL.Image.Image image mode=RGB size=128x64 at 0x7F14FFD2F748> 0\n",
            "79 <PIL.Image.Image image mode=RGB size=128x64 at 0x7F14FFC02860> 0\n",
            "80 <PIL.Image.Image image mode=RGB size=128x64 at 0x7F14FFD2F748> 0\n",
            "81 <PIL.Image.Image image mode=RGB size=128x64 at 0x7F14FFC02630> 0\n",
            "82 <PIL.Image.Image image mode=RGB size=128x64 at 0x7F14FFD2F748> 0\n",
            "83 <PIL.Image.Image image mode=RGB size=128x64 at 0x7F14FFC02860> 0\n",
            "84 <PIL.Image.Image image mode=RGB size=128x64 at 0x7F14FFD2F748> 0\n",
            "85 <PIL.Image.Image image mode=RGB size=128x64 at 0x7F14FFC02630> 0\n",
            "86 <PIL.Image.Image image mode=RGB size=128x64 at 0x7F14FFD2F748> 0\n",
            "87 <PIL.Image.Image image mode=RGB size=128x64 at 0x7F14FFC02860> 0\n",
            "88 <PIL.Image.Image image mode=RGB size=128x64 at 0x7F14FFD2F748> 0\n",
            "89 <PIL.Image.Image image mode=RGB size=128x64 at 0x7F14FFC02630> 0\n",
            "90 <PIL.Image.Image image mode=RGB size=128x64 at 0x7F14FFD2F748> 0\n",
            "91 <PIL.Image.Image image mode=RGB size=128x64 at 0x7F14FFC02860> 0\n",
            "92 <PIL.Image.Image image mode=RGB size=128x64 at 0x7F14FFD2F748> 0\n",
            "93 <PIL.Image.Image image mode=RGB size=128x64 at 0x7F14FFC02630> 0\n",
            "94 <PIL.Image.Image image mode=RGB size=128x64 at 0x7F14FFD2F748> 0\n",
            "95 <PIL.Image.Image image mode=RGB size=128x64 at 0x7F14FFC02860> 0\n",
            "96 <PIL.Image.Image image mode=RGB size=128x64 at 0x7F14FFD2F748> 0\n",
            "97 <PIL.Image.Image image mode=RGB size=128x64 at 0x7F14FFC02630> 0\n",
            "98 <PIL.Image.Image image mode=RGB size=128x64 at 0x7F14FFD2F748> 0\n",
            "99 <PIL.Image.Image image mode=RGB size=128x64 at 0x7F14FFC02860> 0\n",
            "100 <PIL.Image.Image image mode=RGB size=128x64 at 0x7F14FFD2F748> 0\n",
            "101 <PIL.Image.Image image mode=RGB size=128x64 at 0x7F14FFC02630> 0\n",
            "102 <PIL.Image.Image image mode=RGB size=128x64 at 0x7F14FFD2F748> 0\n",
            "103 <PIL.Image.Image image mode=RGB size=128x64 at 0x7F14FFC02860> 0\n",
            "104 <PIL.Image.Image image mode=RGB size=128x64 at 0x7F14FFD2F748> 0\n",
            "105 <PIL.Image.Image image mode=RGB size=128x64 at 0x7F14FFC02630> 0\n",
            "106 <PIL.Image.Image image mode=RGB size=128x64 at 0x7F14FFD2F748> 0\n",
            "107 <PIL.Image.Image image mode=RGB size=128x64 at 0x7F14FFC02860> 0\n",
            "108 <PIL.Image.Image image mode=RGB size=128x64 at 0x7F14FFD2F748> 0\n",
            "109 <PIL.Image.Image image mode=RGB size=128x64 at 0x7F14FFC02630> 0\n",
            "110 <PIL.Image.Image image mode=RGB size=128x64 at 0x7F14FFD2F748> 0\n",
            "111 <PIL.Image.Image image mode=RGB size=128x64 at 0x7F14FFC02860> 0\n",
            "112 <PIL.Image.Image image mode=RGB size=128x64 at 0x7F14FFD2F748> 0\n",
            "113 <PIL.Image.Image image mode=RGB size=128x64 at 0x7F14FFC02630> 0\n",
            "114 <PIL.Image.Image image mode=RGB size=128x64 at 0x7F14FFD2F748> 0\n",
            "115 <PIL.Image.Image image mode=RGB size=128x64 at 0x7F14FFC02860> 0\n",
            "116 <PIL.Image.Image image mode=RGB size=128x64 at 0x7F14FFD2F748> 0\n",
            "117 <PIL.Image.Image image mode=RGB size=128x64 at 0x7F14FFC02630> 0\n",
            "118 <PIL.Image.Image image mode=RGB size=128x64 at 0x7F14FFD2F748> 0\n",
            "119 <PIL.Image.Image image mode=RGB size=128x64 at 0x7F14FFC02860> 0\n",
            "120 <PIL.Image.Image image mode=RGB size=128x64 at 0x7F14FFD2F748> 0\n",
            "121 <PIL.Image.Image image mode=RGB size=128x64 at 0x7F14FFC02630> 0\n",
            "122 <PIL.Image.Image image mode=RGB size=128x64 at 0x7F14FFD2F748> 0\n",
            "123 <PIL.Image.Image image mode=RGB size=128x64 at 0x7F14FFC02860> 0\n",
            "124 <PIL.Image.Image image mode=RGB size=128x64 at 0x7F14FFD2F748> 0\n",
            "125 <PIL.Image.Image image mode=RGB size=128x64 at 0x7F14FFC02630> 0\n",
            "126 <PIL.Image.Image image mode=RGB size=128x64 at 0x7F14FFD2F748> 0\n",
            "127 <PIL.Image.Image image mode=RGB size=128x64 at 0x7F14FFC02860> 0\n",
            "128 <PIL.Image.Image image mode=RGB size=128x64 at 0x7F14FFC7E390> 0\n",
            "129 <PIL.Image.Image image mode=RGB size=128x64 at 0x7F14FFC025C0> 0\n",
            "130 <PIL.Image.Image image mode=RGB size=128x64 at 0x7F14FFD2F748> 0\n",
            "131 <PIL.Image.Image image mode=RGB size=128x64 at 0x7F14FFC02630> 0\n",
            "132 <PIL.Image.Image image mode=RGB size=128x64 at 0x7F14FFD2F748> 0\n",
            "133 <PIL.Image.Image image mode=RGB size=128x64 at 0x7F14FFC025C0> 0\n",
            "134 <PIL.Image.Image image mode=RGB size=128x64 at 0x7F14FFD2F748> 0\n",
            "135 <PIL.Image.Image image mode=RGB size=128x64 at 0x7F14FFC02630> 0\n",
            "136 <PIL.Image.Image image mode=RGB size=128x64 at 0x7F14FFD2F748> 0\n",
            "137 <PIL.Image.Image image mode=RGB size=128x64 at 0x7F14FFC025C0> 0\n",
            "138 <PIL.Image.Image image mode=RGB size=128x64 at 0x7F14FFD2F748> 0\n",
            "139 <PIL.Image.Image image mode=RGB size=128x64 at 0x7F14FFC02630> 0\n",
            "140 <PIL.Image.Image image mode=RGB size=128x64 at 0x7F14FFD2F748> 0\n",
            "141 <PIL.Image.Image image mode=RGB size=128x64 at 0x7F14FFC025C0> 0\n",
            "142 <PIL.Image.Image image mode=RGB size=128x64 at 0x7F14FFD2F748> 0\n",
            "143 <PIL.Image.Image image mode=RGB size=128x64 at 0x7F14FFC02630> 0\n",
            "144 <PIL.Image.Image image mode=RGB size=128x64 at 0x7F14FFD2F748> 0\n",
            "145 <PIL.Image.Image image mode=RGB size=128x64 at 0x7F14FFC025C0> 0\n",
            "146 <PIL.Image.Image image mode=RGB size=128x64 at 0x7F14FFD2F748> 0\n",
            "147 <PIL.Image.Image image mode=RGB size=128x64 at 0x7F14FFC02630> 0\n",
            "148 <PIL.Image.Image image mode=RGB size=128x64 at 0x7F14FFD2F748> 0\n",
            "149 <PIL.Image.Image image mode=RGB size=128x64 at 0x7F14FFC025C0> 0\n",
            "150 <PIL.Image.Image image mode=RGB size=128x64 at 0x7F14FFD2F748> 0\n",
            "151 <PIL.Image.Image image mode=RGB size=128x64 at 0x7F14FFC02860> 0\n",
            "152 <PIL.Image.Image image mode=RGB size=128x64 at 0x7F14FFD2F748> 0\n",
            "153 <PIL.Image.Image image mode=RGB size=128x64 at 0x7F14FFC02390> 0\n",
            "154 <PIL.Image.Image image mode=RGB size=128x64 at 0x7F14FFC7E390> 0\n",
            "155 <PIL.Image.Image image mode=RGB size=128x64 at 0x7F14FFC02390> 0\n",
            "156 <PIL.Image.Image image mode=RGB size=128x64 at 0x7F14FFC02630> 0\n",
            "157 <PIL.Image.Image image mode=RGB size=128x64 at 0x7F14FFC02390> 0\n",
            "158 <PIL.Image.Image image mode=RGB size=128x64 at 0x7F14FFC02630> 0\n",
            "159 <PIL.Image.Image image mode=RGB size=128x64 at 0x7F14FFC02390> 0\n",
            "160 <PIL.Image.Image image mode=RGB size=128x64 at 0x7F14FFC02630> 0\n",
            "161 <PIL.Image.Image image mode=RGB size=128x64 at 0x7F14FFC02390> 0\n",
            "162 <PIL.Image.Image image mode=RGB size=128x64 at 0x7F14FFC02630> 0\n",
            "163 <PIL.Image.Image image mode=RGB size=128x64 at 0x7F14FFC02390> 0\n",
            "164 <PIL.Image.Image image mode=RGB size=128x64 at 0x7F14FFC02630> 0\n",
            "165 <PIL.Image.Image image mode=RGB size=128x64 at 0x7F14FFC02390> 0\n",
            "166 <PIL.Image.Image image mode=RGB size=128x64 at 0x7F14FFC024A8> 0\n",
            "167 <PIL.Image.Image image mode=RGB size=128x64 at 0x7F14FFC02860> 0\n",
            "168 <PIL.Image.Image image mode=RGB size=128x64 at 0x7F14FFC02390> 0\n",
            "169 <PIL.Image.Image image mode=RGB size=128x64 at 0x7F14FFC7E390> 0\n",
            "170 <PIL.Image.Image image mode=RGB size=128x64 at 0x7F14FFC024A8> 0\n",
            "171 <PIL.Image.Image image mode=RGB size=128x64 at 0x7F14FFC02630> 0\n",
            "172 <PIL.Image.Image image mode=RGB size=128x64 at 0x7F14FFC02390> 0\n",
            "173 <PIL.Image.Image image mode=RGB size=128x64 at 0x7F14FFC02860> 0\n",
            "174 <PIL.Image.Image image mode=RGB size=128x64 at 0x7F14FFC025C0> 0\n",
            "175 <PIL.Image.Image image mode=RGB size=128x64 at 0x7F14FFC024A8> 0\n",
            "176 <PIL.Image.Image image mode=RGB size=128x64 at 0x7F14FFC7E390> 0\n",
            "177 <PIL.Image.Image image mode=RGB size=128x64 at 0x7F14FFC024A8> 0\n",
            "178 <PIL.Image.Image image mode=RGB size=128x64 at 0x7F14FFC02630> 0\n",
            "179 <PIL.Image.Image image mode=RGB size=128x64 at 0x7F14FFC02860> 0\n",
            "180 <PIL.Image.Image image mode=RGB size=128x64 at 0x7F14FFC02390> 0\n",
            "181 <PIL.Image.Image image mode=RGB size=128x64 at 0x7F14FFC024A8> 0\n",
            "182 <PIL.Image.Image image mode=RGB size=128x64 at 0x7F14FFC025C0> 0\n",
            "183 <PIL.Image.Image image mode=RGB size=128x64 at 0x7F14FFC02860> 0\n",
            "184 <PIL.Image.Image image mode=RGB size=128x64 at 0x7F14FFC02390> 0\n",
            "185 <PIL.Image.Image image mode=RGB size=128x64 at 0x7F14FFC7E390> 0\n",
            "186 <PIL.Image.Image image mode=RGB size=128x64 at 0x7F14FFC02390> 0\n",
            "187 <PIL.Image.Image image mode=RGB size=128x64 at 0x7F14FFC02630> 0\n",
            "188 <PIL.Image.Image image mode=RGB size=128x64 at 0x7F14FFC025C0> 0\n",
            "189 <PIL.Image.Image image mode=RGB size=128x64 at 0x7F14FFD13630> 0\n",
            "190 <PIL.Image.Image image mode=RGB size=128x64 at 0x7F14FFC025C0> 0\n",
            "191 <PIL.Image.Image image mode=RGB size=128x64 at 0x7F14FFD2F748> 0\n",
            "192 <PIL.Image.Image image mode=RGB size=128x64 at 0x7F14FFC025C0> 0\n",
            "193 <PIL.Image.Image image mode=RGB size=128x64 at 0x7F14FFD2F748> 0\n",
            "194 <PIL.Image.Image image mode=RGB size=128x64 at 0x7F14FFC024A8> 0\n",
            "195 <PIL.Image.Image image mode=RGB size=128x64 at 0x7F14FFD2F748> 0\n",
            "196 <PIL.Image.Image image mode=RGB size=128x64 at 0x7F14FFC02390> 0\n",
            "197 <PIL.Image.Image image mode=RGB size=128x64 at 0x7F14FFD2F748> 0\n",
            "198 <PIL.Image.Image image mode=RGB size=128x64 at 0x7F14FFC025C0> 0\n",
            "199 <PIL.Image.Image image mode=RGB size=128x64 at 0x7F14FFD2F748> 0\n",
            "200 <PIL.Image.Image image mode=RGB size=128x64 at 0x7F14FFC7E390> 0\n",
            "201 <PIL.Image.Image image mode=RGB size=128x64 at 0x7F14FFC02860> 0\n",
            "202 <PIL.Image.Image image mode=RGB size=128x64 at 0x7F14FFC7E390> 0\n",
            "203 <PIL.Image.Image image mode=RGB size=128x64 at 0x7F14FFC025C0> 0\n",
            "204 <PIL.Image.Image image mode=RGB size=128x64 at 0x7F14FFD2F748> 0\n",
            "205 <PIL.Image.Image image mode=RGB size=128x64 at 0x7F14FFC02390> 0\n",
            "206 <PIL.Image.Image image mode=RGB size=128x64 at 0x7F14FFC7E390> 0\n",
            "207 <PIL.Image.Image image mode=RGB size=128x64 at 0x7F14FFC02390> 0\n",
            "208 <PIL.Image.Image image mode=RGB size=128x64 at 0x7F14FFC02630> 0\n",
            "209 <PIL.Image.Image image mode=RGB size=128x64 at 0x7F14FFC02390> 0\n",
            "210 <PIL.Image.Image image mode=RGB size=128x64 at 0x7F14FFC7E390> 0\n",
            "211 <PIL.Image.Image image mode=RGB size=128x64 at 0x7F14FFC02630> 0\n",
            "212 <PIL.Image.Image image mode=RGB size=128x64 at 0x7F14FFD2F748> 0\n",
            "213 <PIL.Image.Image image mode=RGB size=128x64 at 0x7F14FFC02860> 0\n",
            "214 <PIL.Image.Image image mode=RGB size=128x64 at 0x7F14FFD2F748> 0\n",
            "215 <PIL.Image.Image image mode=RGB size=128x64 at 0x7F14FFC02630> 0\n",
            "216 <PIL.Image.Image image mode=RGB size=128x64 at 0x7F14FFD2F748> 0\n",
            "217 <PIL.Image.Image image mode=RGB size=128x64 at 0x7F14FFC02860> 0\n",
            "218 <PIL.Image.Image image mode=RGB size=128x64 at 0x7F14FFD2F748> 0\n",
            "219 <PIL.Image.Image image mode=RGB size=128x64 at 0x7F14FFC025C0> 0\n",
            "220 <PIL.Image.Image image mode=RGB size=128x64 at 0x7F14FFD2F748> 0\n",
            "221 <PIL.Image.Image image mode=RGB size=128x64 at 0x7F14FFC024A8> 0\n",
            "222 <PIL.Image.Image image mode=RGB size=128x64 at 0x7F14FFD2F748> 0\n",
            "223 <PIL.Image.Image image mode=RGB size=128x64 at 0x7F14FFC02860> 0\n",
            "224 <PIL.Image.Image image mode=RGB size=128x64 at 0x7F14FFD2F748> 0\n",
            "225 <PIL.Image.Image image mode=RGB size=128x64 at 0x7F14FFC024A8> 0\n",
            "226 <PIL.Image.Image image mode=RGB size=128x64 at 0x7F14FFD2F748> 0\n",
            "227 <PIL.Image.Image image mode=RGB size=128x64 at 0x7F14FFC02860> 0\n",
            "228 <PIL.Image.Image image mode=RGB size=128x64 at 0x7F14FFD2F748> 0\n",
            "229 <PIL.Image.Image image mode=RGB size=128x64 at 0x7F14FFC024A8> 0\n",
            "230 <PIL.Image.Image image mode=RGB size=128x64 at 0x7F14FFD2F748> 0\n",
            "231 <PIL.Image.Image image mode=RGB size=128x64 at 0x7F14FFC02860> 0\n",
            "232 <PIL.Image.Image image mode=RGB size=128x64 at 0x7F14FFD2F748> 0\n",
            "233 <PIL.Image.Image image mode=RGB size=128x64 at 0x7F14FFC024A8> 0\n",
            "234 <PIL.Image.Image image mode=RGB size=128x64 at 0x7F14FFD2F748> 0\n",
            "235 <PIL.Image.Image image mode=RGB size=128x64 at 0x7F14FFC02860> 0\n",
            "236 <PIL.Image.Image image mode=RGB size=128x64 at 0x7F14FFD2F748> 0\n",
            "237 <PIL.Image.Image image mode=RGB size=128x64 at 0x7F14FFC024A8> 0\n",
            "238 <PIL.Image.Image image mode=RGB size=128x64 at 0x7F14FFD2F748> 0\n",
            "239 <PIL.Image.Image image mode=RGB size=128x64 at 0x7F14FFC02860> 0\n",
            "240 <PIL.Image.Image image mode=RGB size=128x64 at 0x7F14FFD2F748> 0\n",
            "241 <PIL.Image.Image image mode=RGB size=128x64 at 0x7F14FFC024A8> 0\n",
            "242 <PIL.Image.Image image mode=RGB size=128x64 at 0x7F14FFD2F748> 0\n",
            "243 <PIL.Image.Image image mode=RGB size=128x64 at 0x7F14FFC02860> 0\n",
            "244 <PIL.Image.Image image mode=RGB size=128x64 at 0x7F14FFC7E390> 0\n",
            "245 <PIL.Image.Image image mode=RGB size=128x64 at 0x7F14FFC02390> 0\n",
            "246 <PIL.Image.Image image mode=RGB size=128x64 at 0x7F14FFD2F748> 0\n",
            "247 <PIL.Image.Image image mode=RGB size=128x64 at 0x7F14FFC024A8> 0\n",
            "248 <PIL.Image.Image image mode=RGB size=128x64 at 0x7F14FFD2F748> 0\n",
            "249 <PIL.Image.Image image mode=RGB size=128x64 at 0x7F14FFC02390> 0\n",
            "250 <PIL.Image.Image image mode=RGB size=128x64 at 0x7F14FFD2F748> 0\n",
            "251 <PIL.Image.Image image mode=RGB size=128x64 at 0x7F14FFC024A8> 0\n",
            "252 <PIL.Image.Image image mode=RGB size=128x64 at 0x7F14FFD2F748> 0\n",
            "253 <PIL.Image.Image image mode=RGB size=128x64 at 0x7F14FFC02390> 0\n",
            "254 <PIL.Image.Image image mode=RGB size=128x64 at 0x7F14FFD2F748> 0\n",
            "255 <PIL.Image.Image image mode=RGB size=128x64 at 0x7F14FFC024A8> 0\n",
            "256 <PIL.Image.Image image mode=RGB size=128x64 at 0x7F14FFD2F748> 0\n",
            "257 <PIL.Image.Image image mode=RGB size=128x64 at 0x7F14FFC02390> 0\n",
            "258 <PIL.Image.Image image mode=RGB size=128x64 at 0x7F14FFD2F748> 0\n",
            "259 <PIL.Image.Image image mode=RGB size=128x64 at 0x7F14FFC024A8> 0\n",
            "260 <PIL.Image.Image image mode=RGB size=128x64 at 0x7F14FFD2F748> 0\n",
            "261 <PIL.Image.Image image mode=RGB size=128x64 at 0x7F14FFC02390> 0\n",
            "262 <PIL.Image.Image image mode=RGB size=128x64 at 0x7F14FFD2F748> 0\n",
            "263 <PIL.Image.Image image mode=RGB size=128x64 at 0x7F14FFC024A8> 0\n",
            "264 <PIL.Image.Image image mode=RGB size=128x64 at 0x7F14FFD2F748> 0\n",
            "265 <PIL.Image.Image image mode=RGB size=128x64 at 0x7F14FFC02390> 0\n",
            "266 <PIL.Image.Image image mode=RGB size=128x64 at 0x7F14FFD2F748> 0\n",
            "267 <PIL.Image.Image image mode=RGB size=128x64 at 0x7F14FFC024A8> 0\n",
            "268 <PIL.Image.Image image mode=RGB size=128x64 at 0x7F14FFD2F748> 0\n",
            "269 <PIL.Image.Image image mode=RGB size=128x64 at 0x7F14FFC02390> 0\n",
            "270 <PIL.Image.Image image mode=RGB size=128x64 at 0x7F14FFD2F748> 0\n",
            "271 <PIL.Image.Image image mode=RGB size=128x64 at 0x7F14FFC024A8> 0\n",
            "272 <PIL.Image.Image image mode=RGB size=128x64 at 0x7F14FFD2F748> 0\n",
            "273 <PIL.Image.Image image mode=RGB size=128x64 at 0x7F14FFC02390> 0\n",
            "274 <PIL.Image.Image image mode=RGB size=128x64 at 0x7F14FFD2F748> 0\n",
            "275 <PIL.Image.Image image mode=RGB size=128x64 at 0x7F14FFC024A8> 0\n",
            "276 <PIL.Image.Image image mode=RGB size=128x64 at 0x7F14FFD2F748> 0\n",
            "277 <PIL.Image.Image image mode=RGB size=128x64 at 0x7F14FFC02390> 0\n",
            "278 <PIL.Image.Image image mode=RGB size=128x64 at 0x7F14FFD2F748> 0\n",
            "279 <PIL.Image.Image image mode=RGB size=128x64 at 0x7F14FFC024A8> 0\n",
            "280 <PIL.Image.Image image mode=RGB size=128x64 at 0x7F14FFD2F748> 0\n",
            "281 <PIL.Image.Image image mode=RGB size=128x64 at 0x7F14FFC02390> 0\n",
            "282 <PIL.Image.Image image mode=RGB size=128x64 at 0x7F14FFD2F748> 0\n",
            "283 <PIL.Image.Image image mode=RGB size=128x64 at 0x7F14FFC024A8> 0\n",
            "284 <PIL.Image.Image image mode=RGB size=128x64 at 0x7F14FFD2F748> 0\n",
            "285 <PIL.Image.Image image mode=RGB size=128x64 at 0x7F14FFC02390> 0\n",
            "286 <PIL.Image.Image image mode=RGB size=128x64 at 0x7F14FFD2F748> 0\n",
            "287 <PIL.Image.Image image mode=RGB size=128x64 at 0x7F14FFC024A8> 0\n",
            "288 <PIL.Image.Image image mode=RGB size=128x64 at 0x7F14FFD2F748> 0\n",
            "289 <PIL.Image.Image image mode=RGB size=128x64 at 0x7F14FFC02390> 0\n",
            "290 <PIL.Image.Image image mode=RGB size=128x64 at 0x7F14FFD2F748> 0\n",
            "291 <PIL.Image.Image image mode=RGB size=128x64 at 0x7F14FFC02390> 0\n",
            "292 <PIL.Image.Image image mode=RGB size=128x64 at 0x7F14FFD2F748> 0\n",
            "293 <PIL.Image.Image image mode=RGB size=128x64 at 0x7F14FFC024A8> 0\n",
            "294 <PIL.Image.Image image mode=RGB size=128x64 at 0x7F14FFD2F748> 0\n",
            "295 <PIL.Image.Image image mode=RGB size=128x64 at 0x7F14FFC02390> 0\n",
            "296 <PIL.Image.Image image mode=RGB size=128x64 at 0x7F14FFC024A8> 0\n",
            "297 <PIL.Image.Image image mode=RGB size=128x64 at 0x7F14FFD2F828> 0\n",
            "298 <PIL.Image.Image image mode=RGB size=128x64 at 0x7F14FFC025C0> 0\n",
            "299 <PIL.Image.Image image mode=RGB size=128x64 at 0x7F14FFD2F828> 0\n",
            "300 <PIL.Image.Image image mode=RGB size=128x64 at 0x7F14FFC02860> 0\n",
            "301 <PIL.Image.Image image mode=RGB size=128x64 at 0x7F14FFD2F828> 0\n",
            "302 <PIL.Image.Image image mode=RGB size=128x64 at 0x7F14FFC024A8> 0\n",
            "303 <PIL.Image.Image image mode=RGB size=128x64 at 0x7F14FFD2F828> 0\n",
            "304 <PIL.Image.Image image mode=RGB size=128x64 at 0x7F14FFC02860> 0\n",
            "305 <PIL.Image.Image image mode=RGB size=128x64 at 0x7F14FFD2F828> 0\n",
            "306 <PIL.Image.Image image mode=RGB size=128x64 at 0x7F14FFC024A8> 0\n",
            "307 <PIL.Image.Image image mode=RGB size=128x64 at 0x7F14FFD2F828> 0\n",
            "308 <PIL.Image.Image image mode=RGB size=128x64 at 0x7F14FFC02860> 0\n",
            "309 <PIL.Image.Image image mode=RGB size=128x64 at 0x7F14FFD2F828> 0\n",
            "310 <PIL.Image.Image image mode=RGB size=128x64 at 0x7F14FFC024A8> 0\n",
            "311 <PIL.Image.Image image mode=RGB size=128x64 at 0x7F14FFD2F828> 0\n",
            "312 <PIL.Image.Image image mode=RGB size=128x64 at 0x7F14FFC02860> 0\n",
            "313 <PIL.Image.Image image mode=RGB size=128x64 at 0x7F14FFD2F828> 0\n",
            "314 <PIL.Image.Image image mode=RGB size=128x64 at 0x7F14FFC024A8> 0\n",
            "315 <PIL.Image.Image image mode=RGB size=128x64 at 0x7F14FFD2F828> 0\n",
            "316 <PIL.Image.Image image mode=RGB size=128x64 at 0x7F14FFC02860> 0\n",
            "317 <PIL.Image.Image image mode=RGB size=128x64 at 0x7F14FFD2F828> 0\n",
            "318 <PIL.Image.Image image mode=RGB size=128x64 at 0x7F14FFC024A8> 0\n",
            "319 <PIL.Image.Image image mode=RGB size=128x64 at 0x7F14FFD2F828> 0\n",
            "320 <PIL.Image.Image image mode=RGB size=128x64 at 0x7F14FFC02860> 0\n",
            "321 <PIL.Image.Image image mode=RGB size=128x64 at 0x7F14FFD2F828> 0\n",
            "322 <PIL.Image.Image image mode=RGB size=128x64 at 0x7F14FFC02630> 0\n",
            "323 <PIL.Image.Image image mode=RGB size=128x64 at 0x7F14FFD2F828> 0\n",
            "324 <PIL.Image.Image image mode=RGB size=128x64 at 0x7F14FFC025C0> 0\n",
            "325 <PIL.Image.Image image mode=RGB size=128x64 at 0x7F14FFD2F828> 0\n",
            "326 <PIL.Image.Image image mode=RGB size=128x64 at 0x7F14FFC7E390> 0\n",
            "327 <PIL.Image.Image image mode=RGB size=128x64 at 0x7F14FFC024A8> 0\n",
            "328 <PIL.Image.Image image mode=RGB size=128x64 at 0x7F14FFD2F828> 1\n",
            "329 <PIL.Image.Image image mode=RGB size=128x64 at 0x7F14FFC02630> 1\n",
            "330 <PIL.Image.Image image mode=RGB size=128x64 at 0x7F14FFD2F828> 1\n",
            "331 <PIL.Image.Image image mode=RGB size=128x64 at 0x7F14FFC024A8> 1\n",
            "332 <PIL.Image.Image image mode=RGB size=128x64 at 0x7F14FFD2F828> 1\n",
            "333 <PIL.Image.Image image mode=RGB size=128x64 at 0x7F14FFC02630> 1\n",
            "334 <PIL.Image.Image image mode=RGB size=128x64 at 0x7F14FFD2F828> 1\n",
            "335 <PIL.Image.Image image mode=RGB size=128x64 at 0x7F14FFC024A8> 1\n",
            "336 <PIL.Image.Image image mode=RGB size=128x64 at 0x7F14FFD2F828> 1\n",
            "337 <PIL.Image.Image image mode=RGB size=128x64 at 0x7F14FFC02630> 1\n",
            "338 <PIL.Image.Image image mode=RGB size=128x64 at 0x7F14FFD2F828> 1\n",
            "339 <PIL.Image.Image image mode=RGB size=128x64 at 0x7F14FFC024A8> 1\n",
            "340 <PIL.Image.Image image mode=RGB size=128x64 at 0x7F14FFD2F828> 1\n",
            "341 <PIL.Image.Image image mode=RGB size=128x64 at 0x7F14FFC7E390> 1\n",
            "342 <PIL.Image.Image image mode=RGB size=128x64 at 0x7F14FFC02390> 1\n",
            "343 <PIL.Image.Image image mode=RGB size=128x64 at 0x7F14FFD2F828> 1\n",
            "344 <PIL.Image.Image image mode=RGB size=128x64 at 0x7F14FFC025C0> 1\n",
            "345 <PIL.Image.Image image mode=RGB size=128x64 at 0x7F14FFD2F828> 1\n",
            "346 <PIL.Image.Image image mode=RGB size=128x64 at 0x7F14FFC02390> 1\n",
            "347 <PIL.Image.Image image mode=RGB size=128x64 at 0x7F14FFD2F828> 1\n",
            "348 <PIL.Image.Image image mode=RGB size=128x64 at 0x7F14FFC025C0> 1\n",
            "349 <PIL.Image.Image image mode=RGB size=128x64 at 0x7F14FFD2F828> 1\n",
            "350 <PIL.Image.Image image mode=RGB size=128x64 at 0x7F14FFC02390> 1\n",
            "351 <PIL.Image.Image image mode=RGB size=128x64 at 0x7F14FFD2F828> 1\n",
            "352 <PIL.Image.Image image mode=RGB size=128x64 at 0x7F14FFC7E390> 1\n",
            "353 <PIL.Image.Image image mode=RGB size=128x64 at 0x7F14FFC02390> 1\n",
            "354 <PIL.Image.Image image mode=RGB size=128x64 at 0x7F14FFD2F828> 1\n",
            "355 <PIL.Image.Image image mode=RGB size=128x64 at 0x7F14FFC025C0> 1\n",
            "356 <PIL.Image.Image image mode=RGB size=128x64 at 0x7F14FFD2F828> 1\n",
            "357 <PIL.Image.Image image mode=RGB size=128x64 at 0x7F14FFC02390> 1\n",
            "358 <PIL.Image.Image image mode=RGB size=128x64 at 0x7F14FFD2F828> 1\n",
            "359 <PIL.Image.Image image mode=RGB size=128x64 at 0x7F14FFC025C0> 1\n",
            "360 <PIL.Image.Image image mode=RGB size=128x64 at 0x7F14FFD2F828> 1\n",
            "361 <PIL.Image.Image image mode=RGB size=128x64 at 0x7F14FFC02390> 1\n",
            "362 <PIL.Image.Image image mode=RGB size=128x64 at 0x7F14FFD2F828> 1\n",
            "363 <PIL.Image.Image image mode=RGB size=128x64 at 0x7F14FFC025C0> 1\n",
            "364 <PIL.Image.Image image mode=RGB size=128x64 at 0x7F14FFD2F828> 1\n",
            "365 <PIL.Image.Image image mode=RGB size=128x64 at 0x7F14FFC7E390> 1\n",
            "366 <PIL.Image.Image image mode=RGB size=128x64 at 0x7F14FFC024A8> 1\n",
            "367 <PIL.Image.Image image mode=RGB size=128x64 at 0x7F14FFD2F828> 1\n",
            "368 <PIL.Image.Image image mode=RGB size=128x64 at 0x7F14FFC02390> 1\n",
            "369 <PIL.Image.Image image mode=RGB size=128x64 at 0x7F14FFD2F828> 1\n",
            "370 <PIL.Image.Image image mode=RGB size=128x64 at 0x7F14FFC024A8> 1\n",
            "371 <PIL.Image.Image image mode=RGB size=128x64 at 0x7F14FFD2F828> 1\n",
            "372 <PIL.Image.Image image mode=RGB size=128x64 at 0x7F14FFC02390> 1\n",
            "373 <PIL.Image.Image image mode=RGB size=128x64 at 0x7F14FFD2F828> 1\n",
            "374 <PIL.Image.Image image mode=RGB size=128x64 at 0x7F14FFC024A8> 1\n",
            "375 <PIL.Image.Image image mode=RGB size=128x64 at 0x7F14FFD2F828> 1\n",
            "376 <PIL.Image.Image image mode=RGB size=128x64 at 0x7F14FFC02390> 1\n",
            "377 <PIL.Image.Image image mode=RGB size=128x64 at 0x7F14FFD2F828> 1\n",
            "378 <PIL.Image.Image image mode=RGB size=128x64 at 0x7F14FFC024A8> 1\n",
            "379 <PIL.Image.Image image mode=RGB size=128x64 at 0x7F14FFD2F828> 1\n",
            "380 <PIL.Image.Image image mode=RGB size=128x64 at 0x7F14FFC02390> 1\n",
            "381 <PIL.Image.Image image mode=RGB size=128x64 at 0x7F14FFC7E390> 1\n",
            "382 <PIL.Image.Image image mode=RGB size=128x64 at 0x7F14FFC02390> 1\n",
            "383 <PIL.Image.Image image mode=RGB size=128x64 at 0x7F14FFC02860> 1\n",
            "384 <PIL.Image.Image image mode=RGB size=128x64 at 0x7F14FFC02390> 1\n",
            "385 <PIL.Image.Image image mode=RGB size=128x64 at 0x7F14FFC02860> 1\n",
            "386 <PIL.Image.Image image mode=RGB size=128x64 at 0x7F14FFC02390> 1\n",
            "387 <PIL.Image.Image image mode=RGB size=128x64 at 0x7F14FFC02860> 1\n",
            "388 <PIL.Image.Image image mode=RGB size=128x64 at 0x7F14FFC02390> 1\n",
            "389 <PIL.Image.Image image mode=RGB size=128x64 at 0x7F14FFC024A8> 1\n",
            "390 <PIL.Image.Image image mode=RGB size=128x64 at 0x7F14FFC02860> 1\n",
            "391 <PIL.Image.Image image mode=RGB size=128x64 at 0x7F14FFC7E390> 1\n",
            "392 <PIL.Image.Image image mode=RGB size=128x64 at 0x7F14FFC02860> 1\n",
            "393 <PIL.Image.Image image mode=RGB size=128x64 at 0x7F14FFD2F748> 1\n",
            "394 <PIL.Image.Image image mode=RGB size=128x64 at 0x7F14FFC7E390> 1\n",
            "395 <PIL.Image.Image image mode=RGB size=128x64 at 0x7F14FFC024A8> 1\n",
            "396 <PIL.Image.Image image mode=RGB size=128x64 at 0x7F14FFD2F828> 1\n",
            "397 <PIL.Image.Image image mode=RGB size=128x64 at 0x7F14FFC7E390> 1\n",
            "398 <PIL.Image.Image image mode=RGB size=128x64 at 0x7F14FFC025C0> 1\n",
            "399 <PIL.Image.Image image mode=RGB size=128x64 at 0x7F14FFC7E390> 1\n",
            "400 <PIL.Image.Image image mode=RGB size=128x64 at 0x7F14FFC024A8> 1\n",
            "401 <PIL.Image.Image image mode=RGB size=128x64 at 0x7F14FFD2F748> 1\n",
            "402 <PIL.Image.Image image mode=RGB size=128x64 at 0x7F14FFC02390> 1\n",
            "403 <PIL.Image.Image image mode=RGB size=128x64 at 0x7F14FFD2F748> 1\n",
            "404 <PIL.Image.Image image mode=RGB size=128x64 at 0x7F14FFC025C0> 1\n",
            "405 <PIL.Image.Image image mode=RGB size=128x64 at 0x7F14FFD2F748> 1\n",
            "406 <PIL.Image.Image image mode=RGB size=128x64 at 0x7F14FFC02390> 1\n",
            "407 <PIL.Image.Image image mode=RGB size=128x64 at 0x7F14FFC7E390> 1\n",
            "408 <PIL.Image.Image image mode=RGB size=128x64 at 0x7F14FFC02860> 1\n",
            "409 <PIL.Image.Image image mode=RGB size=128x64 at 0x7F14FFD2F748> 1\n",
            "410 <PIL.Image.Image image mode=RGB size=128x64 at 0x7F14FFC025C0> 1\n",
            "411 <PIL.Image.Image image mode=RGB size=128x64 at 0x7F14FFD2F748> 1\n",
            "412 <PIL.Image.Image image mode=RGB size=128x64 at 0x7F14FFC7E390> 1\n",
            "413 <PIL.Image.Image image mode=RGB size=128x64 at 0x7F14FFC02630> 1\n",
            "414 <PIL.Image.Image image mode=RGB size=128x64 at 0x7F14FFD2F748> 1\n",
            "415 <PIL.Image.Image image mode=RGB size=128x64 at 0x7F14FFC02860> 1\n",
            "416 <PIL.Image.Image image mode=RGB size=128x64 at 0x7F14FFC7E390> 1\n",
            "417 <PIL.Image.Image image mode=RGB size=128x64 at 0x7F14FFC02860> 1\n",
            "418 <PIL.Image.Image image mode=RGB size=128x64 at 0x7F14FFC024A8> 1\n",
            "419 <PIL.Image.Image image mode=RGB size=128x64 at 0x7F14FFC02860> 1\n",
            "420 <PIL.Image.Image image mode=RGB size=128x64 at 0x7F14FFC024A8> 1\n",
            "421 <PIL.Image.Image image mode=RGB size=128x64 at 0x7F14FFC02860> 1\n",
            "422 <PIL.Image.Image image mode=RGB size=128x64 at 0x7F14FFC024A8> 1\n",
            "423 <PIL.Image.Image image mode=RGB size=128x64 at 0x7F14FFC02860> 1\n",
            "424 <PIL.Image.Image image mode=RGB size=128x64 at 0x7F14FFC024A8> 1\n",
            "425 <PIL.Image.Image image mode=RGB size=128x64 at 0x7F14FFC02860> 1\n",
            "426 <PIL.Image.Image image mode=RGB size=128x64 at 0x7F14FFC024A8> 1\n",
            "427 <PIL.Image.Image image mode=RGB size=128x64 at 0x7F14FFC02860> 1\n",
            "428 <PIL.Image.Image image mode=RGB size=128x64 at 0x7F14FFC024A8> 1\n",
            "429 <PIL.Image.Image image mode=RGB size=128x64 at 0x7F14FFC02860> 1\n",
            "430 <PIL.Image.Image image mode=RGB size=128x64 at 0x7F14FFC024A8> 1\n",
            "431 <PIL.Image.Image image mode=RGB size=128x64 at 0x7F14FFC02860> 1\n",
            "432 <PIL.Image.Image image mode=RGB size=128x64 at 0x7F14FFC024A8> 1\n",
            "433 <PIL.Image.Image image mode=RGB size=128x64 at 0x7F14FFC02860> 1\n",
            "434 <PIL.Image.Image image mode=RGB size=128x64 at 0x7F14FFC7E390> 1\n",
            "435 <PIL.Image.Image image mode=RGB size=128x64 at 0x7F14FFC024A8> 1\n",
            "436 <PIL.Image.Image image mode=RGB size=128x64 at 0x7F14FFD2F748> 1\n",
            "437 <PIL.Image.Image image mode=RGB size=128x64 at 0x7F14FFC025C0> 1\n",
            "438 <PIL.Image.Image image mode=RGB size=128x64 at 0x7F14FFC7E390> 1\n",
            "439 <PIL.Image.Image image mode=RGB size=128x64 at 0x7F14FFC02860> 1\n",
            "440 <PIL.Image.Image image mode=RGB size=128x64 at 0x7F14FFC7E390> 1\n",
            "441 <PIL.Image.Image image mode=RGB size=128x64 at 0x7F14FFC02860> 1\n",
            "442 <PIL.Image.Image image mode=RGB size=128x64 at 0x7F14FFD2F748> 1\n",
            "443 <PIL.Image.Image image mode=RGB size=128x64 at 0x7F14FFC024A8> 1\n",
            "444 <PIL.Image.Image image mode=RGB size=128x64 at 0x7F14FFC7E390> 1\n",
            "445 <PIL.Image.Image image mode=RGB size=128x64 at 0x7F14FFC02390> 1\n",
            "446 <PIL.Image.Image image mode=RGB size=128x64 at 0x7F14FFD2F748> 1\n",
            "447 <PIL.Image.Image image mode=RGB size=128x64 at 0x7F14FFC02860> 1\n",
            "448 <PIL.Image.Image image mode=RGB size=128x64 at 0x7F14FFD2F748> 1\n",
            "449 <PIL.Image.Image image mode=RGB size=128x64 at 0x7F14FFC02390> 1\n",
            "450 <PIL.Image.Image image mode=RGB size=128x64 at 0x7F14FFD2F748> 1\n",
            "451 <PIL.Image.Image image mode=RGB size=128x64 at 0x7F14FFC02860> 1\n",
            "452 <PIL.Image.Image image mode=RGB size=128x64 at 0x7F14FFD2F748> 1\n",
            "453 <PIL.Image.Image image mode=RGB size=128x64 at 0x7F14FFC7E390> 1\n",
            "454 <PIL.Image.Image image mode=RGB size=128x64 at 0x7F14FFC02630> 1\n",
            "455 <PIL.Image.Image image mode=RGB size=128x64 at 0x7F14FFD2F748> 1\n",
            "456 <PIL.Image.Image image mode=RGB size=128x64 at 0x7F14FFC02390> 1\n",
            "457 <PIL.Image.Image image mode=RGB size=128x64 at 0x7F14FFD2F748> 1\n",
            "458 <PIL.Image.Image image mode=RGB size=128x64 at 0x7F14FFC02630> 1\n",
            "459 <PIL.Image.Image image mode=RGB size=128x64 at 0x7F14FFD2F748> 1\n",
            "460 <PIL.Image.Image image mode=RGB size=128x64 at 0x7F14FFC02390> 1\n",
            "461 <PIL.Image.Image image mode=RGB size=128x64 at 0x7F14FFD2F748> 1\n",
            "462 <PIL.Image.Image image mode=RGB size=128x64 at 0x7F14FFC02630> 1\n",
            "463 <PIL.Image.Image image mode=RGB size=128x64 at 0x7F14FFD2F748> 1\n",
            "464 <PIL.Image.Image image mode=RGB size=128x64 at 0x7F14FFC02390> 1\n",
            "465 <PIL.Image.Image image mode=RGB size=128x64 at 0x7F14FFD2F748> 1\n",
            "466 <PIL.Image.Image image mode=RGB size=128x64 at 0x7F14FFC02630> 1\n",
            "467 <PIL.Image.Image image mode=RGB size=128x64 at 0x7F14FFD2F748> 1\n",
            "468 <PIL.Image.Image image mode=RGB size=128x64 at 0x7F14FFC02390> 1\n",
            "469 <PIL.Image.Image image mode=RGB size=128x64 at 0x7F14FFD2F748> 1\n",
            "470 <PIL.Image.Image image mode=RGB size=128x64 at 0x7F14FFC02630> 1\n",
            "471 <PIL.Image.Image image mode=RGB size=128x64 at 0x7F14FFD2F748> 1\n",
            "472 <PIL.Image.Image image mode=RGB size=128x64 at 0x7F14FFC02390> 1\n",
            "473 <PIL.Image.Image image mode=RGB size=128x64 at 0x7F14FFD2F748> 1\n",
            "474 <PIL.Image.Image image mode=RGB size=128x64 at 0x7F14FFC02630> 1\n",
            "475 <PIL.Image.Image image mode=RGB size=128x64 at 0x7F14FFD2F748> 1\n",
            "476 <PIL.Image.Image image mode=RGB size=128x64 at 0x7F14FFC02390> 1\n",
            "477 <PIL.Image.Image image mode=RGB size=128x64 at 0x7F14FFD2F748> 1\n",
            "478 <PIL.Image.Image image mode=RGB size=128x64 at 0x7F14FFC02630> 1\n",
            "479 <PIL.Image.Image image mode=RGB size=128x64 at 0x7F14FFD2F748> 1\n",
            "480 <PIL.Image.Image image mode=RGB size=128x64 at 0x7F14FFC02390> 1\n",
            "481 <PIL.Image.Image image mode=RGB size=128x64 at 0x7F14FFD2F748> 1\n",
            "482 <PIL.Image.Image image mode=RGB size=128x64 at 0x7F14FFC02630> 1\n",
            "483 <PIL.Image.Image image mode=RGB size=128x64 at 0x7F14FFD2F748> 1\n",
            "484 <PIL.Image.Image image mode=RGB size=128x64 at 0x7F14FFC7E390> 1\n",
            "485 <PIL.Image.Image image mode=RGB size=128x64 at 0x7F14FFC025C0> 1\n",
            "486 <PIL.Image.Image image mode=RGB size=128x64 at 0x7F14FFD2F748> 1\n",
            "487 <PIL.Image.Image image mode=RGB size=128x64 at 0x7F14FFC02390> 1\n",
            "488 <PIL.Image.Image image mode=RGB size=128x64 at 0x7F14FFD2F748> 1\n",
            "489 <PIL.Image.Image image mode=RGB size=128x64 at 0x7F14FFC025C0> 1\n",
            "490 <PIL.Image.Image image mode=RGB size=128x64 at 0x7F14FFD2F748> 1\n",
            "491 <PIL.Image.Image image mode=RGB size=128x64 at 0x7F14FFC02390> 1\n",
            "492 <PIL.Image.Image image mode=RGB size=128x64 at 0x7F14FFD2F748> 1\n",
            "493 <PIL.Image.Image image mode=RGB size=128x64 at 0x7F14FFC7E390> 1\n",
            "494 <PIL.Image.Image image mode=RGB size=128x64 at 0x7F14FFC024A8> 1\n",
            "495 <PIL.Image.Image image mode=RGB size=128x64 at 0x7F14FFD2F748> 1\n",
            "496 <PIL.Image.Image image mode=RGB size=128x64 at 0x7F14FFC025C0> 1\n",
            "497 <PIL.Image.Image image mode=RGB size=128x64 at 0x7F14FFD2F748> 1\n",
            "498 <PIL.Image.Image image mode=RGB size=128x64 at 0x7F14FFC024A8> 1\n",
            "499 <PIL.Image.Image image mode=RGB size=128x64 at 0x7F14FFD2F748> 1\n",
            "500 <PIL.Image.Image image mode=RGB size=128x64 at 0x7F14FFC025C0> 1\n",
            "501 <PIL.Image.Image image mode=RGB size=128x64 at 0x7F14FFD2F748> 1\n",
            "502 <PIL.Image.Image image mode=RGB size=128x64 at 0x7F14FFC025C0> 1\n",
            "503 <PIL.Image.Image image mode=RGB size=128x64 at 0x7F14FFD2F748> 1\n",
            "504 <PIL.Image.Image image mode=RGB size=128x64 at 0x7F14FFC024A8> 1\n",
            "505 <PIL.Image.Image image mode=RGB size=128x64 at 0x7F14FFD2F748> 1\n",
            "506 <PIL.Image.Image image mode=RGB size=128x64 at 0x7F14FFC7E390> 1\n",
            "507 <PIL.Image.Image image mode=RGB size=128x64 at 0x7F14FFC02860> 1\n",
            "508 <PIL.Image.Image image mode=RGB size=128x64 at 0x7F14FFD2F748> 1\n",
            "509 <PIL.Image.Image image mode=RGB size=128x64 at 0x7F14FFC025C0> 1\n",
            "510 <PIL.Image.Image image mode=RGB size=128x64 at 0x7F14FFD2F748> 1\n",
            "511 <PIL.Image.Image image mode=RGB size=128x64 at 0x7F14FFC02860> 1\n",
            "512 <PIL.Image.Image image mode=RGB size=128x64 at 0x7F14FFD2F748> 1\n",
            "513 <PIL.Image.Image image mode=RGB size=128x64 at 0x7F14FFC025C0> 1\n",
            "514 <PIL.Image.Image image mode=RGB size=128x64 at 0x7F14FFC7E390> 1\n",
            "515 <PIL.Image.Image image mode=RGB size=128x64 at 0x7F14FFC025C0> 1\n",
            "516 <PIL.Image.Image image mode=RGB size=128x64 at 0x7F14FFC02630> 1\n",
            "517 <PIL.Image.Image image mode=RGB size=128x64 at 0x7F14FFC025C0> 1\n",
            "518 <PIL.Image.Image image mode=RGB size=128x64 at 0x7F14FFC02630> 1\n",
            "519 <PIL.Image.Image image mode=RGB size=128x64 at 0x7F14FFC025C0> 1\n",
            "520 <PIL.Image.Image image mode=RGB size=128x64 at 0x7F14FFC02630> 1\n",
            "521 <PIL.Image.Image image mode=RGB size=128x64 at 0x7F14FFC025C0> 1\n",
            "522 <PIL.Image.Image image mode=RGB size=128x64 at 0x7F14FFC02630> 1\n",
            "523 <PIL.Image.Image image mode=RGB size=128x64 at 0x7F14FFC025C0> 1\n",
            "524 <PIL.Image.Image image mode=RGB size=128x64 at 0x7F14FFC02630> 1\n",
            "525 <PIL.Image.Image image mode=RGB size=128x64 at 0x7F14FFC025C0> 1\n",
            "526 <PIL.Image.Image image mode=RGB size=128x64 at 0x7F14FFC02630> 1\n",
            "527 <PIL.Image.Image image mode=RGB size=128x64 at 0x7F14FFC025C0> 1\n",
            "528 <PIL.Image.Image image mode=RGB size=128x64 at 0x7F14FFC02630> 1\n",
            "529 <PIL.Image.Image image mode=RGB size=128x64 at 0x7F14FFC025C0> 1\n",
            "530 <PIL.Image.Image image mode=RGB size=128x64 at 0x7F14FFC02630> 1\n",
            "531 <PIL.Image.Image image mode=RGB size=128x64 at 0x7F14FFC025C0> 1\n",
            "532 <PIL.Image.Image image mode=RGB size=128x64 at 0x7F14FFC02630> 1\n",
            "533 <PIL.Image.Image image mode=RGB size=128x64 at 0x7F14FFC025C0> 1\n",
            "534 <PIL.Image.Image image mode=RGB size=128x64 at 0x7F14FFC02630> 1\n",
            "535 <PIL.Image.Image image mode=RGB size=128x64 at 0x7F14FFC7E390> 1\n",
            "536 <PIL.Image.Image image mode=RGB size=128x64 at 0x7F14FFC02630> 1\n",
            "537 <PIL.Image.Image image mode=RGB size=128x64 at 0x7F14FFC02860> 1\n",
            "538 <PIL.Image.Image image mode=RGB size=128x64 at 0x7F14FFC02630> 1\n",
            "539 <PIL.Image.Image image mode=RGB size=128x64 at 0x7F14FFC02860> 1\n",
            "540 <PIL.Image.Image image mode=RGB size=128x64 at 0x7F14FFC02630> 1\n",
            "541 <PIL.Image.Image image mode=RGB size=128x64 at 0x7F14FFC02860> 1\n",
            "542 <PIL.Image.Image image mode=RGB size=128x64 at 0x7F14FFC02630> 1\n",
            "543 <PIL.Image.Image image mode=RGB size=128x64 at 0x7F14FFC02860> 1\n",
            "544 <PIL.Image.Image image mode=RGB size=128x64 at 0x7F14FFC02630> 1\n",
            "545 <PIL.Image.Image image mode=RGB size=128x64 at 0x7F14FFC02860> 1\n",
            "546 <PIL.Image.Image image mode=RGB size=128x64 at 0x7F14FFC02630> 1\n",
            "547 <PIL.Image.Image image mode=RGB size=128x64 at 0x7F14FFC02860> 1\n",
            "548 <PIL.Image.Image image mode=RGB size=128x64 at 0x7F14FFC02630> 1\n",
            "549 <PIL.Image.Image image mode=RGB size=128x64 at 0x7F14FFC02860> 1\n",
            "550 <PIL.Image.Image image mode=RGB size=128x64 at 0x7F14FFC02630> 1\n"
          ],
          "name": "stdout"
        }
      ]
    },
    {
      "cell_type": "code",
      "metadata": {
        "id": "INCCQ4-OKTf4",
        "colab_type": "code",
        "colab": {}
      },
      "source": [
        "import torch\n",
        "import torch.nn as nn\n",
        "import torch.nn.functional as F\n",
        "\n",
        "import torch.optim as optim\n",
        "from torch.utils.data import DataLoader\n",
        "\n",
        "import torchvision\n",
        "import torchvision.transforms as transforms"
      ],
      "execution_count": 0,
      "outputs": []
    },
    {
      "cell_type": "code",
      "metadata": {
        "id": "c3sgmd87LOv9",
        "colab_type": "code",
        "outputId": "ea51c09a-fc5d-4775-e6a6-9999b889eb70",
        "colab": {
          "base_uri": "https://localhost:8080/",
          "height": 36
        }
      },
      "source": [
        "device='cuda' if torch.cuda.is_available() else 'cpu'\n",
        "\n",
        "torch.manual_seed(1)\n",
        "if device=='cuda':\n",
        "    torch.cuda.manual_seed_all(1)\n",
        "    print(device,torch.cuda.is_available())"
      ],
      "execution_count": 0,
      "outputs": [
        {
          "output_type": "stream",
          "text": [
            "cuda True\n"
          ],
          "name": "stdout"
        }
      ]
    },
    {
      "cell_type": "code",
      "metadata": {
        "id": "uzwP-w-iLeAw",
        "colab_type": "code",
        "colab": {}
      },
      "source": [
        "trans=transforms.Compose([\n",
        "                          transforms.ToTensor()\n",
        "])\n",
        "#ImageFolder는 mnist를 예시로하면 0번 폴더에는 0만 1번 폴더에는 1만 이런식으로 정렬되어 있을때 사용가능\n",
        "train_data=torchvision.datasets.ImageFolder(root='/content/drive/My Drive/Colab Notebooks/부스트코스/custom_data/train_data',transform=trans)\n",
        "\n",
        "#train data를 밸리데이션 으로 나누자!!"
      ],
      "execution_count": 0,
      "outputs": []
    },
    {
      "cell_type": "code",
      "metadata": {
        "id": "USVdXoDEThic",
        "colab_type": "code",
        "outputId": "07d5605b-4976-4c79-efd5-2384cdf9d64f",
        "colab": {
          "base_uri": "https://localhost:8080/",
          "height": 36
        }
      },
      "source": [
        "train_val_ratio = 0.8\n",
        "train_size = int(len(train_data) * train_val_ratio)\n",
        "val_size = len(train_data) - train_size\n",
        "\n",
        "# train set와 validation set로 나누자\n",
        "\n",
        "train_dataset, val_dataset = torch.utils.data.random_split(train_data, [train_size, val_size])\n",
        "print(len(train_dataset), len(val_dataset))"
      ],
      "execution_count": 0,
      "outputs": [
        {
          "output_type": "stream",
          "text": [
            "442 111\n"
          ],
          "name": "stdout"
        }
      ]
    },
    {
      "cell_type": "code",
      "metadata": {
        "id": "Ep81oUmeLoUE",
        "colab_type": "code",
        "colab": {}
      },
      "source": [
        "train_dataloader=DataLoader(dataset=train_dataset,batch_size=8,shuffle=True,num_workers=2)\n",
        "val_dataloader=DataLoader(dataset=val_dataset,batch_size=8,shuffle=True,num_workers=2)"
      ],
      "execution_count": 0,
      "outputs": []
    },
    {
      "cell_type": "code",
      "metadata": {
        "id": "Gtua9wZ2Lorh",
        "colab_type": "code",
        "colab": {}
      },
      "source": [
        "class CNN(nn.Module):\n",
        "    def __init__(self):\n",
        "        super().__init__()\n",
        "        self.layer1=nn.Sequential(\n",
        "            nn.Conv2d(3,6,5),\n",
        "            nn.ReLU(),\n",
        "            nn.MaxPool2d(2)\n",
        "        )\n",
        "\n",
        "        self.layer2=nn.Sequential(\n",
        "            nn.Conv2d(6,16,5),\n",
        "            nn.ReLU(),\n",
        "            nn.MaxPool2d(2)\n",
        "        )\n",
        " \n",
        "        self.fc=nn.Sequential(\n",
        "            nn.Linear(16*13*29,120),    #fc1\n",
        "            nn.ReLU(),\n",
        "            nn.Linear(120,2)            #fc2\n",
        "        )\n",
        "\n",
        "        \n",
        "\n",
        "    def forward(self,x):\n",
        "        out=self.layer1(x)\n",
        "        out=self.layer2(out)\n",
        "\n",
        "        out=out.view(out.size(0),-1)\n",
        "        out=self.fc(out)\n",
        "        return out\n"
      ],
      "execution_count": 0,
      "outputs": []
    },
    {
      "cell_type": "code",
      "metadata": {
        "id": "hL_b0EBMODa9",
        "colab_type": "code",
        "colab": {}
      },
      "source": [
        "model=CNN().to(device)"
      ],
      "execution_count": 0,
      "outputs": []
    },
    {
      "cell_type": "code",
      "metadata": {
        "id": "LgWDjYlsLot4",
        "colab_type": "code",
        "colab": {}
      },
      "source": [
        "optimizer=optim.Adam(model.parameters(),lr=0.00005)\n",
        "loss=nn.CrossEntropyLoss().to(device)"
      ],
      "execution_count": 0,
      "outputs": []
    },
    {
      "cell_type": "code",
      "metadata": {
        "id": "yrDbkmVBLoyh",
        "colab_type": "code",
        "outputId": "77507d55-7b31-4de5-bf36-735361c2d639",
        "colab": {
          "base_uri": "https://localhost:8080/",
          "height": 908
        }
      },
      "source": [
        "total_batch=len(train_dataloader)+len(val_dataloader)\n",
        "train_losses = []\n",
        "val_losses = []\n",
        "epochs=15\n",
        "\n",
        "for epoch in range(epochs+1):\n",
        "    avg_cost=0\n",
        "    for num,data in enumerate(train_dataloader):\n",
        "        imgs,labels=data\n",
        "        imgs=imgs.to(device)\n",
        "        labels=labels.to(device)\n",
        "\n",
        "        optimizer.zero_grad()\n",
        "        hypothesis=model(imgs)\n",
        "        cost=loss(hypothesis,labels)\n",
        "        cost.backward()\n",
        "        optimizer.step()\n",
        "        train_losses.append(cost.item())\n",
        "\n",
        "\n",
        "        avg_cost += cost/total_batch\n",
        "\n",
        "    print('epoch:{} cost= {}'.format(epoch+1,avg_cost))\n",
        "\n",
        "    for num,data in enumerate(val_dataloader):\n",
        "        imgs,labels=data\n",
        "        imgs=imgs.to(device)\n",
        "        labels=labels.to(device)\n",
        "\n",
        "        optimizer.zero_grad()\n",
        "        hypothesis=model(imgs)\n",
        "        cost=loss(hypothesis,labels)\n",
        "        cost.backward()\n",
        "        optimizer.step()\n",
        "        val_losses.append(cost.item())\n",
        "\n",
        "\n",
        "        avg_cost += cost/total_batch\n",
        "\n",
        "    print('epoch:{} cost= {}'.format(epoch+1,avg_cost))\n",
        "    print('-'*50)"
      ],
      "execution_count": 0,
      "outputs": [
        {
          "output_type": "stream",
          "text": [
            "epoch:1 cost= 0.00372397736646235\n",
            "epoch:1 cost= 0.004083558451384306\n",
            "--------------------------------------------------\n",
            "epoch:2 cost= 0.0015204366063699126\n",
            "epoch:2 cost= 0.0016787548083811998\n",
            "--------------------------------------------------\n",
            "epoch:3 cost= 0.0007155410130508244\n",
            "epoch:3 cost= 0.0007835220312699676\n",
            "--------------------------------------------------\n",
            "epoch:4 cost= 0.0005313912988640368\n",
            "epoch:4 cost= 0.0005781351937912405\n",
            "--------------------------------------------------\n",
            "epoch:5 cost= 0.0003118894819635898\n",
            "epoch:5 cost= 0.0003464850306045264\n",
            "--------------------------------------------------\n",
            "epoch:6 cost= 0.00021791437757201493\n",
            "epoch:6 cost= 0.0002506502205505967\n",
            "--------------------------------------------------\n",
            "epoch:7 cost= 0.0001717169361654669\n",
            "epoch:7 cost= 0.00019198597874492407\n",
            "--------------------------------------------------\n",
            "epoch:8 cost= 0.0001298372371820733\n",
            "epoch:8 cost= 0.0001527233689557761\n",
            "--------------------------------------------------\n",
            "epoch:9 cost= 9.897609561448917e-05\n",
            "epoch:9 cost= 0.00012129961396567523\n",
            "--------------------------------------------------\n",
            "epoch:10 cost= 8.205771155189723e-05\n",
            "epoch:10 cost= 0.00010057844338007271\n",
            "--------------------------------------------------\n",
            "epoch:11 cost= 7.116538472473621e-05\n",
            "epoch:11 cost= 8.539920236216858e-05\n",
            "--------------------------------------------------\n",
            "epoch:12 cost= 5.751336721004918e-05\n",
            "epoch:12 cost= 7.144104165490717e-05\n",
            "--------------------------------------------------\n",
            "epoch:13 cost= 5.123402297613211e-05\n",
            "epoch:13 cost= 6.017210762365721e-05\n",
            "--------------------------------------------------\n",
            "epoch:14 cost= 4.499428177950904e-05\n",
            "epoch:14 cost= 5.8048484788741916e-05\n",
            "--------------------------------------------------\n",
            "epoch:15 cost= 3.234914402128197e-05\n",
            "epoch:15 cost= 3.734109486686066e-05\n",
            "--------------------------------------------------\n",
            "epoch:16 cost= 2.7444963052403182e-05\n",
            "epoch:16 cost= 3.1889157980913296e-05\n",
            "--------------------------------------------------\n"
          ],
          "name": "stdout"
        }
      ]
    },
    {
      "cell_type": "code",
      "metadata": {
        "id": "HAQ9eZUbYZv0",
        "colab_type": "code",
        "outputId": "14eadfd9-1502-431a-bf75-04e5ed63d986",
        "colab": {
          "base_uri": "https://localhost:8080/",
          "height": 265
        }
      },
      "source": [
        "import matplotlib.pyplot as plt\n",
        "\n",
        "plt.plot(train_losses,label='Train')\n",
        "plt.plot(val_losses,label='Val')\n",
        "plt.legend()\n",
        "plt.show()"
      ],
      "execution_count": 0,
      "outputs": [
        {
          "output_type": "display_data",
          "data": {
            "image/png": "[encoded data removed]",
            "text/plain": [
              "<Figure size 432x288 with 1 Axes>"
            ]
          },
          "metadata": {
            "tags": [],
            "needs_background": "light"
          }
        }
      ]
    },
    {
      "cell_type": "code",
      "metadata": {
        "id": "0L4nYmSXLo1L",
        "colab_type": "code",
        "colab": {}
      },
      "source": [
        "# 학습시킨 결과물 저장하고 불러오기"
      ],
      "execution_count": 0,
      "outputs": []
    },
    {
      "cell_type": "code",
      "metadata": {
        "id": "y1rfRibdLo3n",
        "colab_type": "code",
        "colab": {}
      },
      "source": [
        "torch.save(model.state_dict(),'/content/drive/My Drive/Colab Notebooks/부스트코스/custom_data/train_data/model.pth')"
      ],
      "execution_count": 0,
      "outputs": []
    },
    {
      "cell_type": "code",
      "metadata": {
        "id": "4dHkByFsLoxb",
        "colab_type": "code",
        "colab": {}
      },
      "source": [
        "new_model=CNN().to(device)"
      ],
      "execution_count": 0,
      "outputs": []
    },
    {
      "cell_type": "code",
      "metadata": {
        "id": "ZzzPZcIPWYfl",
        "colab_type": "code",
        "outputId": "005af664-8d74-431c-8538-34023474a356",
        "colab": {
          "base_uri": "https://localhost:8080/",
          "height": 36
        }
      },
      "source": [
        "new_model.load_state_dict(torch.load('/content/drive/My Drive/Colab Notebooks/부스트코스/custom_data/train_data/model.pth'))"
      ],
      "execution_count": 0,
      "outputs": [
        {
          "output_type": "execute_result",
          "data": {
            "text/plain": [
              "<All keys matched successfully>"
            ]
          },
          "metadata": {
            "tags": []
          },
          "execution_count": 119
        }
      ]
    },
    {
      "cell_type": "markdown",
      "metadata": {
        "id": "ATGb77nXW_SP",
        "colab_type": "text"
      },
      "source": [
        "평가하기"
      ]
    },
    {
      "cell_type": "code",
      "metadata": {
        "id": "WmdArlpIXAjU",
        "colab_type": "code",
        "colab": {}
      },
      "source": [
        "trans=transforms.Compose([\n",
        "                          transforms.Resize((64,128)),\n",
        "                          transforms.ToTensor()\n",
        "])\n",
        "test_data=torchvision.datasets.ImageFolder(root='/content/drive/My Drive/Colab Notebooks/부스트코스/custom_data/test_data',transform=trans)"
      ],
      "execution_count": 0,
      "outputs": []
    },
    {
      "cell_type": "code",
      "metadata": {
        "id": "xnoAPpb8XdQ6",
        "colab_type": "code",
        "colab": {}
      },
      "source": [
        "test_dataloader=DataLoader(dataset=test_data,batch_size=len(test_data))"
      ],
      "execution_count": 0,
      "outputs": []
    },
    {
      "cell_type": "code",
      "metadata": {
        "id": "vKW_3Y4LXcZx",
        "colab_type": "code",
        "outputId": "d3ae05d9-b224-4c00-9987-98209d6bba23",
        "colab": {
          "base_uri": "https://localhost:8080/",
          "height": 36
        }
      },
      "source": [
        "with torch.no_grad():\n",
        "    for num,data in enumerate(test_dataloader):\n",
        "        imgs,labels=data\n",
        "        imgs=imgs.to(device)\n",
        "        labels=labels.to(device)\n",
        "\n",
        "        prediction=model(imgs)\n",
        "        correct_prediction=torch.argmax(prediction,1)==label\n",
        "        accuracy=correct_prediction.float().mean()\n",
        "        \n",
        "        print('Accuracy : ',accuracy.item())\n",
        "\n"
      ],
      "execution_count": 0,
      "outputs": [
        {
          "output_type": "stream",
          "text": [
            "Accuracy :  0.41999998688697815\n"
          ],
          "name": "stdout"
        }
      ]
    },
    {
      "cell_type": "markdown",
      "metadata": {
        "id": "mknnsqcQZaH1",
        "colab_type": "text"
      },
      "source": [
        "VGG"
      ]
    },
    {
      "cell_type": "code",
      "metadata": {
        "id": "eqNwN53tZbvc",
        "colab_type": "code",
        "colab": {}
      },
      "source": [
        "import torch.nn as nn\n",
        "import torch.utils.model_zoo as model_zoo"
      ],
      "execution_count": 0,
      "outputs": []
    },
    {
      "cell_type": "code",
      "metadata": {
        "id": "9M0q2U3eArSv",
        "colab_type": "code",
        "colab": {}
      },
      "source": [
        "\n",
        "__all__ = [\n",
        "    'VGG', 'vgg11', 'vgg11_bn', 'vgg13', 'vgg13_bn', 'vgg16', 'vgg16_bn',\n",
        "    'vgg19_bn', 'vgg19',\n",
        "]\n",
        "\n",
        "\n",
        "model_urls = {\n",
        "    'vgg11': 'https://download.pytorch.org/models/vgg11-bbd30ac9.pth',\n",
        "    'vgg13': 'https://download.pytorch.org/models/vgg13-c768596a.pth',\n",
        "    'vgg16': 'https://download.pytorch.org/models/vgg16-397923af.pth',\n",
        "    'vgg19': 'https://download.pytorch.org/models/vgg19-dcbb9e9d.pth',\n",
        "    'vgg11_bn': 'https://download.pytorch.org/models/vgg11_bn-6002323d.pth',\n",
        "    'vgg13_bn': 'https://download.pytorch.org/models/vgg13_bn-abd245e5.pth',\n",
        "    'vgg16_bn': 'https://download.pytorch.org/models/vgg16_bn-6c64b313.pth',\n",
        "    'vgg19_bn': 'https://download.pytorch.org/models/vgg19_bn-c79401a0.pth',\n",
        "}"
      ],
      "execution_count": 0,
      "outputs": []
    },
    {
      "cell_type": "code",
      "metadata": {
        "id": "vpGV-aKDA7tY",
        "colab_type": "code",
        "colab": {}
      },
      "source": [
        "class VGG(nn.Module):\n",
        "    def __init__(self, features, num_classes=1000, init_weights=True):\n",
        "        super().__init__()\n",
        "        \n",
        "        self.features = features #convolution\n",
        "        \n",
        "        self.avgpool = nn.AdaptiveAvgPool2d((7, 7))\n",
        "        \n",
        "        #우리가 하고자 하는 이미지에 따라 변경해야함...\n",
        "        \n",
        "        self.classifier = nn.Sequential(\n",
        "            nn.Linear(512 * 7 * 7, 4096),\n",
        "            nn.ReLU(True),\n",
        "            nn.Dropout(),\n",
        "            nn.Linear(4096, 4096),\n",
        "            nn.ReLU(True),\n",
        "            nn.Dropout(),\n",
        "            nn.Linear(4096, num_classes),\n",
        "        )#FC layer\n",
        "        \n",
        "        if init_weights:\n",
        "            self._initialize_weights()\n",
        "\n",
        "    def forward(self, x):\n",
        "        x = self.features(x) #Convolution \n",
        "        x = self.avgpool(x) # avgpool\n",
        "        x = x.view(x.size(0), -1) #\n",
        "        x = self.classifier(x) #FC layer\n",
        "        return x\n",
        "\n",
        "    def _initialize_weights(self):\n",
        "        for m in self.modules():\n",
        "            if isinstance(m, nn.Conv2d):\n",
        "                nn.init.kaiming_normal_(m.weight, mode='fan_out', nonlinearity='relu')\n",
        "                if m.bias is not None:\n",
        "                    nn.init.constant_(m.bias, 0)\n",
        "            elif isinstance(m, nn.BatchNorm2d):\n",
        "                nn.init.constant_(m.weight, 1)\n",
        "                nn.init.constant_(m.bias, 0)\n",
        "            elif isinstance(m, nn.Linear):\n",
        "                nn.init.normal_(m.weight, 0, 0.01)\n",
        "                nn.init.constant_(m.bias, 0)"
      ],
      "execution_count": 0,
      "outputs": []
    },
    {
      "cell_type": "code",
      "metadata": {
        "id": "zHpuJDKZA-Y1",
        "colab_type": "code",
        "colab": {}
      },
      "source": [
        "def make_layers(cfg, batch_norm=False):   #이게 features\n",
        "    layers = []\n",
        "    in_channels = 3\n",
        "    \n",
        "    for v in cfg:\n",
        "        if v == 'M':\n",
        "            layers += [nn.MaxPool2d(kernel_size=2, stride=2)]\n",
        "        else:\n",
        "            conv2d = nn.Conv2d(in_channels, v, kernel_size=3, padding=1)\n",
        "            if batch_norm:\n",
        "                layers += [conv2d, nn.BatchNorm2d(v), nn.ReLU(inplace=True)]\n",
        "            else:\n",
        "                layers += [conv2d, nn.ReLU(inplace=True)]\n",
        "            in_channels = v\n",
        "                     \n",
        "    return nn.Sequential(*layers)"
      ],
      "execution_count": 0,
      "outputs": []
    },
    {
      "cell_type": "code",
      "metadata": {
        "id": "fIws2tQzCAw6",
        "colab_type": "code",
        "colab": {}
      },
      "source": [
        "cfg = {\n",
        "    'A': [64, 'M', 128, 'M', 256, 256, 'M', 512, 512, 'M', 512, 512, 'M'], #8 + 3 =11 == vgg11\n",
        "    'B': [64, 64, 'M', 128, 128, 'M', 256, 256, 'M', 512, 512, 'M', 512, 512, 'M'], # 10 + 3 = vgg 13\n",
        "    'D': [64, 64, 'M', 128, 128, 'M', 256, 256, 256, 'M', 512, 512, 512, 'M', 512, 512, 512, 'M'], #13 + 3 = vgg 16\n",
        "    'E': [64, 64, 'M', 128, 128, 'M', 256, 256, 256, 256, 'M', 512, 512, 512, 512, 'M', 512, 512, 512, 512, 'M'], # 16 +3 =vgg 19\n",
        "    'custom' : [64,64,64,'M',128,128,128,'M',256,256,256,'M']\n",
        "}"
      ],
      "execution_count": 0,
      "outputs": []
    },
    {
      "cell_type": "code",
      "metadata": {
        "id": "OVvIZPUUCCNg",
        "colab_type": "code",
        "colab": {}
      },
      "source": [
        "conv = make_layers(cfg['custom'], batch_norm=True)"
      ],
      "execution_count": 0,
      "outputs": []
    },
    {
      "cell_type": "code",
      "metadata": {
        "id": "jPziUnuvDLBR",
        "colab_type": "code",
        "colab": {}
      },
      "source": [
        "CNN = VGG(make_layers(cfg['custom']), num_classes=10, init_weights=True)  #만약 커스텀으로 레이어 쌓고 우리가 하려는 모델의 클래스가 10개라면 이렇게"
      ],
      "execution_count": 0,
      "outputs": []
    },
    {
      "cell_type": "code",
      "metadata": {
        "id": "W9sXiGtRDLdF",
        "colab_type": "code",
        "outputId": "78cf36a7-b813-4045-ed4a-e3fc5fab4420",
        "colab": {
          "base_uri": "https://localhost:8080/",
          "height": 667
        }
      },
      "source": [
        "CNN"
      ],
      "execution_count": 0,
      "outputs": [
        {
          "output_type": "execute_result",
          "data": {
            "text/plain": [
              "VGG(\n",
              "  (features): Sequential(\n",
              "    (0): Conv2d(3, 64, kernel_size=(3, 3), stride=(1, 1), padding=(1, 1))\n",
              "    (1): ReLU(inplace=True)\n",
              "    (2): Conv2d(64, 64, kernel_size=(3, 3), stride=(1, 1), padding=(1, 1))\n",
              "    (3): ReLU(inplace=True)\n",
              "    (4): Conv2d(64, 64, kernel_size=(3, 3), stride=(1, 1), padding=(1, 1))\n",
              "    (5): ReLU(inplace=True)\n",
              "    (6): MaxPool2d(kernel_size=2, stride=2, padding=0, dilation=1, ceil_mode=False)\n",
              "    (7): Conv2d(64, 128, kernel_size=(3, 3), stride=(1, 1), padding=(1, 1))\n",
              "    (8): ReLU(inplace=True)\n",
              "    (9): Conv2d(128, 128, kernel_size=(3, 3), stride=(1, 1), padding=(1, 1))\n",
              "    (10): ReLU(inplace=True)\n",
              "    (11): Conv2d(128, 128, kernel_size=(3, 3), stride=(1, 1), padding=(1, 1))\n",
              "    (12): ReLU(inplace=True)\n",
              "    (13): MaxPool2d(kernel_size=2, stride=2, padding=0, dilation=1, ceil_mode=False)\n",
              "    (14): Conv2d(128, 256, kernel_size=(3, 3), stride=(1, 1), padding=(1, 1))\n",
              "    (15): ReLU(inplace=True)\n",
              "    (16): Conv2d(256, 256, kernel_size=(3, 3), stride=(1, 1), padding=(1, 1))\n",
              "    (17): ReLU(inplace=True)\n",
              "    (18): Conv2d(256, 256, kernel_size=(3, 3), stride=(1, 1), padding=(1, 1))\n",
              "    (19): ReLU(inplace=True)\n",
              "    (20): MaxPool2d(kernel_size=2, stride=2, padding=0, dilation=1, ceil_mode=False)\n",
              "  )\n",
              "  (avgpool): AdaptiveAvgPool2d(output_size=(7, 7))\n",
              "  (classifier): Sequential(\n",
              "    (0): Linear(in_features=25088, out_features=4096, bias=True)\n",
              "    (1): ReLU(inplace=True)\n",
              "    (2): Dropout(p=0.5, inplace=False)\n",
              "    (3): Linear(in_features=4096, out_features=4096, bias=True)\n",
              "    (4): ReLU(inplace=True)\n",
              "    (5): Dropout(p=0.5, inplace=False)\n",
              "    (6): Linear(in_features=4096, out_features=10, bias=True)\n",
              "  )\n",
              ")"
            ]
          },
          "metadata": {
            "tags": []
          },
          "execution_count": 9
        }
      ]
    },
    {
      "cell_type": "code",
      "metadata": {
        "id": "73V4Y-jrDLpJ",
        "colab_type": "code",
        "colab": {}
      },
      "source": [
        "import torchvision.models.vgg as vgg"
      ],
      "execution_count": 0,
      "outputs": []
    },
    {
      "cell_type": "markdown",
      "metadata": {
        "id": "psAP2dUVEPJk",
        "colab_type": "text"
      },
      "source": [
        "vgg for cifar10"
      ]
    },
    {
      "cell_type": "code",
      "metadata": {
        "id": "ubXBrkY5DLgC",
        "colab_type": "code",
        "colab": {}
      },
      "source": [
        "import torch\n",
        "import torch.nn as nn\n",
        "import torch.optim as optim\n",
        "\n",
        "import torchvision\n",
        "import torchvision.transforms as transforms\n",
        "from torch.utils.data import DataLoader"
      ],
      "execution_count": 0,
      "outputs": []
    },
    {
      "cell_type": "code",
      "metadata": {
        "id": "3uOPEz0PEYe7",
        "colab_type": "code",
        "colab": {}
      },
      "source": [
        "def loss_tracker(loss_plot, loss_value, num):\n",
        "    '''num, loss_value, are Tensor'''\n",
        "    vis.line(X=num,\n",
        "             Y=loss_value,\n",
        "             win = loss_plot,\n",
        "             update='append'\n",
        "             )"
      ],
      "execution_count": 0,
      "outputs": []
    },
    {
      "cell_type": "code",
      "metadata": {
        "id": "lWbKxSYLEoEp",
        "colab_type": "code",
        "colab": {}
      },
      "source": [
        "device ='cuda' if torch.cuda.is_available() else 'cpu'\n",
        "\n",
        "torch.manual_seed(1)\n",
        "if device == 'cuda':\n",
        "    torch.cuda.manual_seed_all(1)"
      ],
      "execution_count": 0,
      "outputs": []
    },
    {
      "cell_type": "code",
      "metadata": {
        "id": "nwk70Z47E69k",
        "colab_type": "code",
        "outputId": "53f0c1d9-599b-4bc2-ec71-152ff1f43a98",
        "colab": {
          "base_uri": "https://localhost:8080/",
          "height": 54
        }
      },
      "source": [
        "trans=transforms.Compose([\n",
        "                          transforms.ToTensor(),\n",
        "                          transforms.Normalize((0.5,0.5,0.5),(0.5,0.5,0.5)) #이미지를 정규화                        \n",
        "])\n",
        "\n",
        "\n",
        "trainset=torchvision.datasets.CIFAR10(root='./data',train=True,download=True,transform=trans)\n",
        "testset=torchvision.datasets.CIFAR10(root='./data',train=False,download=True,transform=trans)\n",
        "\n",
        "\n",
        "trainloader=DataLoader(trainset,batch_size=512,shuffle=True,num_workers=4)\n",
        "testloader=DataLoader(testset,batch_size=4,shuffle=False,num_workers=4)\n",
        "\n",
        "\n",
        "classes = ('plane', 'car', 'bird', 'cat',\n",
        "           'deer', 'dog', 'frog', 'horse', 'ship', 'truck')"
      ],
      "execution_count": 0,
      "outputs": [
        {
          "output_type": "stream",
          "text": [
            "Files already downloaded and verified\n",
            "Files already downloaded and verified\n"
          ],
          "name": "stdout"
        }
      ]
    },
    {
      "cell_type": "code",
      "metadata": {
        "id": "loK_cmqoHoxH",
        "colab_type": "code",
        "colab": {}
      },
      "source": [
        "import torchvision.models.vgg as vgg"
      ],
      "execution_count": 0,
      "outputs": []
    },
    {
      "cell_type": "code",
      "metadata": {
        "id": "RHBhEP2JIMLX",
        "colab_type": "code",
        "colab": {}
      },
      "source": [
        "cfg=[32,32,'M',64,64,128,128,128,'M',256,256,256,512,512,512,'M']  #13개\n",
        "\n",
        "#처음 32에서 max pool 3번거치면 32 16 8 4 따라서 4*4"
      ],
      "execution_count": 0,
      "outputs": []
    },
    {
      "cell_type": "code",
      "metadata": {
        "id": "_Za8d_FbITt9",
        "colab_type": "code",
        "colab": {}
      },
      "source": [
        "class VGG(nn.Module):\n",
        "\n",
        "    def __init__(self, features, num_classes=1000, init_weights=True):\n",
        "        super().__init__()\n",
        "        self.features = features\n",
        "        #self.avgpool = nn.AdaptiveAvgPool2d((7, 7))\n",
        "        \n",
        "        self.classifier = nn.Sequential(        #13+3=vgg16\n",
        "            nn.Linear(512 * 4 * 4, 4096),\n",
        "            nn.ReLU(True),\n",
        "            nn.Dropout(),\n",
        "            nn.Linear(4096, 4096),\n",
        "            nn.ReLU(True),\n",
        "            nn.Dropout(),\n",
        "            nn.Linear(4096, num_classes),\n",
        "        )\n",
        "        if init_weights:\n",
        "            self._initialize_weights()\n",
        "\n",
        "    def forward(self, x):\n",
        "        x = self.features(x)\n",
        "        #x = self.avgpool(x)\n",
        "        x = x.view(x.size(0), -1)\n",
        "        x = self.classifier(x)\n",
        "        return x\n",
        "\n",
        "    def _initialize_weights(self):\n",
        "        for m in self.modules():\n",
        "            if isinstance(m, nn.Conv2d):\n",
        "                nn.init.kaiming_normal_(m.weight, mode='fan_out', nonlinearity='relu')\n",
        "                if m.bias is not None:\n",
        "                    nn.init.constant_(m.bias, 0)\n",
        "            elif isinstance(m, nn.BatchNorm2d):\n",
        "                nn.init.constant_(m.weight, 1)\n",
        "                nn.init.constant_(m.bias, 0)\n",
        "            elif isinstance(m, nn.Linear):\n",
        "                nn.init.normal_(m.weight, 0, 0.01)\n",
        "                nn.init.constant_(m.bias, 0)"
      ],
      "execution_count": 0,
      "outputs": []
    },
    {
      "cell_type": "code",
      "metadata": {
        "id": "jz4ZV7eqIiYm",
        "colab_type": "code",
        "colab": {}
      },
      "source": [
        "model=VGG(vgg.make_layers(cfg),10,True).to(device)"
      ],
      "execution_count": 0,
      "outputs": []
    },
    {
      "cell_type": "code",
      "metadata": {
        "id": "qENHEzryJLYO",
        "colab_type": "code",
        "colab": {}
      },
      "source": [
        "criterion=nn.CrossEntropyLoss().to(device)\n",
        "optimizer=optim.SGD(model.parameters(),lr=0.005)"
      ],
      "execution_count": 0,
      "outputs": []
    },
    {
      "cell_type": "code",
      "metadata": {
        "id": "2eg2GRrzJZwz",
        "colab_type": "code",
        "outputId": "d8bc5155-89d6-4f63-9971-6d06fe5fb960",
        "colab": {
          "base_uri": "https://localhost:8080/",
          "height": 128
        }
      },
      "source": [
        "epochs=5\n",
        "train_losses=[]\n",
        "total_batch=len(trainloader)\n",
        "\n",
        "for epoch in range(epochs+1):\n",
        "    avg_cost=0\n",
        "    \n",
        "    for i ,data in enumerate(trainloader):\n",
        "        inputs,labels =data\n",
        "        inputs=inputs.to(device)\n",
        "        labels=labels.to(device)\n",
        "\n",
        "        optimizer.zero_grad()\n",
        "        hypothesis=model(inputs)\n",
        "        cost=criterion(hypothesis,labels)\n",
        "        cost.backward()\n",
        "        optimizer.step()\n",
        "\n",
        "        train_losses.append(cost.item())\n",
        "\n",
        "\n",
        "        avg_cost += cost/total_batch\n",
        "\n",
        "    print('epoch:{} cost= {}'.format(epoch+1,avg_cost))"
      ],
      "execution_count": 0,
      "outputs": [
        {
          "output_type": "stream",
          "text": [
            "epoch:1 cost= 2.3005833625793457\n",
            "epoch:2 cost= 2.2996773719787598\n",
            "epoch:3 cost= 2.2983219623565674\n",
            "epoch:4 cost= 2.2958245277404785\n",
            "epoch:5 cost= 2.2911105155944824\n",
            "epoch:6 cost= 2.279895544052124\n"
          ],
          "name": "stdout"
        }
      ]
    },
    {
      "cell_type": "code",
      "metadata": {
        "id": "OVeQtlYPMYub",
        "colab_type": "code",
        "outputId": "b97eaa6b-7491-4aa3-cf64-f4f236eb5963",
        "colab": {
          "base_uri": "https://localhost:8080/",
          "height": 265
        }
      },
      "source": [
        "import matplotlib.pyplot as plt\n",
        "plt.plot(train_losses)\n",
        "plt.show()"
      ],
      "execution_count": 0,
      "outputs": [
        {
          "output_type": "display_data",
          "data": {
            "image/png": "[encoded data removed]",
            "text/plain": [
              "<Figure size 432x288 with 1 Axes>"
            ]
          },
          "metadata": {
            "tags": [],
            "needs_background": "light"
          }
        }
      ]
    },
    {
      "cell_type": "code",
      "metadata": {
        "id": "3vOnEQ6SK0Xd",
        "colab_type": "code",
        "outputId": "02111d18-bacb-4344-be1a-c661998b7034",
        "colab": {
          "base_uri": "https://localhost:8080/",
          "height": 36
        }
      },
      "source": [
        "correct=0\n",
        "total=0\n",
        "\n",
        "with torch.no_grad():\n",
        "    for i ,data in enumerate(trainloader):\n",
        "        inputs,labels =data\n",
        "        inputs=inputs.to(device)\n",
        "        labels=labels.to(device)\n",
        "        hypothesis=model(inputs)\n",
        "\n",
        "        _,predicted=torch.max(hypothesis.data,1)\n",
        "\n",
        "        total += labels.size(0)\n",
        "        correct += (predicted==labels).sum().item()\n",
        "print('Accuracy of the network on the 10000 test images: %d %%' % (\n",
        "    100 * correct / total))"
      ],
      "execution_count": 0,
      "outputs": [
        {
          "output_type": "stream",
          "text": [
            "Accuracy of the network on the 10000 test images: 13 %\n"
          ],
          "name": "stdout"
        }
      ]
    },
    {
      "cell_type": "code",
      "metadata": {
        "id": "JJkgxYSSMTBE",
        "colab_type": "code",
        "colab": {}
      },
      "source": [
        ""
      ],
      "execution_count": 0,
      "outputs": []
    }
  ]
}