{
  "nbformat": 4,
  "nbformat_minor": 0,
  "metadata": {
    "colab": {
      "name": "pytorch_0417.ipynb",
      "provenance": [],
      "mount_file_id": "1cDwFZvq6JzxgwmBWcnDbg1LpYB9Hx4GF",
      "authorship_tag": "ABX9TyMelvu1+ZJyh1cuXoqAhZ16",
      "include_colab_link": true
    },
    "kernelspec": {
      "name": "python3",
      "display_name": "Python 3"
    }
  },
  "cells": [
    {
      "cell_type": "markdown",
      "metadata": {
        "id": "view-in-github",
        "colab_type": "text"
      },
      "source": [
        "<a href=\"https://colab.research.google.com/github/leehyunggeunkeun/pytorch-study/blob/master/pytorch_0417_%EC%84%A0%ED%98%95%ED%9A%8C%EA%B7%80.ipynb\" target=\"_parent\"><img src=\"https://colab.research.google.com/assets/colab-badge.svg\" alt=\"Open In Colab\"/></a>"
      ]
    },
    {
      "cell_type": "markdown",
      "metadata": {
        "id": "XDFaXy4pqCEA",
        "colab_type": "text"
      },
      "source": [
        "간단한 다중선형회귀 예제\n",
        "\n",
        "Iris data를 활용하여 sepal length, sepal width, petal length의 변화에 따른 petal width 구하기!!!"
      ]
    },
    {
      "cell_type": "code",
      "metadata": {
        "id": "j_holegnp-jG",
        "colab_type": "code",
        "colab": {}
      },
      "source": [
        "#필요한 라이브러리 불러오기 \n",
        "\n",
        "import torch\n",
        "import torch.nn as nn\n",
        "import torch.nn.functional as F\n",
        "import torch.optim as optim\n",
        "\n",
        "from torch.utils.data import Dataset\n",
        "from torch.utils.data import DataLoader\n",
        "\n",
        "import matplotlib.pyplot as plt\n",
        "import pandas as pd\n",
        "from sklearn.datasets import load_iris\n",
        "\n",
        "df = load_iris()"
      ],
      "execution_count": 0,
      "outputs": []
    },
    {
      "cell_type": "code",
      "metadata": {
        "id": "Sg-tVDx_ysUh",
        "colab_type": "code",
        "outputId": "05885cc2-877f-4406-d16f-8df787c06713",
        "colab": {
          "base_uri": "https://localhost:8080/",
          "height": 34
        }
      },
      "source": [
        "torch.manual_seed(1)"
      ],
      "execution_count": 2,
      "outputs": [
        {
          "output_type": "execute_result",
          "data": {
            "text/plain": [
              "<torch._C.Generator at 0x7fb6d8754570>"
            ]
          },
          "metadata": {
            "tags": []
          },
          "execution_count": 2
        }
      ]
    },
    {
      "cell_type": "markdown",
      "metadata": {
        "id": "rhg5pXC_sW77",
        "colab_type": "text"
      },
      "source": [
        "데이터 불러오기"
      ]
    },
    {
      "cell_type": "code",
      "metadata": {
        "id": "tww9ALK2aol0",
        "colab_type": "code",
        "outputId": "c5c67ef1-500a-4e92-a4e8-36c5d1b253e3",
        "colab": {
          "base_uri": "https://localhost:8080/",
          "height": 402
        }
      },
      "source": [
        "# 데이터프레임형식으로 변환\n",
        "df=pd.DataFrame(data=df['data'],columns=df['feature_names'])\n",
        "df"
      ],
      "execution_count": 3,
      "outputs": [
        {
          "output_type": "execute_result",
          "data": {
            "text/html": [
              "<div>\n",
              "<style scoped>\n",
              "    .dataframe tbody tr th:only-of-type {\n",
              "        vertical-align: middle;\n",
              "    }\n",
              "\n",
              "    .dataframe tbody tr th {\n",
              "        vertical-align: top;\n",
              "    }\n",
              "\n",
              "    .dataframe thead th {\n",
              "        text-align: right;\n",
              "    }\n",
              "</style>\n",
              "<table border=\"1\" class=\"dataframe\">\n",
              "  <thead>\n",
              "    <tr style=\"text-align: right;\">\n",
              "      <th></th>\n",
              "      <th>sepal length (cm)</th>\n",
              "      <th>sepal width (cm)</th>\n",
              "      <th>petal length (cm)</th>\n",
              "      <th>petal width (cm)</th>\n",
              "    </tr>\n",
              "  </thead>\n",
              "  <tbody>\n",
              "    <tr>\n",
              "      <th>0</th>\n",
              "      <td>5.1</td>\n",
              "      <td>3.5</td>\n",
              "      <td>1.4</td>\n",
              "      <td>0.2</td>\n",
              "    </tr>\n",
              "    <tr>\n",
              "      <th>1</th>\n",
              "      <td>4.9</td>\n",
              "      <td>3.0</td>\n",
              "      <td>1.4</td>\n",
              "      <td>0.2</td>\n",
              "    </tr>\n",
              "    <tr>\n",
              "      <th>2</th>\n",
              "      <td>4.7</td>\n",
              "      <td>3.2</td>\n",
              "      <td>1.3</td>\n",
              "      <td>0.2</td>\n",
              "    </tr>\n",
              "    <tr>\n",
              "      <th>3</th>\n",
              "      <td>4.6</td>\n",
              "      <td>3.1</td>\n",
              "      <td>1.5</td>\n",
              "      <td>0.2</td>\n",
              "    </tr>\n",
              "    <tr>\n",
              "      <th>4</th>\n",
              "      <td>5.0</td>\n",
              "      <td>3.6</td>\n",
              "      <td>1.4</td>\n",
              "      <td>0.2</td>\n",
              "    </tr>\n",
              "    <tr>\n",
              "      <th>...</th>\n",
              "      <td>...</td>\n",
              "      <td>...</td>\n",
              "      <td>...</td>\n",
              "      <td>...</td>\n",
              "    </tr>\n",
              "    <tr>\n",
              "      <th>145</th>\n",
              "      <td>6.7</td>\n",
              "      <td>3.0</td>\n",
              "      <td>5.2</td>\n",
              "      <td>2.3</td>\n",
              "    </tr>\n",
              "    <tr>\n",
              "      <th>146</th>\n",
              "      <td>6.3</td>\n",
              "      <td>2.5</td>\n",
              "      <td>5.0</td>\n",
              "      <td>1.9</td>\n",
              "    </tr>\n",
              "    <tr>\n",
              "      <th>147</th>\n",
              "      <td>6.5</td>\n",
              "      <td>3.0</td>\n",
              "      <td>5.2</td>\n",
              "      <td>2.0</td>\n",
              "    </tr>\n",
              "    <tr>\n",
              "      <th>148</th>\n",
              "      <td>6.2</td>\n",
              "      <td>3.4</td>\n",
              "      <td>5.4</td>\n",
              "      <td>2.3</td>\n",
              "    </tr>\n",
              "    <tr>\n",
              "      <th>149</th>\n",
              "      <td>5.9</td>\n",
              "      <td>3.0</td>\n",
              "      <td>5.1</td>\n",
              "      <td>1.8</td>\n",
              "    </tr>\n",
              "  </tbody>\n",
              "</table>\n",
              "<p>150 rows × 4 columns</p>\n",
              "</div>"
            ],
            "text/plain": [
              "     sepal length (cm)  sepal width (cm)  petal length (cm)  petal width (cm)\n",
              "0                  5.1               3.5                1.4               0.2\n",
              "1                  4.9               3.0                1.4               0.2\n",
              "2                  4.7               3.2                1.3               0.2\n",
              "3                  4.6               3.1                1.5               0.2\n",
              "4                  5.0               3.6                1.4               0.2\n",
              "..                 ...               ...                ...               ...\n",
              "145                6.7               3.0                5.2               2.3\n",
              "146                6.3               2.5                5.0               1.9\n",
              "147                6.5               3.0                5.2               2.0\n",
              "148                6.2               3.4                5.4               2.3\n",
              "149                5.9               3.0                5.1               1.8\n",
              "\n",
              "[150 rows x 4 columns]"
            ]
          },
          "metadata": {
            "tags": []
          },
          "execution_count": 3
        }
      ]
    },
    {
      "cell_type": "code",
      "metadata": {
        "id": "_kOaMIVboTlV",
        "colab_type": "code",
        "outputId": "f6bb70ac-e215-4a3f-d909-bcfb57efba9f",
        "colab": {
          "base_uri": "https://localhost:8080/",
          "height": 402
        }
      },
      "source": [
        "standard_df=df\n",
        "standard_df=standard_df.apply(lambda x: (x-x.mean())/x.std())\n",
        "standard_df['petal width (cm)']=df['petal width (cm)']\n",
        "standard_df"
      ],
      "execution_count": 4,
      "outputs": [
        {
          "output_type": "execute_result",
          "data": {
            "text/html": [
              "<div>\n",
              "<style scoped>\n",
              "    .dataframe tbody tr th:only-of-type {\n",
              "        vertical-align: middle;\n",
              "    }\n",
              "\n",
              "    .dataframe tbody tr th {\n",
              "        vertical-align: top;\n",
              "    }\n",
              "\n",
              "    .dataframe thead th {\n",
              "        text-align: right;\n",
              "    }\n",
              "</style>\n",
              "<table border=\"1\" class=\"dataframe\">\n",
              "  <thead>\n",
              "    <tr style=\"text-align: right;\">\n",
              "      <th></th>\n",
              "      <th>sepal length (cm)</th>\n",
              "      <th>sepal width (cm)</th>\n",
              "      <th>petal length (cm)</th>\n",
              "      <th>petal width (cm)</th>\n",
              "    </tr>\n",
              "  </thead>\n",
              "  <tbody>\n",
              "    <tr>\n",
              "      <th>0</th>\n",
              "      <td>-0.897674</td>\n",
              "      <td>1.015602</td>\n",
              "      <td>-1.335752</td>\n",
              "      <td>0.2</td>\n",
              "    </tr>\n",
              "    <tr>\n",
              "      <th>1</th>\n",
              "      <td>-1.139200</td>\n",
              "      <td>-0.131539</td>\n",
              "      <td>-1.335752</td>\n",
              "      <td>0.2</td>\n",
              "    </tr>\n",
              "    <tr>\n",
              "      <th>2</th>\n",
              "      <td>-1.380727</td>\n",
              "      <td>0.327318</td>\n",
              "      <td>-1.392399</td>\n",
              "      <td>0.2</td>\n",
              "    </tr>\n",
              "    <tr>\n",
              "      <th>3</th>\n",
              "      <td>-1.501490</td>\n",
              "      <td>0.097889</td>\n",
              "      <td>-1.279104</td>\n",
              "      <td>0.2</td>\n",
              "    </tr>\n",
              "    <tr>\n",
              "      <th>4</th>\n",
              "      <td>-1.018437</td>\n",
              "      <td>1.245030</td>\n",
              "      <td>-1.335752</td>\n",
              "      <td>0.2</td>\n",
              "    </tr>\n",
              "    <tr>\n",
              "      <th>...</th>\n",
              "      <td>...</td>\n",
              "      <td>...</td>\n",
              "      <td>...</td>\n",
              "      <td>...</td>\n",
              "    </tr>\n",
              "    <tr>\n",
              "      <th>145</th>\n",
              "      <td>1.034539</td>\n",
              "      <td>-0.131539</td>\n",
              "      <td>0.816859</td>\n",
              "      <td>2.3</td>\n",
              "    </tr>\n",
              "    <tr>\n",
              "      <th>146</th>\n",
              "      <td>0.551486</td>\n",
              "      <td>-1.278680</td>\n",
              "      <td>0.703564</td>\n",
              "      <td>1.9</td>\n",
              "    </tr>\n",
              "    <tr>\n",
              "      <th>147</th>\n",
              "      <td>0.793012</td>\n",
              "      <td>-0.131539</td>\n",
              "      <td>0.816859</td>\n",
              "      <td>2.0</td>\n",
              "    </tr>\n",
              "    <tr>\n",
              "      <th>148</th>\n",
              "      <td>0.430722</td>\n",
              "      <td>0.786174</td>\n",
              "      <td>0.930154</td>\n",
              "      <td>2.3</td>\n",
              "    </tr>\n",
              "    <tr>\n",
              "      <th>149</th>\n",
              "      <td>0.068433</td>\n",
              "      <td>-0.131539</td>\n",
              "      <td>0.760211</td>\n",
              "      <td>1.8</td>\n",
              "    </tr>\n",
              "  </tbody>\n",
              "</table>\n",
              "<p>150 rows × 4 columns</p>\n",
              "</div>"
            ],
            "text/plain": [
              "     sepal length (cm)  sepal width (cm)  petal length (cm)  petal width (cm)\n",
              "0            -0.897674          1.015602          -1.335752               0.2\n",
              "1            -1.139200         -0.131539          -1.335752               0.2\n",
              "2            -1.380727          0.327318          -1.392399               0.2\n",
              "3            -1.501490          0.097889          -1.279104               0.2\n",
              "4            -1.018437          1.245030          -1.335752               0.2\n",
              "..                 ...               ...                ...               ...\n",
              "145           1.034539         -0.131539           0.816859               2.3\n",
              "146           0.551486         -1.278680           0.703564               1.9\n",
              "147           0.793012         -0.131539           0.816859               2.0\n",
              "148           0.430722          0.786174           0.930154               2.3\n",
              "149           0.068433         -0.131539           0.760211               1.8\n",
              "\n",
              "[150 rows x 4 columns]"
            ]
          },
          "metadata": {
            "tags": []
          },
          "execution_count": 4
        }
      ]
    },
    {
      "cell_type": "code",
      "metadata": {
        "id": "lYQYBRBfi2Ml",
        "colab_type": "code",
        "outputId": "4f768170-2344-461b-ff16-173bd657e507",
        "colab": {
          "base_uri": "https://localhost:8080/",
          "height": 34
        }
      },
      "source": [
        "#150 x 4라는 아주 작은 데이터셋 \n",
        "#x는 모든행을 불러오고 마지막 petal width를 제외하고 불러오고, y는 모든행을 가진 petal width열만\n",
        "x,y=standard_df.values[:,:-1],standard_df.values[:,-1:]\n",
        "x.shape, y.shape"
      ],
      "execution_count": 5,
      "outputs": [
        {
          "output_type": "execute_result",
          "data": {
            "text/plain": [
              "((150, 3), (150, 1))"
            ]
          },
          "metadata": {
            "tags": []
          },
          "execution_count": 5
        }
      ]
    },
    {
      "cell_type": "markdown",
      "metadata": {
        "id": "6xJNiJZZd5M5",
        "colab_type": "text"
      },
      "source": [
        "커스텀 데이터셋 만들기"
      ]
    },
    {
      "cell_type": "code",
      "metadata": {
        "id": "AtsExa22dIHn",
        "colab_type": "code",
        "colab": {}
      },
      "source": [
        "#커스텀 데이터셋을 만드는 가장 기본적인 뼈대\n",
        "\n",
        "class Iris():\n",
        "    def __init__(self):\n",
        "        self.x_data = torch.FloatTensor(x)\n",
        "        self.y_data = torch.FloatTensor(y)\n",
        "    \n",
        "    def __len__(self):\n",
        "        return len(self.x_data)\n",
        "  \n",
        "    def __getitem__(self, idx):\n",
        "        x = self.x_data[idx]\n",
        "        y = self.y_data[idx]\n",
        "        return x, y\n"
      ],
      "execution_count": 0,
      "outputs": []
    },
    {
      "cell_type": "code",
      "metadata": {
        "id": "BanUfnOv1vXl",
        "colab_type": "code",
        "outputId": "0e36712f-d5d3-4111-cf71-35d4436ab0b0",
        "colab": {
          "base_uri": "https://localhost:8080/",
          "height": 54
        }
      },
      "source": [
        "#만약 CLASS로만 구현하고자 한다면\n",
        "\n",
        "'''class MultiLinearRegression(nn.Module):\n",
        "    def __init__(self):\n",
        "        super().__init__()\n",
        "        self.linear=nn.Linear(3,1)\n",
        "\n",
        "    def forward(self,x):\n",
        "        return self.linear(x)\n",
        "\n",
        "model=MultiLinearRegression()\n",
        "\n",
        "optimizer = optim.SGD(model.parameters(), lr=1e-5)\n",
        "\n",
        "\n",
        "nb_epochs=2000\n",
        "train_losses=[]\n",
        "for epoch in range(nb_epochs+1):\n",
        "    for batch_idx, samples in enumerate(dataloader):\n",
        "        x_train, y_train = samples\n",
        "        \n",
        "\n",
        "        prediction = model(x_train)\n",
        "        cost = F.mse_loss(prediction, y_train)\n",
        "\n",
        "\n",
        "\n",
        "        optimizer.zero_grad()\n",
        "        cost.backward()\n",
        "        optimizer.step()\n",
        "        train_losses.append(cost.item())\n",
        "\n",
        "\n",
        "        if epoch % 100 == 0:\n",
        "            print('Epoch {:4d}/{} Batch {}/{} Cost: {:.6f}'.format(\n",
        "            epoch, nb_epochs, batch_idx+1, len(dataloader),\n",
        "            cost.item()\n",
        "             ))'''"
      ],
      "execution_count": 7,
      "outputs": [
        {
          "output_type": "execute_result",
          "data": {
            "text/plain": [
              "\"class MultiLinearRegression(nn.Module):\\n    def __init__(self):\\n        super().__init__()\\n        self.linear=nn.Linear(3,1)\\n\\n    def forward(self,x):\\n        return self.linear(x)\\n\\nmodel=MultiLinearRegression()\\n\\noptimizer = optim.SGD(model.parameters(), lr=1e-5)\\n\\n\\nnb_epochs=2000\\ntrain_losses=[]\\nfor epoch in range(nb_epochs+1):\\n    for batch_idx, samples in enumerate(dataloader):\\n        x_train, y_train = samples\\n        \\n\\n        prediction = model(x_train)\\n        cost = F.mse_loss(prediction, y_train)\\n\\n\\n\\n        optimizer.zero_grad()\\n        cost.backward()\\n        optimizer.step()\\n        train_losses.append(cost.item())\\n\\n\\n        if epoch % 100 == 0:\\n            print('Epoch {:4d}/{} Batch {}/{} Cost: {:.6f}'.format(\\n            epoch, nb_epochs, batch_idx+1, len(dataloader),\\n            cost.item()\\n             ))\""
            ]
          },
          "metadata": {
            "tags": []
          },
          "execution_count": 7
        }
      ]
    },
    {
      "cell_type": "code",
      "metadata": {
        "id": "uqOAbLTGdIJz",
        "colab_type": "code",
        "outputId": "fac7410d-c38c-4d56-e5c5-71157ba1bbbf",
        "colab": {
          "base_uri": "https://localhost:8080/",
          "height": 34
        }
      },
      "source": [
        "dataset=Iris()\n",
        "\n",
        "#train /test data나누기\n",
        "\n",
        "train_test_ratio=0.8\n",
        "train_size=int(len(dataset)*train_test_ratio)\n",
        "test_size=len(dataset)-train_size\n",
        "\n",
        "\n",
        "train_dataset, test_dataset = torch.utils.data.random_split(dataset,[train_size,test_size])\n",
        "print(len(train_dataset), len(test_dataset))\n",
        "\n",
        "#train 120개 test 30개"
      ],
      "execution_count": 8,
      "outputs": [
        {
          "output_type": "stream",
          "text": [
            "120 30\n"
          ],
          "name": "stdout"
        }
      ]
    },
    {
      "cell_type": "code",
      "metadata": {
        "id": "p8Kpx9gpdIMA",
        "colab_type": "code",
        "outputId": "60b3c06e-70b8-4289-ab82-1916b9afca6b",
        "colab": {
          "base_uri": "https://localhost:8080/",
          "height": 34
        }
      },
      "source": [
        "len(dataset),dataset[0]  #총 샘플의수 150개 0번째 샘플의 x는 [-0.897674,\t1.015602,\t-1.335752] ,\t0.2"
      ],
      "execution_count": 9,
      "outputs": [
        {
          "output_type": "execute_result",
          "data": {
            "text/plain": [
              "(150, (tensor([-0.8977,  1.0156, -1.3358]), tensor([0.2000])))"
            ]
          },
          "metadata": {
            "tags": []
          },
          "execution_count": 9
        }
      ]
    },
    {
      "cell_type": "code",
      "metadata": {
        "id": "E8hJBVCNpzIC",
        "colab_type": "code",
        "colab": {}
      },
      "source": [
        "train_dataloader=DataLoader(dataset=train_dataset,batch_size=len(dataset)) \n",
        "test_dataloader=DataLoader(dataset=test_dataset,batch_size=len(dataset)) "
      ],
      "execution_count": 0,
      "outputs": []
    },
    {
      "cell_type": "markdown",
      "metadata": {
        "id": "cn9uNslOscza",
        "colab_type": "text"
      },
      "source": [
        "모델 학습하기"
      ]
    },
    {
      "cell_type": "code",
      "metadata": {
        "id": "538KEuXVdIPE",
        "colab_type": "code",
        "outputId": "1aea5c37-9d2b-4780-a0ba-7a51d59d3517",
        "colab": {
          "base_uri": "https://localhost:8080/",
          "height": 70
        }
      },
      "source": [
        "model = nn.Linear(3,1)      #input 3 ouput 1\n",
        "print(list(model.parameters())) #초기화된 w,b값 확인\n",
        "optimizer = optim.SGD(model.parameters(), lr=1e-5)"
      ],
      "execution_count": 11,
      "outputs": [
        {
          "output_type": "stream",
          "text": [
            "[Parameter containing:\n",
            "tensor([[ 0.3888, -0.1955,  0.5641]], requires_grad=True), Parameter containing:\n",
            "tensor([-0.0667], requires_grad=True)]\n"
          ],
          "name": "stdout"
        }
      ]
    },
    {
      "cell_type": "code",
      "metadata": {
        "id": "Q56QuH0_lvFN",
        "colab_type": "code",
        "outputId": "013ba842-f03d-424a-d3fe-3e1c266b7714",
        "colab": {
          "base_uri": "https://localhost:8080/",
          "height": 386
        }
      },
      "source": [
        "nb_epochs=2000\n",
        "train_losses=[]\n",
        "\n",
        "for epoch in range(nb_epochs+1):\n",
        "    for batch_idx, samples in enumerate(train_dataloader):\n",
        "        x_train, y_train = samples\n",
        "        \n",
        "\n",
        "        prediction = model(x_train)\n",
        "        cost = F.mse_loss(prediction, y_train)\n",
        "\n",
        "\n",
        "\n",
        "        optimizer.zero_grad()\n",
        "        cost.backward()\n",
        "        optimizer.step()\n",
        "        train_losses.append(cost.item())\n",
        "\n",
        "\n",
        "        if epoch % 100 == 0:\n",
        "            print('Epoch {:4d}/{} Batch {}/{} Train Cost: {:.6f}'.format(\n",
        "            epoch, nb_epochs, batch_idx+1, len(train_dataloader),\n",
        "            cost.item()\n",
        "             ))"
      ],
      "execution_count": 12,
      "outputs": [
        {
          "output_type": "stream",
          "text": [
            "Epoch    0/2000 Batch 1/1 Train Cost: 1.781373\n",
            "Epoch  100/2000 Batch 1/1 Train Cost: 1.774174\n",
            "Epoch  200/2000 Batch 1/1 Train Cost: 1.767006\n",
            "Epoch  300/2000 Batch 1/1 Train Cost: 1.759870\n",
            "Epoch  400/2000 Batch 1/1 Train Cost: 1.752765\n",
            "Epoch  500/2000 Batch 1/1 Train Cost: 1.745691\n",
            "Epoch  600/2000 Batch 1/1 Train Cost: 1.738648\n",
            "Epoch  700/2000 Batch 1/1 Train Cost: 1.731636\n",
            "Epoch  800/2000 Batch 1/1 Train Cost: 1.724653\n",
            "Epoch  900/2000 Batch 1/1 Train Cost: 1.717703\n",
            "Epoch 1000/2000 Batch 1/1 Train Cost: 1.710782\n",
            "Epoch 1100/2000 Batch 1/1 Train Cost: 1.703891\n",
            "Epoch 1200/2000 Batch 1/1 Train Cost: 1.697031\n",
            "Epoch 1300/2000 Batch 1/1 Train Cost: 1.690199\n",
            "Epoch 1400/2000 Batch 1/1 Train Cost: 1.683398\n",
            "Epoch 1500/2000 Batch 1/1 Train Cost: 1.676627\n",
            "Epoch 1600/2000 Batch 1/1 Train Cost: 1.669884\n",
            "Epoch 1700/2000 Batch 1/1 Train Cost: 1.663172\n",
            "Epoch 1800/2000 Batch 1/1 Train Cost: 1.656489\n",
            "Epoch 1900/2000 Batch 1/1 Train Cost: 1.649834\n",
            "Epoch 2000/2000 Batch 1/1 Train Cost: 1.643209\n"
          ],
          "name": "stdout"
        }
      ]
    },
    {
      "cell_type": "code",
      "metadata": {
        "id": "cjG4MrtTEQII",
        "colab_type": "code",
        "colab": {
          "base_uri": "https://localhost:8080/",
          "height": 70
        },
        "outputId": "4d4a58d0-94b4-4f27-f15e-9131ba64fc05"
      },
      "source": [
        "print(list(model.parameters())) #학습후 w와 b의 값 확인"
      ],
      "execution_count": 13,
      "outputs": [
        {
          "output_type": "stream",
          "text": [
            "[Parameter containing:\n",
            "tensor([[ 0.3787, -0.1865,  0.5551]], requires_grad=True), Parameter containing:\n",
            "tensor([-0.0167], requires_grad=True)]\n"
          ],
          "name": "stdout"
        }
      ]
    },
    {
      "cell_type": "code",
      "metadata": {
        "id": "LKYr3LNmFXPD",
        "colab_type": "code",
        "colab": {
          "base_uri": "https://localhost:8080/",
          "height": 265
        },
        "outputId": "bb9075b6-b203-4ad1-ecb2-2d89b687c2b2"
      },
      "source": [
        "#epoch에 따른 train_losses 변화\n",
        "\n",
        "plt.plot(train_losses)\n",
        "plt.show()"
      ],
      "execution_count": 14,
      "outputs": [
        {
          "output_type": "display_data",
          "data": {
            "image/png": "[encoded data removed]",
            "text/plain": [
              "<Figure size 432x288 with 1 Axes>"
            ]
          },
          "metadata": {
            "tags": [],
            "needs_background": "light"
          }
        }
      ]
    },
    {
      "cell_type": "markdown",
      "metadata": {
        "id": "qnTp05G_sgbC",
        "colab_type": "text"
      },
      "source": [
        "테스트하기"
      ]
    },
    {
      "cell_type": "code",
      "metadata": {
        "id": "lg5eGPX_sjc2",
        "colab_type": "code",
        "colab": {
          "base_uri": "https://localhost:8080/",
          "height": 34
        },
        "outputId": "6aef4858-8ceb-4702-8d75-9cafc9386fe5"
      },
      "source": [
        "#테스트 하는 것이므로 torch.no_grad()구간 안에 있어야함.\n",
        "\n",
        "test_losses=[]\n",
        "with torch.no_grad():\n",
        "\n",
        "    for batch_idx, samples in enumerate(test_dataloader):\n",
        "        x_test, y_test = samples\n",
        "        prediction = model(x_test)\n",
        "        cost = F.mse_loss(prediction, y_test)\n",
        "        test_losses.append(cost.item())\n",
        "\n",
        "test_losses"
      ],
      "execution_count": 15,
      "outputs": [
        {
          "output_type": "execute_result",
          "data": {
            "text/plain": [
              "[1.5568422079086304]"
            ]
          },
          "metadata": {
            "tags": []
          },
          "execution_count": 15
        }
      ]
    },
    {
      "cell_type": "code",
      "metadata": {
        "id": "600hnnZQpLr7",
        "colab_type": "code",
        "outputId": "77d4e617-1e15-4002-d0c6-939de026dfbf",
        "colab": {
          "base_uri": "https://localhost:8080/",
          "height": 34
        }
      },
      "source": [
        "new_var=torch.FloatTensor([[-0.897674,1.015602,-1.335752\t]]) #petal width가 0.2인 0번째 인덱스의 x값(정규화된)을 넣어봄\n",
        "pred_y=model(new_var)\n",
        "\n",
        "print('훈련 후 입력이 -0.897674,1.015602,-1.335752\t 일때의 예측값: ', pred_y)\n",
        "#0.2인데 -1.28이라 예측함 test오차만큼......"
      ],
      "execution_count": 16,
      "outputs": [
        {
          "output_type": "stream",
          "text": [
            "훈련 후 입력이 -0.897674,1.015602,-1.335752\t 일때의 예측값:  tensor([[-1.2875]], grad_fn=<AddmmBackward>)\n"
          ],
          "name": "stdout"
        }
      ]
    },
    {
      "cell_type": "code",
      "metadata": {
        "id": "24xFjt1xrcGb",
        "colab_type": "code",
        "colab": {}
      },
      "source": [
        ""
      ],
      "execution_count": 0,
      "outputs": []
    }
  ]
}