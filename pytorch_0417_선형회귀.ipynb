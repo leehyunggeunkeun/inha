{
  "nbformat": 4,
  "nbformat_minor": 0,
  "metadata": {
    "colab": {
      "name": "pytorch_0417.ipynb",
      "provenance": [],
      "mount_file_id": "1cDwFZvq6JzxgwmBWcnDbg1LpYB9Hx4GF",
      "authorship_tag": "ABX9TyPe+FKlrMh615pKARNKrI/A",
      "include_colab_link": true
    },
    "kernelspec": {
      "name": "python3",
      "display_name": "Python 3"
    }
  },
  "cells": [
    {
      "cell_type": "markdown",
      "metadata": {
        "id": "view-in-github",
        "colab_type": "text"
      },
      "source": [
        "<a href=\"https://colab.research.google.com/github/leehyunggeunkeun/pytorch-study/blob/master/pytorch_0417_%EC%84%A0%ED%98%95%ED%9A%8C%EA%B7%80.ipynb\" target=\"_parent\"><img src=\"https://colab.research.google.com/assets/colab-badge.svg\" alt=\"Open In Colab\"/></a>"
      ]
    },
    {
      "cell_type": "markdown",
      "metadata": {
        "id": "XDFaXy4pqCEA",
        "colab_type": "text"
      },
      "source": [
        "간단한 다중선형회귀 예제\n",
        "\n",
        "Iris data를 활용하여 sepal length, sepal width, petal length의 변화에 따른 petal width 구하기!!!"
      ]
    },
    {
      "cell_type": "code",
      "metadata": {
        "id": "j_holegnp-jG",
        "colab_type": "code",
        "colab": {}
      },
      "source": [
        "#필요한 라이브러리 불러오기 \n",
        "\n",
        "import torch\n",
        "import torch.nn as nn\n",
        "import torch.nn.functional as F\n",
        "import torch.optim as optim\n",
        "\n",
        "from torch.utils.data import Dataset\n",
        "from torch.utils.data import DataLoader\n",
        "\n",
        "import matplotlib.pyplot as plt\n",
        "import pandas as pd\n",
        "from sklearn.datasets import load_iris\n",
        "\n",
        "df = load_iris()"
      ],
      "execution_count": 0,
      "outputs": []
    },
    {
      "cell_type": "code",
      "metadata": {
        "id": "Sg-tVDx_ysUh",
        "colab_type": "code",
        "outputId": "0787ecfd-834f-40fb-dbf8-ccaee878a791",
        "colab": {
          "base_uri": "https://localhost:8080/",
          "height": 34
        }
      },
      "source": [
        "torch.manual_seed(1)"
      ],
      "execution_count": 2,
      "outputs": [
        {
          "output_type": "execute_result",
          "data": {
            "text/plain": [
              "<torch._C.Generator at 0x7f8935f4df70>"
            ]
          },
          "metadata": {
            "tags": []
          },
          "execution_count": 2
        }
      ]
    },
    {
      "cell_type": "markdown",
      "metadata": {
        "id": "rhg5pXC_sW77",
        "colab_type": "text"
      },
      "source": [
        "데이터 불러오기"
      ]
    },
    {
      "cell_type": "code",
      "metadata": {
        "id": "tww9ALK2aol0",
        "colab_type": "code",
        "outputId": "e4b2e4a2-8500-4333-c308-ac69f9ec7ae5",
        "colab": {
          "base_uri": "https://localhost:8080/",
          "height": 402
        }
      },
      "source": [
        "# 데이터프레임형식으로 변환\n",
        "df=pd.DataFrame(data=df['data'],columns=df['feature_names'])\n",
        "df"
      ],
      "execution_count": 3,
      "outputs": [
        {
          "output_type": "execute_result",
          "data": {
            "text/html": [
              "<div>\n",
              "<style scoped>\n",
              "    .dataframe tbody tr th:only-of-type {\n",
              "        vertical-align: middle;\n",
              "    }\n",
              "\n",
              "    .dataframe tbody tr th {\n",
              "        vertical-align: top;\n",
              "    }\n",
              "\n",
              "    .dataframe thead th {\n",
              "        text-align: right;\n",
              "    }\n",
              "</style>\n",
              "<table border=\"1\" class=\"dataframe\">\n",
              "  <thead>\n",
              "    <tr style=\"text-align: right;\">\n",
              "      <th></th>\n",
              "      <th>sepal length (cm)</th>\n",
              "      <th>sepal width (cm)</th>\n",
              "      <th>petal length (cm)</th>\n",
              "      <th>petal width (cm)</th>\n",
              "    </tr>\n",
              "  </thead>\n",
              "  <tbody>\n",
              "    <tr>\n",
              "      <th>0</th>\n",
              "      <td>5.1</td>\n",
              "      <td>3.5</td>\n",
              "      <td>1.4</td>\n",
              "      <td>0.2</td>\n",
              "    </tr>\n",
              "    <tr>\n",
              "      <th>1</th>\n",
              "      <td>4.9</td>\n",
              "      <td>3.0</td>\n",
              "      <td>1.4</td>\n",
              "      <td>0.2</td>\n",
              "    </tr>\n",
              "    <tr>\n",
              "      <th>2</th>\n",
              "      <td>4.7</td>\n",
              "      <td>3.2</td>\n",
              "      <td>1.3</td>\n",
              "      <td>0.2</td>\n",
              "    </tr>\n",
              "    <tr>\n",
              "      <th>3</th>\n",
              "      <td>4.6</td>\n",
              "      <td>3.1</td>\n",
              "      <td>1.5</td>\n",
              "      <td>0.2</td>\n",
              "    </tr>\n",
              "    <tr>\n",
              "      <th>4</th>\n",
              "      <td>5.0</td>\n",
              "      <td>3.6</td>\n",
              "      <td>1.4</td>\n",
              "      <td>0.2</td>\n",
              "    </tr>\n",
              "    <tr>\n",
              "      <th>...</th>\n",
              "      <td>...</td>\n",
              "      <td>...</td>\n",
              "      <td>...</td>\n",
              "      <td>...</td>\n",
              "    </tr>\n",
              "    <tr>\n",
              "      <th>145</th>\n",
              "      <td>6.7</td>\n",
              "      <td>3.0</td>\n",
              "      <td>5.2</td>\n",
              "      <td>2.3</td>\n",
              "    </tr>\n",
              "    <tr>\n",
              "      <th>146</th>\n",
              "      <td>6.3</td>\n",
              "      <td>2.5</td>\n",
              "      <td>5.0</td>\n",
              "      <td>1.9</td>\n",
              "    </tr>\n",
              "    <tr>\n",
              "      <th>147</th>\n",
              "      <td>6.5</td>\n",
              "      <td>3.0</td>\n",
              "      <td>5.2</td>\n",
              "      <td>2.0</td>\n",
              "    </tr>\n",
              "    <tr>\n",
              "      <th>148</th>\n",
              "      <td>6.2</td>\n",
              "      <td>3.4</td>\n",
              "      <td>5.4</td>\n",
              "      <td>2.3</td>\n",
              "    </tr>\n",
              "    <tr>\n",
              "      <th>149</th>\n",
              "      <td>5.9</td>\n",
              "      <td>3.0</td>\n",
              "      <td>5.1</td>\n",
              "      <td>1.8</td>\n",
              "    </tr>\n",
              "  </tbody>\n",
              "</table>\n",
              "<p>150 rows × 4 columns</p>\n",
              "</div>"
            ],
            "text/plain": [
              "     sepal length (cm)  sepal width (cm)  petal length (cm)  petal width (cm)\n",
              "0                  5.1               3.5                1.4               0.2\n",
              "1                  4.9               3.0                1.4               0.2\n",
              "2                  4.7               3.2                1.3               0.2\n",
              "3                  4.6               3.1                1.5               0.2\n",
              "4                  5.0               3.6                1.4               0.2\n",
              "..                 ...               ...                ...               ...\n",
              "145                6.7               3.0                5.2               2.3\n",
              "146                6.3               2.5                5.0               1.9\n",
              "147                6.5               3.0                5.2               2.0\n",
              "148                6.2               3.4                5.4               2.3\n",
              "149                5.9               3.0                5.1               1.8\n",
              "\n",
              "[150 rows x 4 columns]"
            ]
          },
          "metadata": {
            "tags": []
          },
          "execution_count": 3
        }
      ]
    },
    {
      "cell_type": "code",
      "metadata": {
        "id": "_kOaMIVboTlV",
        "colab_type": "code",
        "colab": {
          "base_uri": "https://localhost:8080/",
          "height": 402
        },
        "outputId": "b45186fd-387a-4e15-fbaf-f506a0a3dc69"
      },
      "source": [
        "standard_df=df\n",
        "standard_df=standard_df.apply(lambda x: (x-x.mean())/x.std())\n",
        "standard_df['petal width (cm)']=df['petal width (cm)']\n",
        "standard_df"
      ],
      "execution_count": 4,
      "outputs": [
        {
          "output_type": "execute_result",
          "data": {
            "text/html": [
              "<div>\n",
              "<style scoped>\n",
              "    .dataframe tbody tr th:only-of-type {\n",
              "        vertical-align: middle;\n",
              "    }\n",
              "\n",
              "    .dataframe tbody tr th {\n",
              "        vertical-align: top;\n",
              "    }\n",
              "\n",
              "    .dataframe thead th {\n",
              "        text-align: right;\n",
              "    }\n",
              "</style>\n",
              "<table border=\"1\" class=\"dataframe\">\n",
              "  <thead>\n",
              "    <tr style=\"text-align: right;\">\n",
              "      <th></th>\n",
              "      <th>sepal length (cm)</th>\n",
              "      <th>sepal width (cm)</th>\n",
              "      <th>petal length (cm)</th>\n",
              "      <th>petal width (cm)</th>\n",
              "    </tr>\n",
              "  </thead>\n",
              "  <tbody>\n",
              "    <tr>\n",
              "      <th>0</th>\n",
              "      <td>-0.897674</td>\n",
              "      <td>1.015602</td>\n",
              "      <td>-1.335752</td>\n",
              "      <td>0.2</td>\n",
              "    </tr>\n",
              "    <tr>\n",
              "      <th>1</th>\n",
              "      <td>-1.139200</td>\n",
              "      <td>-0.131539</td>\n",
              "      <td>-1.335752</td>\n",
              "      <td>0.2</td>\n",
              "    </tr>\n",
              "    <tr>\n",
              "      <th>2</th>\n",
              "      <td>-1.380727</td>\n",
              "      <td>0.327318</td>\n",
              "      <td>-1.392399</td>\n",
              "      <td>0.2</td>\n",
              "    </tr>\n",
              "    <tr>\n",
              "      <th>3</th>\n",
              "      <td>-1.501490</td>\n",
              "      <td>0.097889</td>\n",
              "      <td>-1.279104</td>\n",
              "      <td>0.2</td>\n",
              "    </tr>\n",
              "    <tr>\n",
              "      <th>4</th>\n",
              "      <td>-1.018437</td>\n",
              "      <td>1.245030</td>\n",
              "      <td>-1.335752</td>\n",
              "      <td>0.2</td>\n",
              "    </tr>\n",
              "    <tr>\n",
              "      <th>...</th>\n",
              "      <td>...</td>\n",
              "      <td>...</td>\n",
              "      <td>...</td>\n",
              "      <td>...</td>\n",
              "    </tr>\n",
              "    <tr>\n",
              "      <th>145</th>\n",
              "      <td>1.034539</td>\n",
              "      <td>-0.131539</td>\n",
              "      <td>0.816859</td>\n",
              "      <td>2.3</td>\n",
              "    </tr>\n",
              "    <tr>\n",
              "      <th>146</th>\n",
              "      <td>0.551486</td>\n",
              "      <td>-1.278680</td>\n",
              "      <td>0.703564</td>\n",
              "      <td>1.9</td>\n",
              "    </tr>\n",
              "    <tr>\n",
              "      <th>147</th>\n",
              "      <td>0.793012</td>\n",
              "      <td>-0.131539</td>\n",
              "      <td>0.816859</td>\n",
              "      <td>2.0</td>\n",
              "    </tr>\n",
              "    <tr>\n",
              "      <th>148</th>\n",
              "      <td>0.430722</td>\n",
              "      <td>0.786174</td>\n",
              "      <td>0.930154</td>\n",
              "      <td>2.3</td>\n",
              "    </tr>\n",
              "    <tr>\n",
              "      <th>149</th>\n",
              "      <td>0.068433</td>\n",
              "      <td>-0.131539</td>\n",
              "      <td>0.760211</td>\n",
              "      <td>1.8</td>\n",
              "    </tr>\n",
              "  </tbody>\n",
              "</table>\n",
              "<p>150 rows × 4 columns</p>\n",
              "</div>"
            ],
            "text/plain": [
              "     sepal length (cm)  sepal width (cm)  petal length (cm)  petal width (cm)\n",
              "0            -0.897674          1.015602          -1.335752               0.2\n",
              "1            -1.139200         -0.131539          -1.335752               0.2\n",
              "2            -1.380727          0.327318          -1.392399               0.2\n",
              "3            -1.501490          0.097889          -1.279104               0.2\n",
              "4            -1.018437          1.245030          -1.335752               0.2\n",
              "..                 ...               ...                ...               ...\n",
              "145           1.034539         -0.131539           0.816859               2.3\n",
              "146           0.551486         -1.278680           0.703564               1.9\n",
              "147           0.793012         -0.131539           0.816859               2.0\n",
              "148           0.430722          0.786174           0.930154               2.3\n",
              "149           0.068433         -0.131539           0.760211               1.8\n",
              "\n",
              "[150 rows x 4 columns]"
            ]
          },
          "metadata": {
            "tags": []
          },
          "execution_count": 4
        }
      ]
    },
    {
      "cell_type": "code",
      "metadata": {
        "id": "lYQYBRBfi2Ml",
        "colab_type": "code",
        "outputId": "fb45f0bc-6857-4c03-e1f3-9ce7394ce44e",
        "colab": {
          "base_uri": "https://localhost:8080/",
          "height": 34
        }
      },
      "source": [
        "#150 x 4라는 아주 작은 데이터셋 \n",
        "#x는 모든행을 불러오고 마지막 petal width를 제외하고 불러오고, y는 모든행을 가진 petal width열만\n",
        "x,y=df.values[:,:-1],df.values[:,-1:]\n",
        "x.shape, y.shape"
      ],
      "execution_count": 5,
      "outputs": [
        {
          "output_type": "execute_result",
          "data": {
            "text/plain": [
              "((150, 3), (150, 1))"
            ]
          },
          "metadata": {
            "tags": []
          },
          "execution_count": 5
        }
      ]
    },
    {
      "cell_type": "markdown",
      "metadata": {
        "id": "6xJNiJZZd5M5",
        "colab_type": "text"
      },
      "source": [
        "커스텀 데이터셋 만들기"
      ]
    },
    {
      "cell_type": "code",
      "metadata": {
        "id": "AtsExa22dIHn",
        "colab_type": "code",
        "colab": {}
      },
      "source": [
        "#커스텀 데이터셋을 만드는 가장 기본적인 뼈대\n",
        "\n",
        "class Iris():\n",
        "    def __init__(self):\n",
        "        self.x_data = torch.FloatTensor(x)\n",
        "        self.y_data = torch.FloatTensor(y)\n",
        "    \n",
        "    def __len__(self):\n",
        "        return len(self.x_data)\n",
        "  \n",
        "    def __getitem__(self, idx):\n",
        "        x = self.x_data[idx]\n",
        "        y = self.y_data[idx]\n",
        "        return x, y\n"
      ],
      "execution_count": 0,
      "outputs": []
    },
    {
      "cell_type": "code",
      "metadata": {
        "id": "BanUfnOv1vXl",
        "colab_type": "code",
        "outputId": "96f71287-66e2-4d3e-ccb8-0a5aa9e3f620",
        "colab": {
          "base_uri": "https://localhost:8080/",
          "height": 54
        }
      },
      "source": [
        "#만약 CLASS로만 구현하고자 한다면\n",
        "\n",
        "'''class MultiLinearRegression(nn.Module):\n",
        "    def __init__(self):\n",
        "        super().__init__()\n",
        "        self.linear=nn.Linear(3,1)\n",
        "\n",
        "    def forward(self,x):\n",
        "        return self.linear(x)\n",
        "\n",
        "model=MultiLinearRegression()\n",
        "\n",
        "optimizer = optim.SGD(model.parameters(), lr=1e-5)\n",
        "\n",
        "\n",
        "nb_epochs=2000\n",
        "train_losses=[]\n",
        "for epoch in range(nb_epochs+1):\n",
        "    for batch_idx, samples in enumerate(dataloader):\n",
        "        x_train, y_train = samples\n",
        "        \n",
        "\n",
        "        prediction = model(x_train)\n",
        "        cost = F.mse_loss(prediction, y_train)\n",
        "\n",
        "\n",
        "\n",
        "        optimizer.zero_grad()\n",
        "        cost.backward()\n",
        "        optimizer.step()\n",
        "        train_losses.append(cost.item())\n",
        "\n",
        "\n",
        "        if epoch % 100 == 0:\n",
        "            print('Epoch {:4d}/{} Batch {}/{} Cost: {:.6f}'.format(\n",
        "            epoch, nb_epochs, batch_idx+1, len(dataloader),\n",
        "            cost.item()\n",
        "             ))'''"
      ],
      "execution_count": 7,
      "outputs": [
        {
          "output_type": "execute_result",
          "data": {
            "text/plain": [
              "\"class MultiLinearRegression(nn.Module):\\n    def __init__(self):\\n        super().__init__()\\n        self.linear=nn.Linear(3,1)\\n\\n    def forward(self,x):\\n        return self.linear(x)\\n\\nmodel=MultiLinearRegression()\\n\\noptimizer = optim.SGD(model.parameters(), lr=1e-5)\\n\\n\\nnb_epochs=2000\\ntrain_losses=[]\\nfor epoch in range(nb_epochs+1):\\n    for batch_idx, samples in enumerate(dataloader):\\n        x_train, y_train = samples\\n        \\n\\n        prediction = model(x_train)\\n        cost = F.mse_loss(prediction, y_train)\\n\\n\\n\\n        optimizer.zero_grad()\\n        cost.backward()\\n        optimizer.step()\\n        train_losses.append(cost.item())\\n\\n\\n        if epoch % 100 == 0:\\n            print('Epoch {:4d}/{} Batch {}/{} Cost: {:.6f}'.format(\\n            epoch, nb_epochs, batch_idx+1, len(dataloader),\\n            cost.item()\\n             ))\""
            ]
          },
          "metadata": {
            "tags": []
          },
          "execution_count": 7
        }
      ]
    },
    {
      "cell_type": "code",
      "metadata": {
        "id": "uqOAbLTGdIJz",
        "colab_type": "code",
        "colab": {
          "base_uri": "https://localhost:8080/",
          "height": 52
        },
        "outputId": "1bcf3a14-4ad6-449b-a419-aeffddee36a4"
      },
      "source": [
        "dataset=Iris()\n",
        "\n",
        "train_val_ratio=0.8\n",
        "train_size=int(len(dataset)*train_val_ratio)\n",
        "val_size=len(dataset)-train_size\n",
        "print(train_size,val_size)\n",
        "\n",
        "\n",
        "train_dataset, val_dataset = torch.utils.data.random_split(dataset,[train_size,val_size])\n",
        "print(len(train_dataset), len(val_dataset))\n"
      ],
      "execution_count": 8,
      "outputs": [
        {
          "output_type": "stream",
          "text": [
            "120 30\n",
            "120 30\n"
          ],
          "name": "stdout"
        }
      ]
    },
    {
      "cell_type": "code",
      "metadata": {
        "id": "p8Kpx9gpdIMA",
        "colab_type": "code",
        "outputId": "a6f959ba-0c94-4fa7-8048-7e8af5df94c2",
        "colab": {
          "base_uri": "https://localhost:8080/",
          "height": 34
        }
      },
      "source": [
        "len(dataset),dataset[0]  #총 샘플의수 150개 0번째 샘플의 x는 5.1,3.5,1.4 y는 0.2"
      ],
      "execution_count": 9,
      "outputs": [
        {
          "output_type": "execute_result",
          "data": {
            "text/plain": [
              "(150, (tensor([5.1000, 3.5000, 1.4000]), tensor([0.2000])))"
            ]
          },
          "metadata": {
            "tags": []
          },
          "execution_count": 9
        }
      ]
    },
    {
      "cell_type": "code",
      "metadata": {
        "id": "E8hJBVCNpzIC",
        "colab_type": "code",
        "colab": {}
      },
      "source": [
        "train_loader=DataLoader(dataset=train_dataset,batch_size=len(dataset),shuffle=True) \n",
        "val_loader=DataLoader(dataset=val_dataset,batch_size=len(dataset),shuffle=True) "
      ],
      "execution_count": 0,
      "outputs": []
    },
    {
      "cell_type": "markdown",
      "metadata": {
        "id": "cn9uNslOscza",
        "colab_type": "text"
      },
      "source": [
        "모델 학습하기"
      ]
    },
    {
      "cell_type": "code",
      "metadata": {
        "id": "538KEuXVdIPE",
        "colab_type": "code",
        "outputId": "6a1a616c-bed3-4cf7-fc12-6bc90ecf088c",
        "colab": {
          "base_uri": "https://localhost:8080/",
          "height": 70
        }
      },
      "source": [
        "model = nn.Linear(3,1)      #input 3 ouput 1\n",
        "print(list(model.parameters())) #초기화된 w,b값 확인\n",
        "optimizer = optim.SGD(model.parameters(), lr=1e-5)"
      ],
      "execution_count": 11,
      "outputs": [
        {
          "output_type": "stream",
          "text": [
            "[Parameter containing:\n",
            "tensor([[ 0.3888, -0.1955,  0.5641]], requires_grad=True), Parameter containing:\n",
            "tensor([-0.0667], requires_grad=True)]\n"
          ],
          "name": "stdout"
        }
      ]
    },
    {
      "cell_type": "code",
      "metadata": {
        "id": "Q56QuH0_lvFN",
        "colab_type": "code",
        "outputId": "952c4355-6bdb-4587-cbe2-c37fbf49da50",
        "colab": {
          "base_uri": "https://localhost:8080/",
          "height": 1000
        }
      },
      "source": [
        "nb_epochs=2000\n",
        "train_losses=[]\n",
        "val_losses = []\n",
        "\n",
        "for epoch in range(nb_epochs+1):\n",
        "    for batch_idx, samples in enumerate(train_loader):\n",
        "        x_train, y_train = samples\n",
        "        \n",
        "\n",
        "        prediction = model(x_train)\n",
        "        cost = F.mse_loss(prediction, y_train)\n",
        "\n",
        "\n",
        "\n",
        "        optimizer.zero_grad()\n",
        "        cost.backward()\n",
        "        optimizer.step()\n",
        "        train_losses.append(cost.item())\n",
        "\n",
        "\n",
        "        if epoch % 100 == 0:\n",
        "            print('Epoch {:4d}/{} Batch {}/{} Train Cost: {:.6f}'.format(\n",
        "            epoch, nb_epochs, batch_idx+1, len(train_loader),\n",
        "            cost.item()\n",
        "             ))\n",
        "            \n",
        "    for batch_idx, samples in enumerate(val_loader):\n",
        "        x_val, y_val = samples\n",
        "\n",
        "        prediction = model(x_val)\n",
        "        cost = F.mse_loss(prediction, y_val)\n",
        "\n",
        "        val_losses.append(cost.item())\n",
        "\n",
        "        if epoch % 100 == 0:\n",
        "            print('Epoch {:4d}/{} Batch {}/{} Validation Cost: {:.6f}'.format(\n",
        "            epoch, nb_epochs, batch_idx+1, len(val_loader),\n",
        "            cost.item()\n",
        "             ))\n",
        "            print('-'*50)"
      ],
      "execution_count": 12,
      "outputs": [
        {
          "output_type": "stream",
          "text": [
            "Epoch    0/2000 Batch 1/1 Train Cost: 6.799528\n",
            "Epoch    0/2000 Batch 1/1 Validation Cost: 6.779358\n",
            "--------------------------------------------------\n",
            "Epoch  100/2000 Batch 1/1 Train Cost: 5.342718\n",
            "Epoch  100/2000 Batch 1/1 Validation Cost: 5.350499\n",
            "--------------------------------------------------\n",
            "Epoch  200/2000 Batch 1/1 Train Cost: 4.201688\n",
            "Epoch  200/2000 Batch 1/1 Validation Cost: 4.228774\n",
            "--------------------------------------------------\n",
            "Epoch  300/2000 Batch 1/1 Train Cost: 3.307986\n",
            "Epoch  300/2000 Batch 1/1 Validation Cost: 3.347900\n",
            "--------------------------------------------------\n",
            "Epoch  400/2000 Batch 1/1 Train Cost: 2.607986\n",
            "Epoch  400/2000 Batch 1/1 Validation Cost: 2.655919\n",
            "--------------------------------------------------\n",
            "Epoch  500/2000 Batch 1/1 Train Cost: 2.059705\n",
            "Epoch  500/2000 Batch 1/1 Validation Cost: 2.112123\n",
            "--------------------------------------------------\n",
            "Epoch  600/2000 Batch 1/1 Train Cost: 1.630250\n",
            "Epoch  600/2000 Batch 1/1 Validation Cost: 1.684590\n",
            "--------------------------------------------------\n",
            "Epoch  700/2000 Batch 1/1 Train Cost: 1.293862\n",
            "Epoch  700/2000 Batch 1/1 Validation Cost: 1.348302\n",
            "--------------------------------------------------\n",
            "Epoch  800/2000 Batch 1/1 Train Cost: 1.030366\n",
            "Epoch  800/2000 Batch 1/1 Validation Cost: 1.083636\n",
            "--------------------------------------------------\n",
            "Epoch  900/2000 Batch 1/1 Train Cost: 0.823959\n",
            "Epoch  900/2000 Batch 1/1 Validation Cost: 0.875212\n",
            "--------------------------------------------------\n",
            "Epoch 1000/2000 Batch 1/1 Train Cost: 0.662268\n",
            "Epoch 1000/2000 Batch 1/1 Validation Cost: 0.710963\n",
            "--------------------------------------------------\n",
            "Epoch 1100/2000 Batch 1/1 Train Cost: 0.535600\n",
            "Epoch 1100/2000 Batch 1/1 Validation Cost: 0.581428\n",
            "--------------------------------------------------\n",
            "Epoch 1200/2000 Batch 1/1 Train Cost: 0.436361\n",
            "Epoch 1200/2000 Batch 1/1 Validation Cost: 0.479179\n",
            "--------------------------------------------------\n",
            "Epoch 1300/2000 Batch 1/1 Train Cost: 0.358605\n",
            "Epoch 1300/2000 Batch 1/1 Validation Cost: 0.398389\n",
            "--------------------------------------------------\n",
            "Epoch 1400/2000 Batch 1/1 Train Cost: 0.297677\n",
            "Epoch 1400/2000 Batch 1/1 Validation Cost: 0.334485\n",
            "--------------------------------------------------\n",
            "Epoch 1500/2000 Batch 1/1 Train Cost: 0.249927\n",
            "Epoch 1500/2000 Batch 1/1 Validation Cost: 0.283875\n",
            "--------------------------------------------------\n",
            "Epoch 1600/2000 Batch 1/1 Train Cost: 0.212500\n",
            "Epoch 1600/2000 Batch 1/1 Validation Cost: 0.243738\n",
            "--------------------------------------------------\n",
            "Epoch 1700/2000 Batch 1/1 Train Cost: 0.183157\n",
            "Epoch 1700/2000 Batch 1/1 Validation Cost: 0.211859\n",
            "--------------------------------------------------\n",
            "Epoch 1800/2000 Batch 1/1 Train Cost: 0.160147\n",
            "Epoch 1800/2000 Batch 1/1 Validation Cost: 0.186495\n",
            "--------------------------------------------------\n",
            "Epoch 1900/2000 Batch 1/1 Train Cost: 0.142096\n",
            "Epoch 1900/2000 Batch 1/1 Validation Cost: 0.166276\n",
            "--------------------------------------------------\n",
            "Epoch 2000/2000 Batch 1/1 Train Cost: 0.127930\n",
            "Epoch 2000/2000 Batch 1/1 Validation Cost: 0.150126\n",
            "--------------------------------------------------\n"
          ],
          "name": "stdout"
        }
      ]
    },
    {
      "cell_type": "code",
      "metadata": {
        "id": "IcUyH3GErkFV",
        "colab_type": "code",
        "colab": {
          "base_uri": "https://localhost:8080/",
          "height": 265
        },
        "outputId": "c1a8bf2a-18bc-403a-f406-7461e3e9d6ac"
      },
      "source": [
        "plt.plot(train_losses, label='train')\n",
        "plt.plot(val_losses, label='val')\n",
        "plt.legend()\n",
        "plt.show()"
      ],
      "execution_count": 13,
      "outputs": [
        {
          "output_type": "display_data",
          "data": {
            "image/png": "[encoded data removed]",
            "text/plain": [
              "<Figure size 432x288 with 1 Axes>"
            ]
          },
          "metadata": {
            "tags": [],
            "needs_background": "light"
          }
        }
      ]
    },
    {
      "cell_type": "markdown",
      "metadata": {
        "id": "qnTp05G_sgbC",
        "colab_type": "text"
      },
      "source": [
        "예측하기"
      ]
    },
    {
      "cell_type": "code",
      "metadata": {
        "id": "lg5eGPX_sjc2",
        "colab_type": "code",
        "colab": {}
      },
      "source": [
        "#잠깐 근데 x_test값은 어떻게 나누지???"
      ],
      "execution_count": 0,
      "outputs": []
    },
    {
      "cell_type": "code",
      "metadata": {
        "id": "W0nKBuTIoqXN",
        "colab_type": "code",
        "outputId": "d6c00b35-8acd-40a3-b7bf-ef3a7b618a6e",
        "colab": {
          "base_uri": "https://localhost:8080/",
          "height": 318
        }
      },
      "source": [
        "print(list(model.parameters())) #학습후 w와 b의 값 확인\n",
        "\n",
        "#epoch에 따른 train_losses 변화\n",
        "\n",
        "plt.plot(train_losses)\n",
        "plt.show()"
      ],
      "execution_count": 15,
      "outputs": [
        {
          "output_type": "stream",
          "text": [
            "[Parameter containing:\n",
            "tensor([[ 0.1609, -0.3065,  0.4022]], requires_grad=True), Parameter containing:\n",
            "tensor([-0.1041], requires_grad=True)]\n"
          ],
          "name": "stdout"
        },
        {
          "output_type": "display_data",
          "data": {
            "image/png": "[encoded data removed]",
            "text/plain": [
              "<Figure size 432x288 with 1 Axes>"
            ]
          },
          "metadata": {
            "tags": [],
            "needs_background": "light"
          }
        }
      ]
    },
    {
      "cell_type": "code",
      "metadata": {
        "id": "600hnnZQpLr7",
        "colab_type": "code",
        "outputId": "292c0101-9cfb-4e6b-bb8e-800298812645",
        "colab": {
          "base_uri": "https://localhost:8080/",
          "height": 34
        }
      },
      "source": [
        "new_var=torch.FloatTensor([[6.9,2.0,7.1]]) \n",
        "pred_y=model(new_var)\n",
        "\n",
        "print('훈련 후 입력이 6.9, 2.0, 7.1 일때의 예측값: ',pred_y)"
      ],
      "execution_count": 16,
      "outputs": [
        {
          "output_type": "stream",
          "text": [
            "훈련 후 입력이 6.9, 2.0, 7.1 일때의 예측값:  tensor([[3.2489]], grad_fn=<AddmmBackward>)\n"
          ],
          "name": "stdout"
        }
      ]
    },
    {
      "cell_type": "code",
      "metadata": {
        "id": "24xFjt1xrcGb",
        "colab_type": "code",
        "colab": {}
      },
      "source": [
        ""
      ],
      "execution_count": 0,
      "outputs": []
    }
  ]
}