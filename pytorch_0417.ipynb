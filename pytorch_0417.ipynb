{
  "nbformat": 4,
  "nbformat_minor": 0,
  "metadata": {
    "colab": {
      "name": "pytorch_0417.ipynb",
      "provenance": [],
      "mount_file_id": "1cDwFZvq6JzxgwmBWcnDbg1LpYB9Hx4GF",
      "authorship_tag": "ABX9TyOIWyQ6X+/GQRshcbz3gwU4",
      "include_colab_link": true
    },
    "kernelspec": {
      "name": "python3",
      "display_name": "Python 3"
    }
  },
  "cells": [
    {
      "cell_type": "markdown",
      "metadata": {
        "id": "view-in-github",
        "colab_type": "text"
      },
      "source": [
        "<a href=\"https://colab.research.google.com/github/leehyunggeunkeun/pytorch-study/blob/master/pytorch_0417.ipynb\" target=\"_parent\"><img src=\"https://colab.research.google.com/assets/colab-badge.svg\" alt=\"Open In Colab\"/></a>"
      ]
    },
    {
      "cell_type": "markdown",
      "metadata": {
        "id": "XDFaXy4pqCEA",
        "colab_type": "text"
      },
      "source": [
        "간단한 선형회귀 예제\n",
        "Iris data를 활용하여 sepal length, sepal width, petal length의 변화에 따른 petal width 구하기!!!"
      ]
    },
    {
      "cell_type": "code",
      "metadata": {
        "id": "j_holegnp-jG",
        "colab_type": "code",
        "colab": {
          "base_uri": "https://localhost:8080/",
          "height": 1000
        },
        "outputId": "c785068f-35bc-4838-eb63-aa1852434d43"
      },
      "source": [
        "import pandas as pd\n",
        "from sklearn.datasets import load_iris\n",
        "df = load_iris()\n",
        "df"
      ],
      "execution_count": 1,
      "outputs": [
        {
          "output_type": "execute_result",
          "data": {
            "text/plain": [
              "{'DESCR': '.. _iris_dataset:\\n\\nIris plants dataset\\n--------------------\\n\\n**Data Set Characteristics:**\\n\\n    :Number of Instances: 150 (50 in each of three classes)\\n    :Number of Attributes: 4 numeric, predictive attributes and the class\\n    :Attribute Information:\\n        - sepal length in cm\\n        - sepal width in cm\\n        - petal length in cm\\n        - petal width in cm\\n        - class:\\n                - Iris-Setosa\\n                - Iris-Versicolour\\n                - Iris-Virginica\\n                \\n    :Summary Statistics:\\n\\n    ============== ==== ==== ======= ===== ====================\\n                    Min  Max   Mean    SD   Class Correlation\\n    ============== ==== ==== ======= ===== ====================\\n    sepal length:   4.3  7.9   5.84   0.83    0.7826\\n    sepal width:    2.0  4.4   3.05   0.43   -0.4194\\n    petal length:   1.0  6.9   3.76   1.76    0.9490  (high!)\\n    petal width:    0.1  2.5   1.20   0.76    0.9565  (high!)\\n    ============== ==== ==== ======= ===== ====================\\n\\n    :Missing Attribute Values: None\\n    :Class Distribution: 33.3% for each of 3 classes.\\n    :Creator: R.A. Fisher\\n    :Donor: Michael Marshall (MARSHALL%PLU@io.arc.nasa.gov)\\n    :Date: July, 1988\\n\\nThe famous Iris database, first used by Sir R.A. Fisher. The dataset is taken\\nfrom Fisher\\'s paper. Note that it\\'s the same as in R, but not as in the UCI\\nMachine Learning Repository, which has two wrong data points.\\n\\nThis is perhaps the best known database to be found in the\\npattern recognition literature.  Fisher\\'s paper is a classic in the field and\\nis referenced frequently to this day.  (See Duda & Hart, for example.)  The\\ndata set contains 3 classes of 50 instances each, where each class refers to a\\ntype of iris plant.  One class is linearly separable from the other 2; the\\nlatter are NOT linearly separable from each other.\\n\\n.. topic:: References\\n\\n   - Fisher, R.A. \"The use of multiple measurements in taxonomic problems\"\\n     Annual Eugenics, 7, Part II, 179-188 (1936); also in \"Contributions to\\n     Mathematical Statistics\" (John Wiley, NY, 1950).\\n   - Duda, R.O., & Hart, P.E. (1973) Pattern Classification and Scene Analysis.\\n     (Q327.D83) John Wiley & Sons.  ISBN 0-471-22361-1.  See page 218.\\n   - Dasarathy, B.V. (1980) \"Nosing Around the Neighborhood: A New System\\n     Structure and Classification Rule for Recognition in Partially Exposed\\n     Environments\".  IEEE Transactions on Pattern Analysis and Machine\\n     Intelligence, Vol. PAMI-2, No. 1, 67-71.\\n   - Gates, G.W. (1972) \"The Reduced Nearest Neighbor Rule\".  IEEE Transactions\\n     on Information Theory, May 1972, 431-433.\\n   - See also: 1988 MLC Proceedings, 54-64.  Cheeseman et al\"s AUTOCLASS II\\n     conceptual clustering system finds 3 classes in the data.\\n   - Many, many more ...',\n",
              " 'data': array([[5.1, 3.5, 1.4, 0.2],\n",
              "        [4.9, 3. , 1.4, 0.2],\n",
              "        [4.7, 3.2, 1.3, 0.2],\n",
              "        [4.6, 3.1, 1.5, 0.2],\n",
              "        [5. , 3.6, 1.4, 0.2],\n",
              "        [5.4, 3.9, 1.7, 0.4],\n",
              "        [4.6, 3.4, 1.4, 0.3],\n",
              "        [5. , 3.4, 1.5, 0.2],\n",
              "        [4.4, 2.9, 1.4, 0.2],\n",
              "        [4.9, 3.1, 1.5, 0.1],\n",
              "        [5.4, 3.7, 1.5, 0.2],\n",
              "        [4.8, 3.4, 1.6, 0.2],\n",
              "        [4.8, 3. , 1.4, 0.1],\n",
              "        [4.3, 3. , 1.1, 0.1],\n",
              "        [5.8, 4. , 1.2, 0.2],\n",
              "        [5.7, 4.4, 1.5, 0.4],\n",
              "        [5.4, 3.9, 1.3, 0.4],\n",
              "        [5.1, 3.5, 1.4, 0.3],\n",
              "        [5.7, 3.8, 1.7, 0.3],\n",
              "        [5.1, 3.8, 1.5, 0.3],\n",
              "        [5.4, 3.4, 1.7, 0.2],\n",
              "        [5.1, 3.7, 1.5, 0.4],\n",
              "        [4.6, 3.6, 1. , 0.2],\n",
              "        [5.1, 3.3, 1.7, 0.5],\n",
              "        [4.8, 3.4, 1.9, 0.2],\n",
              "        [5. , 3. , 1.6, 0.2],\n",
              "        [5. , 3.4, 1.6, 0.4],\n",
              "        [5.2, 3.5, 1.5, 0.2],\n",
              "        [5.2, 3.4, 1.4, 0.2],\n",
              "        [4.7, 3.2, 1.6, 0.2],\n",
              "        [4.8, 3.1, 1.6, 0.2],\n",
              "        [5.4, 3.4, 1.5, 0.4],\n",
              "        [5.2, 4.1, 1.5, 0.1],\n",
              "        [5.5, 4.2, 1.4, 0.2],\n",
              "        [4.9, 3.1, 1.5, 0.2],\n",
              "        [5. , 3.2, 1.2, 0.2],\n",
              "        [5.5, 3.5, 1.3, 0.2],\n",
              "        [4.9, 3.6, 1.4, 0.1],\n",
              "        [4.4, 3. , 1.3, 0.2],\n",
              "        [5.1, 3.4, 1.5, 0.2],\n",
              "        [5. , 3.5, 1.3, 0.3],\n",
              "        [4.5, 2.3, 1.3, 0.3],\n",
              "        [4.4, 3.2, 1.3, 0.2],\n",
              "        [5. , 3.5, 1.6, 0.6],\n",
              "        [5.1, 3.8, 1.9, 0.4],\n",
              "        [4.8, 3. , 1.4, 0.3],\n",
              "        [5.1, 3.8, 1.6, 0.2],\n",
              "        [4.6, 3.2, 1.4, 0.2],\n",
              "        [5.3, 3.7, 1.5, 0.2],\n",
              "        [5. , 3.3, 1.4, 0.2],\n",
              "        [7. , 3.2, 4.7, 1.4],\n",
              "        [6.4, 3.2, 4.5, 1.5],\n",
              "        [6.9, 3.1, 4.9, 1.5],\n",
              "        [5.5, 2.3, 4. , 1.3],\n",
              "        [6.5, 2.8, 4.6, 1.5],\n",
              "        [5.7, 2.8, 4.5, 1.3],\n",
              "        [6.3, 3.3, 4.7, 1.6],\n",
              "        [4.9, 2.4, 3.3, 1. ],\n",
              "        [6.6, 2.9, 4.6, 1.3],\n",
              "        [5.2, 2.7, 3.9, 1.4],\n",
              "        [5. , 2. , 3.5, 1. ],\n",
              "        [5.9, 3. , 4.2, 1.5],\n",
              "        [6. , 2.2, 4. , 1. ],\n",
              "        [6.1, 2.9, 4.7, 1.4],\n",
              "        [5.6, 2.9, 3.6, 1.3],\n",
              "        [6.7, 3.1, 4.4, 1.4],\n",
              "        [5.6, 3. , 4.5, 1.5],\n",
              "        [5.8, 2.7, 4.1, 1. ],\n",
              "        [6.2, 2.2, 4.5, 1.5],\n",
              "        [5.6, 2.5, 3.9, 1.1],\n",
              "        [5.9, 3.2, 4.8, 1.8],\n",
              "        [6.1, 2.8, 4. , 1.3],\n",
              "        [6.3, 2.5, 4.9, 1.5],\n",
              "        [6.1, 2.8, 4.7, 1.2],\n",
              "        [6.4, 2.9, 4.3, 1.3],\n",
              "        [6.6, 3. , 4.4, 1.4],\n",
              "        [6.8, 2.8, 4.8, 1.4],\n",
              "        [6.7, 3. , 5. , 1.7],\n",
              "        [6. , 2.9, 4.5, 1.5],\n",
              "        [5.7, 2.6, 3.5, 1. ],\n",
              "        [5.5, 2.4, 3.8, 1.1],\n",
              "        [5.5, 2.4, 3.7, 1. ],\n",
              "        [5.8, 2.7, 3.9, 1.2],\n",
              "        [6. , 2.7, 5.1, 1.6],\n",
              "        [5.4, 3. , 4.5, 1.5],\n",
              "        [6. , 3.4, 4.5, 1.6],\n",
              "        [6.7, 3.1, 4.7, 1.5],\n",
              "        [6.3, 2.3, 4.4, 1.3],\n",
              "        [5.6, 3. , 4.1, 1.3],\n",
              "        [5.5, 2.5, 4. , 1.3],\n",
              "        [5.5, 2.6, 4.4, 1.2],\n",
              "        [6.1, 3. , 4.6, 1.4],\n",
              "        [5.8, 2.6, 4. , 1.2],\n",
              "        [5. , 2.3, 3.3, 1. ],\n",
              "        [5.6, 2.7, 4.2, 1.3],\n",
              "        [5.7, 3. , 4.2, 1.2],\n",
              "        [5.7, 2.9, 4.2, 1.3],\n",
              "        [6.2, 2.9, 4.3, 1.3],\n",
              "        [5.1, 2.5, 3. , 1.1],\n",
              "        [5.7, 2.8, 4.1, 1.3],\n",
              "        [6.3, 3.3, 6. , 2.5],\n",
              "        [5.8, 2.7, 5.1, 1.9],\n",
              "        [7.1, 3. , 5.9, 2.1],\n",
              "        [6.3, 2.9, 5.6, 1.8],\n",
              "        [6.5, 3. , 5.8, 2.2],\n",
              "        [7.6, 3. , 6.6, 2.1],\n",
              "        [4.9, 2.5, 4.5, 1.7],\n",
              "        [7.3, 2.9, 6.3, 1.8],\n",
              "        [6.7, 2.5, 5.8, 1.8],\n",
              "        [7.2, 3.6, 6.1, 2.5],\n",
              "        [6.5, 3.2, 5.1, 2. ],\n",
              "        [6.4, 2.7, 5.3, 1.9],\n",
              "        [6.8, 3. , 5.5, 2.1],\n",
              "        [5.7, 2.5, 5. , 2. ],\n",
              "        [5.8, 2.8, 5.1, 2.4],\n",
              "        [6.4, 3.2, 5.3, 2.3],\n",
              "        [6.5, 3. , 5.5, 1.8],\n",
              "        [7.7, 3.8, 6.7, 2.2],\n",
              "        [7.7, 2.6, 6.9, 2.3],\n",
              "        [6. , 2.2, 5. , 1.5],\n",
              "        [6.9, 3.2, 5.7, 2.3],\n",
              "        [5.6, 2.8, 4.9, 2. ],\n",
              "        [7.7, 2.8, 6.7, 2. ],\n",
              "        [6.3, 2.7, 4.9, 1.8],\n",
              "        [6.7, 3.3, 5.7, 2.1],\n",
              "        [7.2, 3.2, 6. , 1.8],\n",
              "        [6.2, 2.8, 4.8, 1.8],\n",
              "        [6.1, 3. , 4.9, 1.8],\n",
              "        [6.4, 2.8, 5.6, 2.1],\n",
              "        [7.2, 3. , 5.8, 1.6],\n",
              "        [7.4, 2.8, 6.1, 1.9],\n",
              "        [7.9, 3.8, 6.4, 2. ],\n",
              "        [6.4, 2.8, 5.6, 2.2],\n",
              "        [6.3, 2.8, 5.1, 1.5],\n",
              "        [6.1, 2.6, 5.6, 1.4],\n",
              "        [7.7, 3. , 6.1, 2.3],\n",
              "        [6.3, 3.4, 5.6, 2.4],\n",
              "        [6.4, 3.1, 5.5, 1.8],\n",
              "        [6. , 3. , 4.8, 1.8],\n",
              "        [6.9, 3.1, 5.4, 2.1],\n",
              "        [6.7, 3.1, 5.6, 2.4],\n",
              "        [6.9, 3.1, 5.1, 2.3],\n",
              "        [5.8, 2.7, 5.1, 1.9],\n",
              "        [6.8, 3.2, 5.9, 2.3],\n",
              "        [6.7, 3.3, 5.7, 2.5],\n",
              "        [6.7, 3. , 5.2, 2.3],\n",
              "        [6.3, 2.5, 5. , 1.9],\n",
              "        [6.5, 3. , 5.2, 2. ],\n",
              "        [6.2, 3.4, 5.4, 2.3],\n",
              "        [5.9, 3. , 5.1, 1.8]]),\n",
              " 'feature_names': ['sepal length (cm)',\n",
              "  'sepal width (cm)',\n",
              "  'petal length (cm)',\n",
              "  'petal width (cm)'],\n",
              " 'filename': '/usr/local/lib/python3.6/dist-packages/sklearn/datasets/data/iris.csv',\n",
              " 'target': array([0, 0, 0, 0, 0, 0, 0, 0, 0, 0, 0, 0, 0, 0, 0, 0, 0, 0, 0, 0, 0, 0,\n",
              "        0, 0, 0, 0, 0, 0, 0, 0, 0, 0, 0, 0, 0, 0, 0, 0, 0, 0, 0, 0, 0, 0,\n",
              "        0, 0, 0, 0, 0, 0, 1, 1, 1, 1, 1, 1, 1, 1, 1, 1, 1, 1, 1, 1, 1, 1,\n",
              "        1, 1, 1, 1, 1, 1, 1, 1, 1, 1, 1, 1, 1, 1, 1, 1, 1, 1, 1, 1, 1, 1,\n",
              "        1, 1, 1, 1, 1, 1, 1, 1, 1, 1, 1, 1, 2, 2, 2, 2, 2, 2, 2, 2, 2, 2,\n",
              "        2, 2, 2, 2, 2, 2, 2, 2, 2, 2, 2, 2, 2, 2, 2, 2, 2, 2, 2, 2, 2, 2,\n",
              "        2, 2, 2, 2, 2, 2, 2, 2, 2, 2, 2, 2, 2, 2, 2, 2, 2, 2]),\n",
              " 'target_names': array(['setosa', 'versicolor', 'virginica'], dtype='<U10')}"
            ]
          },
          "metadata": {
            "tags": []
          },
          "execution_count": 1
        }
      ]
    },
    {
      "cell_type": "code",
      "metadata": {
        "id": "tww9ALK2aol0",
        "colab_type": "code",
        "colab": {
          "base_uri": "https://localhost:8080/",
          "height": 402
        },
        "outputId": "d76f7bab-81e3-47ad-8a2d-063cbdba7886"
      },
      "source": [
        "# 데이터프레임형식으로 변환\n",
        "df=pd.DataFrame(data=df['data'],columns=df['feature_names'])\n",
        "df"
      ],
      "execution_count": 2,
      "outputs": [
        {
          "output_type": "execute_result",
          "data": {
            "text/html": [
              "<div>\n",
              "<style scoped>\n",
              "    .dataframe tbody tr th:only-of-type {\n",
              "        vertical-align: middle;\n",
              "    }\n",
              "\n",
              "    .dataframe tbody tr th {\n",
              "        vertical-align: top;\n",
              "    }\n",
              "\n",
              "    .dataframe thead th {\n",
              "        text-align: right;\n",
              "    }\n",
              "</style>\n",
              "<table border=\"1\" class=\"dataframe\">\n",
              "  <thead>\n",
              "    <tr style=\"text-align: right;\">\n",
              "      <th></th>\n",
              "      <th>sepal length (cm)</th>\n",
              "      <th>sepal width (cm)</th>\n",
              "      <th>petal length (cm)</th>\n",
              "      <th>petal width (cm)</th>\n",
              "    </tr>\n",
              "  </thead>\n",
              "  <tbody>\n",
              "    <tr>\n",
              "      <th>0</th>\n",
              "      <td>5.1</td>\n",
              "      <td>3.5</td>\n",
              "      <td>1.4</td>\n",
              "      <td>0.2</td>\n",
              "    </tr>\n",
              "    <tr>\n",
              "      <th>1</th>\n",
              "      <td>4.9</td>\n",
              "      <td>3.0</td>\n",
              "      <td>1.4</td>\n",
              "      <td>0.2</td>\n",
              "    </tr>\n",
              "    <tr>\n",
              "      <th>2</th>\n",
              "      <td>4.7</td>\n",
              "      <td>3.2</td>\n",
              "      <td>1.3</td>\n",
              "      <td>0.2</td>\n",
              "    </tr>\n",
              "    <tr>\n",
              "      <th>3</th>\n",
              "      <td>4.6</td>\n",
              "      <td>3.1</td>\n",
              "      <td>1.5</td>\n",
              "      <td>0.2</td>\n",
              "    </tr>\n",
              "    <tr>\n",
              "      <th>4</th>\n",
              "      <td>5.0</td>\n",
              "      <td>3.6</td>\n",
              "      <td>1.4</td>\n",
              "      <td>0.2</td>\n",
              "    </tr>\n",
              "    <tr>\n",
              "      <th>...</th>\n",
              "      <td>...</td>\n",
              "      <td>...</td>\n",
              "      <td>...</td>\n",
              "      <td>...</td>\n",
              "    </tr>\n",
              "    <tr>\n",
              "      <th>145</th>\n",
              "      <td>6.7</td>\n",
              "      <td>3.0</td>\n",
              "      <td>5.2</td>\n",
              "      <td>2.3</td>\n",
              "    </tr>\n",
              "    <tr>\n",
              "      <th>146</th>\n",
              "      <td>6.3</td>\n",
              "      <td>2.5</td>\n",
              "      <td>5.0</td>\n",
              "      <td>1.9</td>\n",
              "    </tr>\n",
              "    <tr>\n",
              "      <th>147</th>\n",
              "      <td>6.5</td>\n",
              "      <td>3.0</td>\n",
              "      <td>5.2</td>\n",
              "      <td>2.0</td>\n",
              "    </tr>\n",
              "    <tr>\n",
              "      <th>148</th>\n",
              "      <td>6.2</td>\n",
              "      <td>3.4</td>\n",
              "      <td>5.4</td>\n",
              "      <td>2.3</td>\n",
              "    </tr>\n",
              "    <tr>\n",
              "      <th>149</th>\n",
              "      <td>5.9</td>\n",
              "      <td>3.0</td>\n",
              "      <td>5.1</td>\n",
              "      <td>1.8</td>\n",
              "    </tr>\n",
              "  </tbody>\n",
              "</table>\n",
              "<p>150 rows × 4 columns</p>\n",
              "</div>"
            ],
            "text/plain": [
              "     sepal length (cm)  sepal width (cm)  petal length (cm)  petal width (cm)\n",
              "0                  5.1               3.5                1.4               0.2\n",
              "1                  4.9               3.0                1.4               0.2\n",
              "2                  4.7               3.2                1.3               0.2\n",
              "3                  4.6               3.1                1.5               0.2\n",
              "4                  5.0               3.6                1.4               0.2\n",
              "..                 ...               ...                ...               ...\n",
              "145                6.7               3.0                5.2               2.3\n",
              "146                6.3               2.5                5.0               1.9\n",
              "147                6.5               3.0                5.2               2.0\n",
              "148                6.2               3.4                5.4               2.3\n",
              "149                5.9               3.0                5.1               1.8\n",
              "\n",
              "[150 rows x 4 columns]"
            ]
          },
          "metadata": {
            "tags": []
          },
          "execution_count": 2
        }
      ]
    },
    {
      "cell_type": "code",
      "metadata": {
        "id": "lYQYBRBfi2Ml",
        "colab_type": "code",
        "colab": {
          "base_uri": "https://localhost:8080/",
          "height": 34
        },
        "outputId": "5d74b017-45f1-4b4d-9fb8-b03abe5cbe78"
      },
      "source": [
        "#150 x 4라는 아주 작은 데이터셋 \n",
        "#x는 모든행을 불러오고 마지막 petal width를 제외하고 불러오고, y는 모든행을 가진 petal width열만\n",
        "x,y=df.values[:,:-1],df.values[:,-1:]\n",
        "x.shape, y.shape"
      ],
      "execution_count": 3,
      "outputs": [
        {
          "output_type": "execute_result",
          "data": {
            "text/plain": [
              "((150, 3), (150, 1))"
            ]
          },
          "metadata": {
            "tags": []
          },
          "execution_count": 3
        }
      ]
    },
    {
      "cell_type": "markdown",
      "metadata": {
        "id": "6xJNiJZZd5M5",
        "colab_type": "text"
      },
      "source": [
        "커스텀 데이터셋 만들기"
      ]
    },
    {
      "cell_type": "code",
      "metadata": {
        "id": "Mk5g_gGPdD-U",
        "colab_type": "code",
        "colab": {}
      },
      "source": [
        "#필요한 라이브러리 불러오기 \n",
        "\n",
        "import torch\n",
        "import torch.nn as nn\n",
        "import torch.nn.functional as F\n",
        "import torch.optim as optim\n",
        "\n",
        "from torch.utils.data import Dataset\n",
        "from torch.utils.data import DataLoader"
      ],
      "execution_count": 0,
      "outputs": []
    },
    {
      "cell_type": "code",
      "metadata": {
        "id": "AtsExa22dIHn",
        "colab_type": "code",
        "colab": {}
      },
      "source": [
        "class Iris():\n",
        "    def __init__(self):\n",
        "        self.x_data = torch.FloatTensor(x)\n",
        "        self.y_data = torch.FloatTensor(y)\n",
        "    \n",
        "    def __len__(self):\n",
        "        return len(self.x_data)\n",
        "  \n",
        "    def __getitem__(self, idx):\n",
        "        x = self.x_data[idx]\n",
        "        y = self.y_data[idx]\n",
        "        return x, y"
      ],
      "execution_count": 0,
      "outputs": []
    },
    {
      "cell_type": "code",
      "metadata": {
        "id": "uqOAbLTGdIJz",
        "colab_type": "code",
        "colab": {}
      },
      "source": [
        "dataset=Iris()\n",
        "dataloader=DataLoader(dataset,batch_size=len(dataset),shuffle=True) "
      ],
      "execution_count": 0,
      "outputs": []
    },
    {
      "cell_type": "code",
      "metadata": {
        "id": "p8Kpx9gpdIMA",
        "colab_type": "code",
        "colab": {
          "base_uri": "https://localhost:8080/",
          "height": 34
        },
        "outputId": "399c03b0-44b3-4329-8f9b-4f6d100823a8"
      },
      "source": [
        "dataset.__getitem__(0) , dataset.__len__()  #총 샘플의수 150개 0번째 샘플의 x는 5.1,3.5,1.4 y는 0.2"
      ],
      "execution_count": 7,
      "outputs": [
        {
          "output_type": "execute_result",
          "data": {
            "text/plain": [
              "((tensor([5.1000, 3.5000, 1.4000]), tensor([0.2000])), 150)"
            ]
          },
          "metadata": {
            "tags": []
          },
          "execution_count": 7
        }
      ]
    },
    {
      "cell_type": "code",
      "metadata": {
        "id": "538KEuXVdIPE",
        "colab_type": "code",
        "colab": {}
      },
      "source": [
        "model = nn.Linear(3,1)      #input 3 ouput 1\n",
        "optimizer = optim.SGD(model.parameters(), lr=0.01)"
      ],
      "execution_count": 0,
      "outputs": []
    },
    {
      "cell_type": "code",
      "metadata": {
        "id": "Q56QuH0_lvFN",
        "colab_type": "code",
        "colab": {
          "base_uri": "https://localhost:8080/",
          "height": 1000
        },
        "outputId": "38096cae-8fdc-476c-e707-5266b1ed20a8"
      },
      "source": [
        "nb_epochs=100\n",
        "train_losses=[]\n",
        "for epoch in range(nb_epochs+1):\n",
        "    for batch_idx, samples in enumerate(dataloader):\n",
        "        x_train, y_train = samples\n",
        "        \n",
        "\n",
        "        prediction = model(x_train)\n",
        "        cost = F.mse_loss(prediction, y_train)\n",
        "\n",
        "\n",
        "\n",
        "        optimizer.zero_grad()\n",
        "        cost.backward()\n",
        "        optimizer.step()\n",
        "        train_losses.append(cost.item())\n",
        "\n",
        "        print('Epoch {:4d}/{} Batch {}/{} Cost: {:.6f}'.format(\n",
        "        epoch, nb_epochs, batch_idx+1, len(dataloader),\n",
        "        cost.item()\n",
        "        ))\n",
        "\n"
      ],
      "execution_count": 9,
      "outputs": [
        {
          "output_type": "stream",
          "text": [
            "Epoch    0/100 Batch 1/1 Cost: 6.888920\n",
            "Epoch    1/100 Batch 1/1 Cost: 1.071438\n",
            "Epoch    2/100 Batch 1/1 Cost: 0.755789\n",
            "Epoch    3/100 Batch 1/1 Cost: 0.692778\n",
            "Epoch    4/100 Batch 1/1 Cost: 0.644784\n",
            "Epoch    5/100 Batch 1/1 Cost: 0.600796\n",
            "Epoch    6/100 Batch 1/1 Cost: 0.560072\n",
            "Epoch    7/100 Batch 1/1 Cost: 0.522350\n",
            "Epoch    8/100 Batch 1/1 Cost: 0.487409\n",
            "Epoch    9/100 Batch 1/1 Cost: 0.455043\n",
            "Epoch   10/100 Batch 1/1 Cost: 0.425063\n",
            "Epoch   11/100 Batch 1/1 Cost: 0.397291\n",
            "Epoch   12/100 Batch 1/1 Cost: 0.371566\n",
            "Epoch   13/100 Batch 1/1 Cost: 0.347737\n",
            "Epoch   14/100 Batch 1/1 Cost: 0.325662\n",
            "Epoch   15/100 Batch 1/1 Cost: 0.305214\n",
            "Epoch   16/100 Batch 1/1 Cost: 0.286272\n",
            "Epoch   17/100 Batch 1/1 Cost: 0.268725\n",
            "Epoch   18/100 Batch 1/1 Cost: 0.252471\n",
            "Epoch   19/100 Batch 1/1 Cost: 0.237413\n",
            "Epoch   20/100 Batch 1/1 Cost: 0.223463\n",
            "Epoch   21/100 Batch 1/1 Cost: 0.210541\n",
            "Epoch   22/100 Batch 1/1 Cost: 0.198569\n",
            "Epoch   23/100 Batch 1/1 Cost: 0.187479\n",
            "Epoch   24/100 Batch 1/1 Cost: 0.177204\n",
            "Epoch   25/100 Batch 1/1 Cost: 0.167685\n",
            "Epoch   26/100 Batch 1/1 Cost: 0.158866\n",
            "Epoch   27/100 Batch 1/1 Cost: 0.150695\n",
            "Epoch   28/100 Batch 1/1 Cost: 0.143125\n",
            "Epoch   29/100 Batch 1/1 Cost: 0.136111\n",
            "Epoch   30/100 Batch 1/1 Cost: 0.129613\n",
            "Epoch   31/100 Batch 1/1 Cost: 0.123591\n",
            "Epoch   32/100 Batch 1/1 Cost: 0.118012\n",
            "Epoch   33/100 Batch 1/1 Cost: 0.112842\n",
            "Epoch   34/100 Batch 1/1 Cost: 0.108052\n",
            "Epoch   35/100 Batch 1/1 Cost: 0.103612\n",
            "Epoch   36/100 Batch 1/1 Cost: 0.099498\n",
            "Epoch   37/100 Batch 1/1 Cost: 0.095685\n",
            "Epoch   38/100 Batch 1/1 Cost: 0.092152\n",
            "Epoch   39/100 Batch 1/1 Cost: 0.088877\n",
            "Epoch   40/100 Batch 1/1 Cost: 0.085841\n",
            "Epoch   41/100 Batch 1/1 Cost: 0.083028\n",
            "Epoch   42/100 Batch 1/1 Cost: 0.080419\n",
            "Epoch   43/100 Batch 1/1 Cost: 0.078001\n",
            "Epoch   44/100 Batch 1/1 Cost: 0.075760\n",
            "Epoch   45/100 Batch 1/1 Cost: 0.073681\n",
            "Epoch   46/100 Batch 1/1 Cost: 0.071754\n",
            "Epoch   47/100 Batch 1/1 Cost: 0.069967\n",
            "Epoch   48/100 Batch 1/1 Cost: 0.068310\n",
            "Epoch   49/100 Batch 1/1 Cost: 0.066773\n",
            "Epoch   50/100 Batch 1/1 Cost: 0.065347\n",
            "Epoch   51/100 Batch 1/1 Cost: 0.064025\n",
            "Epoch   52/100 Batch 1/1 Cost: 0.062798\n",
            "Epoch   53/100 Batch 1/1 Cost: 0.061659\n",
            "Epoch   54/100 Batch 1/1 Cost: 0.060603\n",
            "Epoch   55/100 Batch 1/1 Cost: 0.059622\n",
            "Epoch   56/100 Batch 1/1 Cost: 0.058711\n",
            "Epoch   57/100 Batch 1/1 Cost: 0.057866\n",
            "Epoch   58/100 Batch 1/1 Cost: 0.057081\n",
            "Epoch   59/100 Batch 1/1 Cost: 0.056352\n",
            "Epoch   60/100 Batch 1/1 Cost: 0.055675\n",
            "Epoch   61/100 Batch 1/1 Cost: 0.055046\n",
            "Epoch   62/100 Batch 1/1 Cost: 0.054461\n",
            "Epoch   63/100 Batch 1/1 Cost: 0.053917\n",
            "Epoch   64/100 Batch 1/1 Cost: 0.053412\n",
            "Epoch   65/100 Batch 1/1 Cost: 0.052942\n",
            "Epoch   66/100 Batch 1/1 Cost: 0.052504\n",
            "Epoch   67/100 Batch 1/1 Cost: 0.052097\n",
            "Epoch   68/100 Batch 1/1 Cost: 0.051718\n",
            "Epoch   69/100 Batch 1/1 Cost: 0.051365\n",
            "Epoch   70/100 Batch 1/1 Cost: 0.051036\n",
            "Epoch   71/100 Batch 1/1 Cost: 0.050729\n",
            "Epoch   72/100 Batch 1/1 Cost: 0.050443\n",
            "Epoch   73/100 Batch 1/1 Cost: 0.050176\n",
            "Epoch   74/100 Batch 1/1 Cost: 0.049927\n",
            "Epoch   75/100 Batch 1/1 Cost: 0.049694\n",
            "Epoch   76/100 Batch 1/1 Cost: 0.049477\n",
            "Epoch   77/100 Batch 1/1 Cost: 0.049274\n",
            "Epoch   78/100 Batch 1/1 Cost: 0.049084\n",
            "Epoch   79/100 Batch 1/1 Cost: 0.048906\n",
            "Epoch   80/100 Batch 1/1 Cost: 0.048739\n",
            "Epoch   81/100 Batch 1/1 Cost: 0.048582\n",
            "Epoch   82/100 Batch 1/1 Cost: 0.048436\n",
            "Epoch   83/100 Batch 1/1 Cost: 0.048298\n",
            "Epoch   84/100 Batch 1/1 Cost: 0.048168\n",
            "Epoch   85/100 Batch 1/1 Cost: 0.048046\n",
            "Epoch   86/100 Batch 1/1 Cost: 0.047932\n",
            "Epoch   87/100 Batch 1/1 Cost: 0.047823\n",
            "Epoch   88/100 Batch 1/1 Cost: 0.047721\n",
            "Epoch   89/100 Batch 1/1 Cost: 0.047625\n",
            "Epoch   90/100 Batch 1/1 Cost: 0.047534\n",
            "Epoch   91/100 Batch 1/1 Cost: 0.047448\n",
            "Epoch   92/100 Batch 1/1 Cost: 0.047366\n",
            "Epoch   93/100 Batch 1/1 Cost: 0.047288\n",
            "Epoch   94/100 Batch 1/1 Cost: 0.047215\n",
            "Epoch   95/100 Batch 1/1 Cost: 0.047145\n",
            "Epoch   96/100 Batch 1/1 Cost: 0.047078\n",
            "Epoch   97/100 Batch 1/1 Cost: 0.047014\n",
            "Epoch   98/100 Batch 1/1 Cost: 0.046953\n",
            "Epoch   99/100 Batch 1/1 Cost: 0.046895\n",
            "Epoch  100/100 Batch 1/1 Cost: 0.046840\n"
          ],
          "name": "stdout"
        }
      ]
    },
    {
      "cell_type": "code",
      "metadata": {
        "id": "W0nKBuTIoqXN",
        "colab_type": "code",
        "colab": {
          "base_uri": "https://localhost:8080/",
          "height": 265
        },
        "outputId": "e54642ab-1983-4dfa-adfb-b260e9a9bdc7"
      },
      "source": [
        "#epoch에 따른 train_losses 변화\n",
        "\n",
        "import matplotlib.pyplot as plt\n",
        "\n",
        "plt.plot(train_losses)\n",
        "plt.show()"
      ],
      "execution_count": 10,
      "outputs": [
        {
          "output_type": "display_data",
          "data": {
            "image/png": "[encoded data removed]",
            "text/plain": [
              "<Figure size 432x288 with 1 Axes>"
            ]
          },
          "metadata": {
            "tags": [],
            "needs_background": "light"
          }
        }
      ]
    },
    {
      "cell_type": "code",
      "metadata": {
        "id": "600hnnZQpLr7",
        "colab_type": "code",
        "colab": {
          "base_uri": "https://localhost:8080/",
          "height": 34
        },
        "outputId": "e42cd916-2a65-4228-b384-aff8e86e0519"
      },
      "source": [
        "new_var=torch.FloatTensor([[6.9,2.0,7.1]]) \n",
        "pred_y=model(new_var)\n",
        "\n",
        "print('훈련 후 입력이 6.9, 2.0, 7.1 일때의 예측값: ',pred_y)"
      ],
      "execution_count": 11,
      "outputs": [
        {
          "output_type": "stream",
          "text": [
            "훈련 후 입력이 6.9, 2.0, 7.1 일때의 예측값:  tensor([[2.5981]], grad_fn=<AddmmBackward>)\n"
          ],
          "name": "stdout"
        }
      ]
    },
    {
      "cell_type": "code",
      "metadata": {
        "id": "24xFjt1xrcGb",
        "colab_type": "code",
        "colab": {}
      },
      "source": [
        ""
      ],
      "execution_count": 0,
      "outputs": []
    }
  ]
}