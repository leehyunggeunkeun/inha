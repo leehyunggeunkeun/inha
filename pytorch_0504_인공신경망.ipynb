{
  "nbformat": 4,
  "nbformat_minor": 0,
  "metadata": {
    "colab": {
      "name": "pytorch_0504_인공신경망.ipynb",
      "provenance": [],
      "authorship_tag": "ABX9TyNaQ9WYO6bqU6pupGJGi+LA",
      "include_colab_link": true
    },
    "kernelspec": {
      "name": "python3",
      "display_name": "Python 3"
    },
    "accelerator": "GPU",
    "widgets": {
      "application/vnd.jupyter.widget-state+json": {
        "433820f9945c4a6b8ec7caffc331318a": {
          "model_module": "@jupyter-widgets/controls",
          "model_name": "HBoxModel",
          "state": {
            "_view_name": "HBoxView",
            "_dom_classes": [],
            "_model_name": "HBoxModel",
            "_view_module": "@jupyter-widgets/controls",
            "_model_module_version": "1.5.0",
            "_view_count": null,
            "_view_module_version": "1.5.0",
            "box_style": "",
            "layout": "IPY_MODEL_a939dca9d0644d89afc789dd97f87b8d",
            "_model_module": "@jupyter-widgets/controls",
            "children": [
              "IPY_MODEL_c4f3b0b37ceb4a5f8d5bd5ff25f44651",
              "IPY_MODEL_d02209fcae6c4ae38066bcb5a0f777e3"
            ]
          }
        },
        "a939dca9d0644d89afc789dd97f87b8d": {
          "model_module": "@jupyter-widgets/base",
          "model_name": "LayoutModel",
          "state": {
            "_view_name": "LayoutView",
            "grid_template_rows": null,
            "right": null,
            "justify_content": null,
            "_view_module": "@jupyter-widgets/base",
            "overflow": null,
            "_model_module_version": "1.2.0",
            "_view_count": null,
            "flex_flow": null,
            "width": null,
            "min_width": null,
            "border": null,
            "align_items": null,
            "bottom": null,
            "_model_module": "@jupyter-widgets/base",
            "top": null,
            "grid_column": null,
            "overflow_y": null,
            "overflow_x": null,
            "grid_auto_flow": null,
            "grid_area": null,
            "grid_template_columns": null,
            "flex": null,
            "_model_name": "LayoutModel",
            "justify_items": null,
            "grid_row": null,
            "max_height": null,
            "align_content": null,
            "visibility": null,
            "align_self": null,
            "height": null,
            "min_height": null,
            "padding": null,
            "grid_auto_rows": null,
            "grid_gap": null,
            "max_width": null,
            "order": null,
            "_view_module_version": "1.2.0",
            "grid_template_areas": null,
            "object_position": null,
            "object_fit": null,
            "grid_auto_columns": null,
            "margin": null,
            "display": null,
            "left": null
          }
        },
        "c4f3b0b37ceb4a5f8d5bd5ff25f44651": {
          "model_module": "@jupyter-widgets/controls",
          "model_name": "IntProgressModel",
          "state": {
            "_view_name": "ProgressView",
            "style": "IPY_MODEL_d345ae1c4c5a4020a34f35c1c1459412",
            "_dom_classes": [],
            "description": "",
            "_model_name": "IntProgressModel",
            "bar_style": "info",
            "max": 1,
            "_view_module": "@jupyter-widgets/controls",
            "_model_module_version": "1.5.0",
            "value": 1,
            "_view_count": null,
            "_view_module_version": "1.5.0",
            "orientation": "horizontal",
            "min": 0,
            "description_tooltip": null,
            "_model_module": "@jupyter-widgets/controls",
            "layout": "IPY_MODEL_6ef69fb952494e27a2d2a1f01fec0a9b"
          }
        },
        "d02209fcae6c4ae38066bcb5a0f777e3": {
          "model_module": "@jupyter-widgets/controls",
          "model_name": "HTMLModel",
          "state": {
            "_view_name": "HTMLView",
            "style": "IPY_MODEL_627d1cceade443048fe8234f67106cfc",
            "_dom_classes": [],
            "description": "",
            "_model_name": "HTMLModel",
            "placeholder": "​",
            "_view_module": "@jupyter-widgets/controls",
            "_model_module_version": "1.5.0",
            "value": " 26427392/? [00:20&lt;00:00, 76148370.95it/s]",
            "_view_count": null,
            "_view_module_version": "1.5.0",
            "description_tooltip": null,
            "_model_module": "@jupyter-widgets/controls",
            "layout": "IPY_MODEL_06de5118431d441893cb295c9fe4e013"
          }
        },
        "d345ae1c4c5a4020a34f35c1c1459412": {
          "model_module": "@jupyter-widgets/controls",
          "model_name": "ProgressStyleModel",
          "state": {
            "_view_name": "StyleView",
            "_model_name": "ProgressStyleModel",
            "description_width": "initial",
            "_view_module": "@jupyter-widgets/base",
            "_model_module_version": "1.5.0",
            "_view_count": null,
            "_view_module_version": "1.2.0",
            "bar_color": null,
            "_model_module": "@jupyter-widgets/controls"
          }
        },
        "6ef69fb952494e27a2d2a1f01fec0a9b": {
          "model_module": "@jupyter-widgets/base",
          "model_name": "LayoutModel",
          "state": {
            "_view_name": "LayoutView",
            "grid_template_rows": null,
            "right": null,
            "justify_content": null,
            "_view_module": "@jupyter-widgets/base",
            "overflow": null,
            "_model_module_version": "1.2.0",
            "_view_count": null,
            "flex_flow": null,
            "width": null,
            "min_width": null,
            "border": null,
            "align_items": null,
            "bottom": null,
            "_model_module": "@jupyter-widgets/base",
            "top": null,
            "grid_column": null,
            "overflow_y": null,
            "overflow_x": null,
            "grid_auto_flow": null,
            "grid_area": null,
            "grid_template_columns": null,
            "flex": null,
            "_model_name": "LayoutModel",
            "justify_items": null,
            "grid_row": null,
            "max_height": null,
            "align_content": null,
            "visibility": null,
            "align_self": null,
            "height": null,
            "min_height": null,
            "padding": null,
            "grid_auto_rows": null,
            "grid_gap": null,
            "max_width": null,
            "order": null,
            "_view_module_version": "1.2.0",
            "grid_template_areas": null,
            "object_position": null,
            "object_fit": null,
            "grid_auto_columns": null,
            "margin": null,
            "display": null,
            "left": null
          }
        },
        "627d1cceade443048fe8234f67106cfc": {
          "model_module": "@jupyter-widgets/controls",
          "model_name": "DescriptionStyleModel",
          "state": {
            "_view_name": "StyleView",
            "_model_name": "DescriptionStyleModel",
            "description_width": "",
            "_view_module": "@jupyter-widgets/base",
            "_model_module_version": "1.5.0",
            "_view_count": null,
            "_view_module_version": "1.2.0",
            "_model_module": "@jupyter-widgets/controls"
          }
        },
        "06de5118431d441893cb295c9fe4e013": {
          "model_module": "@jupyter-widgets/base",
          "model_name": "LayoutModel",
          "state": {
            "_view_name": "LayoutView",
            "grid_template_rows": null,
            "right": null,
            "justify_content": null,
            "_view_module": "@jupyter-widgets/base",
            "overflow": null,
            "_model_module_version": "1.2.0",
            "_view_count": null,
            "flex_flow": null,
            "width": null,
            "min_width": null,
            "border": null,
            "align_items": null,
            "bottom": null,
            "_model_module": "@jupyter-widgets/base",
            "top": null,
            "grid_column": null,
            "overflow_y": null,
            "overflow_x": null,
            "grid_auto_flow": null,
            "grid_area": null,
            "grid_template_columns": null,
            "flex": null,
            "_model_name": "LayoutModel",
            "justify_items": null,
            "grid_row": null,
            "max_height": null,
            "align_content": null,
            "visibility": null,
            "align_self": null,
            "height": null,
            "min_height": null,
            "padding": null,
            "grid_auto_rows": null,
            "grid_gap": null,
            "max_width": null,
            "order": null,
            "_view_module_version": "1.2.0",
            "grid_template_areas": null,
            "object_position": null,
            "object_fit": null,
            "grid_auto_columns": null,
            "margin": null,
            "display": null,
            "left": null
          }
        },
        "12240d9bb0a7418ebb21599eea6d0fb5": {
          "model_module": "@jupyter-widgets/controls",
          "model_name": "HBoxModel",
          "state": {
            "_view_name": "HBoxView",
            "_dom_classes": [],
            "_model_name": "HBoxModel",
            "_view_module": "@jupyter-widgets/controls",
            "_model_module_version": "1.5.0",
            "_view_count": null,
            "_view_module_version": "1.5.0",
            "box_style": "",
            "layout": "IPY_MODEL_48f38197c97b46b69cca33f7b78c0518",
            "_model_module": "@jupyter-widgets/controls",
            "children": [
              "IPY_MODEL_77d4b4d377ab4d21a985489082cc04e9",
              "IPY_MODEL_79133bbef1094234b1f7b7986ec270b5"
            ]
          }
        },
        "48f38197c97b46b69cca33f7b78c0518": {
          "model_module": "@jupyter-widgets/base",
          "model_name": "LayoutModel",
          "state": {
            "_view_name": "LayoutView",
            "grid_template_rows": null,
            "right": null,
            "justify_content": null,
            "_view_module": "@jupyter-widgets/base",
            "overflow": null,
            "_model_module_version": "1.2.0",
            "_view_count": null,
            "flex_flow": null,
            "width": null,
            "min_width": null,
            "border": null,
            "align_items": null,
            "bottom": null,
            "_model_module": "@jupyter-widgets/base",
            "top": null,
            "grid_column": null,
            "overflow_y": null,
            "overflow_x": null,
            "grid_auto_flow": null,
            "grid_area": null,
            "grid_template_columns": null,
            "flex": null,
            "_model_name": "LayoutModel",
            "justify_items": null,
            "grid_row": null,
            "max_height": null,
            "align_content": null,
            "visibility": null,
            "align_self": null,
            "height": null,
            "min_height": null,
            "padding": null,
            "grid_auto_rows": null,
            "grid_gap": null,
            "max_width": null,
            "order": null,
            "_view_module_version": "1.2.0",
            "grid_template_areas": null,
            "object_position": null,
            "object_fit": null,
            "grid_auto_columns": null,
            "margin": null,
            "display": null,
            "left": null
          }
        },
        "77d4b4d377ab4d21a985489082cc04e9": {
          "model_module": "@jupyter-widgets/controls",
          "model_name": "IntProgressModel",
          "state": {
            "_view_name": "ProgressView",
            "style": "IPY_MODEL_9b3cd94b5aa040aabf32f64a4b79d49e",
            "_dom_classes": [],
            "description": "",
            "_model_name": "IntProgressModel",
            "bar_style": "success",
            "max": 1,
            "_view_module": "@jupyter-widgets/controls",
            "_model_module_version": "1.5.0",
            "value": 1,
            "_view_count": null,
            "_view_module_version": "1.5.0",
            "orientation": "horizontal",
            "min": 0,
            "description_tooltip": null,
            "_model_module": "@jupyter-widgets/controls",
            "layout": "IPY_MODEL_57d8d84dfc0c44ed8ccb588ea1f84bab"
          }
        },
        "79133bbef1094234b1f7b7986ec270b5": {
          "model_module": "@jupyter-widgets/controls",
          "model_name": "HTMLModel",
          "state": {
            "_view_name": "HTMLView",
            "style": "IPY_MODEL_517384e30592453b975f64f32a06ef23",
            "_dom_classes": [],
            "description": "",
            "_model_name": "HTMLModel",
            "placeholder": "​",
            "_view_module": "@jupyter-widgets/controls",
            "_model_module_version": "1.5.0",
            "value": " 32768/? [00:00&lt;00:00, 317496.03it/s]",
            "_view_count": null,
            "_view_module_version": "1.5.0",
            "description_tooltip": null,
            "_model_module": "@jupyter-widgets/controls",
            "layout": "IPY_MODEL_f66903b8bf4f46cfabf1d5e5e7589405"
          }
        },
        "9b3cd94b5aa040aabf32f64a4b79d49e": {
          "model_module": "@jupyter-widgets/controls",
          "model_name": "ProgressStyleModel",
          "state": {
            "_view_name": "StyleView",
            "_model_name": "ProgressStyleModel",
            "description_width": "initial",
            "_view_module": "@jupyter-widgets/base",
            "_model_module_version": "1.5.0",
            "_view_count": null,
            "_view_module_version": "1.2.0",
            "bar_color": null,
            "_model_module": "@jupyter-widgets/controls"
          }
        },
        "57d8d84dfc0c44ed8ccb588ea1f84bab": {
          "model_module": "@jupyter-widgets/base",
          "model_name": "LayoutModel",
          "state": {
            "_view_name": "LayoutView",
            "grid_template_rows": null,
            "right": null,
            "justify_content": null,
            "_view_module": "@jupyter-widgets/base",
            "overflow": null,
            "_model_module_version": "1.2.0",
            "_view_count": null,
            "flex_flow": null,
            "width": null,
            "min_width": null,
            "border": null,
            "align_items": null,
            "bottom": null,
            "_model_module": "@jupyter-widgets/base",
            "top": null,
            "grid_column": null,
            "overflow_y": null,
            "overflow_x": null,
            "grid_auto_flow": null,
            "grid_area": null,
            "grid_template_columns": null,
            "flex": null,
            "_model_name": "LayoutModel",
            "justify_items": null,
            "grid_row": null,
            "max_height": null,
            "align_content": null,
            "visibility": null,
            "align_self": null,
            "height": null,
            "min_height": null,
            "padding": null,
            "grid_auto_rows": null,
            "grid_gap": null,
            "max_width": null,
            "order": null,
            "_view_module_version": "1.2.0",
            "grid_template_areas": null,
            "object_position": null,
            "object_fit": null,
            "grid_auto_columns": null,
            "margin": null,
            "display": null,
            "left": null
          }
        },
        "517384e30592453b975f64f32a06ef23": {
          "model_module": "@jupyter-widgets/controls",
          "model_name": "DescriptionStyleModel",
          "state": {
            "_view_name": "StyleView",
            "_model_name": "DescriptionStyleModel",
            "description_width": "",
            "_view_module": "@jupyter-widgets/base",
            "_model_module_version": "1.5.0",
            "_view_count": null,
            "_view_module_version": "1.2.0",
            "_model_module": "@jupyter-widgets/controls"
          }
        },
        "f66903b8bf4f46cfabf1d5e5e7589405": {
          "model_module": "@jupyter-widgets/base",
          "model_name": "LayoutModel",
          "state": {
            "_view_name": "LayoutView",
            "grid_template_rows": null,
            "right": null,
            "justify_content": null,
            "_view_module": "@jupyter-widgets/base",
            "overflow": null,
            "_model_module_version": "1.2.0",
            "_view_count": null,
            "flex_flow": null,
            "width": null,
            "min_width": null,
            "border": null,
            "align_items": null,
            "bottom": null,
            "_model_module": "@jupyter-widgets/base",
            "top": null,
            "grid_column": null,
            "overflow_y": null,
            "overflow_x": null,
            "grid_auto_flow": null,
            "grid_area": null,
            "grid_template_columns": null,
            "flex": null,
            "_model_name": "LayoutModel",
            "justify_items": null,
            "grid_row": null,
            "max_height": null,
            "align_content": null,
            "visibility": null,
            "align_self": null,
            "height": null,
            "min_height": null,
            "padding": null,
            "grid_auto_rows": null,
            "grid_gap": null,
            "max_width": null,
            "order": null,
            "_view_module_version": "1.2.0",
            "grid_template_areas": null,
            "object_position": null,
            "object_fit": null,
            "grid_auto_columns": null,
            "margin": null,
            "display": null,
            "left": null
          }
        },
        "966aebc34f8f4b30af80737fd52eb3e7": {
          "model_module": "@jupyter-widgets/controls",
          "model_name": "HBoxModel",
          "state": {
            "_view_name": "HBoxView",
            "_dom_classes": [],
            "_model_name": "HBoxModel",
            "_view_module": "@jupyter-widgets/controls",
            "_model_module_version": "1.5.0",
            "_view_count": null,
            "_view_module_version": "1.5.0",
            "box_style": "",
            "layout": "IPY_MODEL_4d78b9119a8e4981839a29e837ccb445",
            "_model_module": "@jupyter-widgets/controls",
            "children": [
              "IPY_MODEL_14ca4cba89a04d7399fdc865d9a9ca25",
              "IPY_MODEL_760d056b419540aa966ac646472ab204"
            ]
          }
        },
        "4d78b9119a8e4981839a29e837ccb445": {
          "model_module": "@jupyter-widgets/base",
          "model_name": "LayoutModel",
          "state": {
            "_view_name": "LayoutView",
            "grid_template_rows": null,
            "right": null,
            "justify_content": null,
            "_view_module": "@jupyter-widgets/base",
            "overflow": null,
            "_model_module_version": "1.2.0",
            "_view_count": null,
            "flex_flow": null,
            "width": null,
            "min_width": null,
            "border": null,
            "align_items": null,
            "bottom": null,
            "_model_module": "@jupyter-widgets/base",
            "top": null,
            "grid_column": null,
            "overflow_y": null,
            "overflow_x": null,
            "grid_auto_flow": null,
            "grid_area": null,
            "grid_template_columns": null,
            "flex": null,
            "_model_name": "LayoutModel",
            "justify_items": null,
            "grid_row": null,
            "max_height": null,
            "align_content": null,
            "visibility": null,
            "align_self": null,
            "height": null,
            "min_height": null,
            "padding": null,
            "grid_auto_rows": null,
            "grid_gap": null,
            "max_width": null,
            "order": null,
            "_view_module_version": "1.2.0",
            "grid_template_areas": null,
            "object_position": null,
            "object_fit": null,
            "grid_auto_columns": null,
            "margin": null,
            "display": null,
            "left": null
          }
        },
        "14ca4cba89a04d7399fdc865d9a9ca25": {
          "model_module": "@jupyter-widgets/controls",
          "model_name": "IntProgressModel",
          "state": {
            "_view_name": "ProgressView",
            "style": "IPY_MODEL_cb9499862aa54c259bc5a8a50582d5b4",
            "_dom_classes": [],
            "description": "",
            "_model_name": "IntProgressModel",
            "bar_style": "info",
            "max": 1,
            "_view_module": "@jupyter-widgets/controls",
            "_model_module_version": "1.5.0",
            "value": 1,
            "_view_count": null,
            "_view_module_version": "1.5.0",
            "orientation": "horizontal",
            "min": 0,
            "description_tooltip": null,
            "_model_module": "@jupyter-widgets/controls",
            "layout": "IPY_MODEL_c06b853e10e14d75976adcf7512ef9fa"
          }
        },
        "760d056b419540aa966ac646472ab204": {
          "model_module": "@jupyter-widgets/controls",
          "model_name": "HTMLModel",
          "state": {
            "_view_name": "HTMLView",
            "style": "IPY_MODEL_55b96d2034ff416ea7b15bf30febfcf3",
            "_dom_classes": [],
            "description": "",
            "_model_name": "HTMLModel",
            "placeholder": "​",
            "_view_module": "@jupyter-widgets/controls",
            "_model_module_version": "1.5.0",
            "value": " 4423680/? [00:19&lt;00:00, 392118.97it/s]",
            "_view_count": null,
            "_view_module_version": "1.5.0",
            "description_tooltip": null,
            "_model_module": "@jupyter-widgets/controls",
            "layout": "IPY_MODEL_0fcab0e2731c491e9918d18642650616"
          }
        },
        "cb9499862aa54c259bc5a8a50582d5b4": {
          "model_module": "@jupyter-widgets/controls",
          "model_name": "ProgressStyleModel",
          "state": {
            "_view_name": "StyleView",
            "_model_name": "ProgressStyleModel",
            "description_width": "initial",
            "_view_module": "@jupyter-widgets/base",
            "_model_module_version": "1.5.0",
            "_view_count": null,
            "_view_module_version": "1.2.0",
            "bar_color": null,
            "_model_module": "@jupyter-widgets/controls"
          }
        },
        "c06b853e10e14d75976adcf7512ef9fa": {
          "model_module": "@jupyter-widgets/base",
          "model_name": "LayoutModel",
          "state": {
            "_view_name": "LayoutView",
            "grid_template_rows": null,
            "right": null,
            "justify_content": null,
            "_view_module": "@jupyter-widgets/base",
            "overflow": null,
            "_model_module_version": "1.2.0",
            "_view_count": null,
            "flex_flow": null,
            "width": null,
            "min_width": null,
            "border": null,
            "align_items": null,
            "bottom": null,
            "_model_module": "@jupyter-widgets/base",
            "top": null,
            "grid_column": null,
            "overflow_y": null,
            "overflow_x": null,
            "grid_auto_flow": null,
            "grid_area": null,
            "grid_template_columns": null,
            "flex": null,
            "_model_name": "LayoutModel",
            "justify_items": null,
            "grid_row": null,
            "max_height": null,
            "align_content": null,
            "visibility": null,
            "align_self": null,
            "height": null,
            "min_height": null,
            "padding": null,
            "grid_auto_rows": null,
            "grid_gap": null,
            "max_width": null,
            "order": null,
            "_view_module_version": "1.2.0",
            "grid_template_areas": null,
            "object_position": null,
            "object_fit": null,
            "grid_auto_columns": null,
            "margin": null,
            "display": null,
            "left": null
          }
        },
        "55b96d2034ff416ea7b15bf30febfcf3": {
          "model_module": "@jupyter-widgets/controls",
          "model_name": "DescriptionStyleModel",
          "state": {
            "_view_name": "StyleView",
            "_model_name": "DescriptionStyleModel",
            "description_width": "",
            "_view_module": "@jupyter-widgets/base",
            "_model_module_version": "1.5.0",
            "_view_count": null,
            "_view_module_version": "1.2.0",
            "_model_module": "@jupyter-widgets/controls"
          }
        },
        "0fcab0e2731c491e9918d18642650616": {
          "model_module": "@jupyter-widgets/base",
          "model_name": "LayoutModel",
          "state": {
            "_view_name": "LayoutView",
            "grid_template_rows": null,
            "right": null,
            "justify_content": null,
            "_view_module": "@jupyter-widgets/base",
            "overflow": null,
            "_model_module_version": "1.2.0",
            "_view_count": null,
            "flex_flow": null,
            "width": null,
            "min_width": null,
            "border": null,
            "align_items": null,
            "bottom": null,
            "_model_module": "@jupyter-widgets/base",
            "top": null,
            "grid_column": null,
            "overflow_y": null,
            "overflow_x": null,
            "grid_auto_flow": null,
            "grid_area": null,
            "grid_template_columns": null,
            "flex": null,
            "_model_name": "LayoutModel",
            "justify_items": null,
            "grid_row": null,
            "max_height": null,
            "align_content": null,
            "visibility": null,
            "align_self": null,
            "height": null,
            "min_height": null,
            "padding": null,
            "grid_auto_rows": null,
            "grid_gap": null,
            "max_width": null,
            "order": null,
            "_view_module_version": "1.2.0",
            "grid_template_areas": null,
            "object_position": null,
            "object_fit": null,
            "grid_auto_columns": null,
            "margin": null,
            "display": null,
            "left": null
          }
        },
        "ce16f7a95e154cd9a032cbf99c5e652e": {
          "model_module": "@jupyter-widgets/controls",
          "model_name": "HBoxModel",
          "state": {
            "_view_name": "HBoxView",
            "_dom_classes": [],
            "_model_name": "HBoxModel",
            "_view_module": "@jupyter-widgets/controls",
            "_model_module_version": "1.5.0",
            "_view_count": null,
            "_view_module_version": "1.5.0",
            "box_style": "",
            "layout": "IPY_MODEL_4bdf7292a0704bf0af1f6649f378f90d",
            "_model_module": "@jupyter-widgets/controls",
            "children": [
              "IPY_MODEL_8b9fd59234d84260a174504a4d68b93b",
              "IPY_MODEL_d29efd80ee4548468d055372211b2cf7"
            ]
          }
        },
        "4bdf7292a0704bf0af1f6649f378f90d": {
          "model_module": "@jupyter-widgets/base",
          "model_name": "LayoutModel",
          "state": {
            "_view_name": "LayoutView",
            "grid_template_rows": null,
            "right": null,
            "justify_content": null,
            "_view_module": "@jupyter-widgets/base",
            "overflow": null,
            "_model_module_version": "1.2.0",
            "_view_count": null,
            "flex_flow": null,
            "width": null,
            "min_width": null,
            "border": null,
            "align_items": null,
            "bottom": null,
            "_model_module": "@jupyter-widgets/base",
            "top": null,
            "grid_column": null,
            "overflow_y": null,
            "overflow_x": null,
            "grid_auto_flow": null,
            "grid_area": null,
            "grid_template_columns": null,
            "flex": null,
            "_model_name": "LayoutModel",
            "justify_items": null,
            "grid_row": null,
            "max_height": null,
            "align_content": null,
            "visibility": null,
            "align_self": null,
            "height": null,
            "min_height": null,
            "padding": null,
            "grid_auto_rows": null,
            "grid_gap": null,
            "max_width": null,
            "order": null,
            "_view_module_version": "1.2.0",
            "grid_template_areas": null,
            "object_position": null,
            "object_fit": null,
            "grid_auto_columns": null,
            "margin": null,
            "display": null,
            "left": null
          }
        },
        "8b9fd59234d84260a174504a4d68b93b": {
          "model_module": "@jupyter-widgets/controls",
          "model_name": "IntProgressModel",
          "state": {
            "_view_name": "ProgressView",
            "style": "IPY_MODEL_5d1754f7b6f2446395001141d36a05c6",
            "_dom_classes": [],
            "description": "",
            "_model_name": "IntProgressModel",
            "bar_style": "success",
            "max": 1,
            "_view_module": "@jupyter-widgets/controls",
            "_model_module_version": "1.5.0",
            "value": 1,
            "_view_count": null,
            "_view_module_version": "1.5.0",
            "orientation": "horizontal",
            "min": 0,
            "description_tooltip": null,
            "_model_module": "@jupyter-widgets/controls",
            "layout": "IPY_MODEL_aa383eafe71d4122a10d1abc8ba3e705"
          }
        },
        "d29efd80ee4548468d055372211b2cf7": {
          "model_module": "@jupyter-widgets/controls",
          "model_name": "HTMLModel",
          "state": {
            "_view_name": "HTMLView",
            "style": "IPY_MODEL_596edf2edc204b4d8a271bc9c9baaa0d",
            "_dom_classes": [],
            "description": "",
            "_model_name": "HTMLModel",
            "placeholder": "​",
            "_view_module": "@jupyter-widgets/controls",
            "_model_module_version": "1.5.0",
            "value": " 8192/? [00:00&lt;00:00, 23225.13it/s]",
            "_view_count": null,
            "_view_module_version": "1.5.0",
            "description_tooltip": null,
            "_model_module": "@jupyter-widgets/controls",
            "layout": "IPY_MODEL_66432ad66c0340a892909c884fcc4539"
          }
        },
        "5d1754f7b6f2446395001141d36a05c6": {
          "model_module": "@jupyter-widgets/controls",
          "model_name": "ProgressStyleModel",
          "state": {
            "_view_name": "StyleView",
            "_model_name": "ProgressStyleModel",
            "description_width": "initial",
            "_view_module": "@jupyter-widgets/base",
            "_model_module_version": "1.5.0",
            "_view_count": null,
            "_view_module_version": "1.2.0",
            "bar_color": null,
            "_model_module": "@jupyter-widgets/controls"
          }
        },
        "aa383eafe71d4122a10d1abc8ba3e705": {
          "model_module": "@jupyter-widgets/base",
          "model_name": "LayoutModel",
          "state": {
            "_view_name": "LayoutView",
            "grid_template_rows": null,
            "right": null,
            "justify_content": null,
            "_view_module": "@jupyter-widgets/base",
            "overflow": null,
            "_model_module_version": "1.2.0",
            "_view_count": null,
            "flex_flow": null,
            "width": null,
            "min_width": null,
            "border": null,
            "align_items": null,
            "bottom": null,
            "_model_module": "@jupyter-widgets/base",
            "top": null,
            "grid_column": null,
            "overflow_y": null,
            "overflow_x": null,
            "grid_auto_flow": null,
            "grid_area": null,
            "grid_template_columns": null,
            "flex": null,
            "_model_name": "LayoutModel",
            "justify_items": null,
            "grid_row": null,
            "max_height": null,
            "align_content": null,
            "visibility": null,
            "align_self": null,
            "height": null,
            "min_height": null,
            "padding": null,
            "grid_auto_rows": null,
            "grid_gap": null,
            "max_width": null,
            "order": null,
            "_view_module_version": "1.2.0",
            "grid_template_areas": null,
            "object_position": null,
            "object_fit": null,
            "grid_auto_columns": null,
            "margin": null,
            "display": null,
            "left": null
          }
        },
        "596edf2edc204b4d8a271bc9c9baaa0d": {
          "model_module": "@jupyter-widgets/controls",
          "model_name": "DescriptionStyleModel",
          "state": {
            "_view_name": "StyleView",
            "_model_name": "DescriptionStyleModel",
            "description_width": "",
            "_view_module": "@jupyter-widgets/base",
            "_model_module_version": "1.5.0",
            "_view_count": null,
            "_view_module_version": "1.2.0",
            "_model_module": "@jupyter-widgets/controls"
          }
        },
        "66432ad66c0340a892909c884fcc4539": {
          "model_module": "@jupyter-widgets/base",
          "model_name": "LayoutModel",
          "state": {
            "_view_name": "LayoutView",
            "grid_template_rows": null,
            "right": null,
            "justify_content": null,
            "_view_module": "@jupyter-widgets/base",
            "overflow": null,
            "_model_module_version": "1.2.0",
            "_view_count": null,
            "flex_flow": null,
            "width": null,
            "min_width": null,
            "border": null,
            "align_items": null,
            "bottom": null,
            "_model_module": "@jupyter-widgets/base",
            "top": null,
            "grid_column": null,
            "overflow_y": null,
            "overflow_x": null,
            "grid_auto_flow": null,
            "grid_area": null,
            "grid_template_columns": null,
            "flex": null,
            "_model_name": "LayoutModel",
            "justify_items": null,
            "grid_row": null,
            "max_height": null,
            "align_content": null,
            "visibility": null,
            "align_self": null,
            "height": null,
            "min_height": null,
            "padding": null,
            "grid_auto_rows": null,
            "grid_gap": null,
            "max_width": null,
            "order": null,
            "_view_module_version": "1.2.0",
            "grid_template_areas": null,
            "object_position": null,
            "object_fit": null,
            "grid_auto_columns": null,
            "margin": null,
            "display": null,
            "left": null
          }
        }
      }
    }
  },
  "cells": [
    {
      "cell_type": "markdown",
      "metadata": {
        "id": "view-in-github",
        "colab_type": "text"
      },
      "source": [
        "<a href=\"https://colab.research.google.com/github/leehyunggeunkeun/pytorch-study/blob/master/pytorch_0504_%EC%9D%B8%EA%B3%B5%EC%8B%A0%EA%B2%BD%EB%A7%9D.ipynb\" target=\"_parent\"><img src=\"https://colab.research.google.com/assets/colab-badge.svg\" alt=\"Open In Colab\"/></a>"
      ]
    },
    {
      "cell_type": "markdown",
      "metadata": {
        "id": "WV7DUzPheGQr",
        "colab_type": "text"
      },
      "source": [
        "저번주와 동일한 FMNIST 데이터셋으로  소프트맥스방법이 아니라\n",
        "여러개의 층을 쌓는 인공신경망으로 테스트를 해보겠습니다\n",
        "\n",
        "층을 제외한 기타 하이퍼파라미터 값들은 동일"
      ]
    },
    {
      "cell_type": "code",
      "metadata": {
        "id": "uxrkvxT-3YfZ",
        "colab_type": "code",
        "colab": {}
      },
      "source": [
        "#필요 라이브러리\n",
        "\n",
        "#기본 \n",
        "import torch\n",
        "import torch.nn as nn\n",
        "import torch.optim as optim\n",
        "\n",
        "import torchvision.datasets as dsets #데이터셋 불러오기\n",
        "import torchvision.transforms as transforms #데이터 전처리\n",
        "from torch.utils.data import DataLoader #데이터 로더시에 필요\n",
        "import matplotlib.pyplot as plt #시각화"
      ],
      "execution_count": 0,
      "outputs": []
    },
    {
      "cell_type": "code",
      "metadata": {
        "id": "IBBQLN0genUm",
        "colab_type": "code",
        "outputId": "71af7c0c-0438-4285-a432-04dccbc1d4f1",
        "colab": {
          "base_uri": "https://localhost:8080/",
          "height": 34
        }
      },
      "source": [
        "#이미지라서 오래걸리니 gpu사용하자\n",
        "\n",
        "USE_CUDA = torch.cuda.is_available() # GPU를 사용가능하면 True, 아니라면 False를 리턴\n",
        "device = torch.device(\"cuda\" if USE_CUDA else \"cpu\") # GPU 사용 가능하면 사용하고 아니면 CPU 사용\n",
        "print(\"다음 기기로 학습합니다:\", device)"
      ],
      "execution_count": 2,
      "outputs": [
        {
          "output_type": "stream",
          "text": [
            "다음 기기로 학습합니다: cuda\n"
          ],
          "name": "stdout"
        }
      ]
    },
    {
      "cell_type": "code",
      "metadata": {
        "id": "-EWJwuXhenve",
        "colab_type": "code",
        "colab": {}
      },
      "source": [
        "torch.manual_seed(1)\n",
        "if device == 'cuda':\n",
        "    torch.cuda.manual_seed_all(1)"
      ],
      "execution_count": 0,
      "outputs": []
    },
    {
      "cell_type": "code",
      "metadata": {
        "id": "r9bjrAPrepXP",
        "colab_type": "code",
        "colab": {
          "base_uri": "https://localhost:8080/",
          "height": 376,
          "referenced_widgets": [
            "433820f9945c4a6b8ec7caffc331318a",
            "a939dca9d0644d89afc789dd97f87b8d",
            "c4f3b0b37ceb4a5f8d5bd5ff25f44651",
            "d02209fcae6c4ae38066bcb5a0f777e3",
            "d345ae1c4c5a4020a34f35c1c1459412",
            "6ef69fb952494e27a2d2a1f01fec0a9b",
            "627d1cceade443048fe8234f67106cfc",
            "06de5118431d441893cb295c9fe4e013",
            "12240d9bb0a7418ebb21599eea6d0fb5",
            "48f38197c97b46b69cca33f7b78c0518",
            "77d4b4d377ab4d21a985489082cc04e9",
            "79133bbef1094234b1f7b7986ec270b5",
            "9b3cd94b5aa040aabf32f64a4b79d49e",
            "57d8d84dfc0c44ed8ccb588ea1f84bab",
            "517384e30592453b975f64f32a06ef23",
            "f66903b8bf4f46cfabf1d5e5e7589405",
            "966aebc34f8f4b30af80737fd52eb3e7",
            "4d78b9119a8e4981839a29e837ccb445",
            "14ca4cba89a04d7399fdc865d9a9ca25",
            "760d056b419540aa966ac646472ab204",
            "cb9499862aa54c259bc5a8a50582d5b4",
            "c06b853e10e14d75976adcf7512ef9fa",
            "55b96d2034ff416ea7b15bf30febfcf3",
            "0fcab0e2731c491e9918d18642650616",
            "ce16f7a95e154cd9a032cbf99c5e652e",
            "4bdf7292a0704bf0af1f6649f378f90d",
            "8b9fd59234d84260a174504a4d68b93b",
            "d29efd80ee4548468d055372211b2cf7",
            "5d1754f7b6f2446395001141d36a05c6",
            "aa383eafe71d4122a10d1abc8ba3e705",
            "596edf2edc204b4d8a271bc9c9baaa0d",
            "66432ad66c0340a892909c884fcc4539"
          ]
        },
        "outputId": "71dda494-05ee-4c98-fb1c-cbfcc2b5dac9"
      },
      "source": [
        "#데이터셋 불러오기\n",
        "\n",
        "trans = transforms.Compose([transforms.ToTensor(),\n",
        "transforms.Normalize((0.5,), (0.5,))])  #compose 는 이미지 관련 전처리를 한곳에서 묶어서 할 수 있게 해주는 기능, 데이터 로드시 transform에 변수값만 입력해주면 된다\n",
        "\n",
        "train_data = dsets.FashionMNIST('./data', train=True, transform=trans, download=True)\n",
        "\n",
        "test_data = dsets.FashionMNIST('./data', train=False, transform=trans, download=True)"
      ],
      "execution_count": 4,
      "outputs": [
        {
          "output_type": "stream",
          "text": [
            "Downloading http://fashion-mnist.s3-website.eu-central-1.amazonaws.com/train-images-idx3-ubyte.gz to ./data/FashionMNIST/raw/train-images-idx3-ubyte.gz\n"
          ],
          "name": "stdout"
        },
        {
          "output_type": "display_data",
          "data": {
            "application/vnd.jupyter.widget-view+json": {
              "model_id": "433820f9945c4a6b8ec7caffc331318a",
              "version_minor": 0,
              "version_major": 2
            },
            "text/plain": [
              "HBox(children=(IntProgress(value=1, bar_style='info', max=1), HTML(value='')))"
            ]
          },
          "metadata": {
            "tags": []
          }
        },
        {
          "output_type": "stream",
          "text": [
            "Extracting ./data/FashionMNIST/raw/train-images-idx3-ubyte.gz to ./data/FashionMNIST/raw\n",
            "Downloading http://fashion-mnist.s3-website.eu-central-1.amazonaws.com/train-labels-idx1-ubyte.gz to ./data/FashionMNIST/raw/train-labels-idx1-ubyte.gz\n"
          ],
          "name": "stdout"
        },
        {
          "output_type": "display_data",
          "data": {
            "application/vnd.jupyter.widget-view+json": {
              "model_id": "12240d9bb0a7418ebb21599eea6d0fb5",
              "version_minor": 0,
              "version_major": 2
            },
            "text/plain": [
              "HBox(children=(IntProgress(value=1, bar_style='info', max=1), HTML(value='')))"
            ]
          },
          "metadata": {
            "tags": []
          }
        },
        {
          "output_type": "stream",
          "text": [
            "Extracting ./data/FashionMNIST/raw/train-labels-idx1-ubyte.gz to ./data/FashionMNIST/raw\n",
            "Downloading http://fashion-mnist.s3-website.eu-central-1.amazonaws.com/t10k-images-idx3-ubyte.gz to ./data/FashionMNIST/raw/t10k-images-idx3-ubyte.gz\n",
            "\n"
          ],
          "name": "stdout"
        },
        {
          "output_type": "display_data",
          "data": {
            "application/vnd.jupyter.widget-view+json": {
              "model_id": "966aebc34f8f4b30af80737fd52eb3e7",
              "version_minor": 0,
              "version_major": 2
            },
            "text/plain": [
              "HBox(children=(IntProgress(value=1, bar_style='info', max=1), HTML(value='')))"
            ]
          },
          "metadata": {
            "tags": []
          }
        },
        {
          "output_type": "stream",
          "text": [
            "Extracting ./data/FashionMNIST/raw/t10k-images-idx3-ubyte.gz to ./data/FashionMNIST/raw\n",
            "Downloading http://fashion-mnist.s3-website.eu-central-1.amazonaws.com/t10k-labels-idx1-ubyte.gz to ./data/FashionMNIST/raw/t10k-labels-idx1-ubyte.gz\n"
          ],
          "name": "stdout"
        },
        {
          "output_type": "display_data",
          "data": {
            "application/vnd.jupyter.widget-view+json": {
              "model_id": "ce16f7a95e154cd9a032cbf99c5e652e",
              "version_minor": 0,
              "version_major": 2
            },
            "text/plain": [
              "HBox(children=(IntProgress(value=1, bar_style='info', max=1), HTML(value='')))"
            ]
          },
          "metadata": {
            "tags": []
          }
        },
        {
          "output_type": "stream",
          "text": [
            "Extracting ./data/FashionMNIST/raw/t10k-labels-idx1-ubyte.gz to ./data/FashionMNIST/raw\n",
            "Processing...\n",
            "Done!\n"
          ],
          "name": "stdout"
        },
        {
          "output_type": "stream",
          "text": [
            "/pytorch/torch/csrc/utils/tensor_numpy.cpp:141: UserWarning: The given NumPy array is not writeable, and PyTorch does not support non-writeable tensors. This means you can write to the underlying (supposedly non-writeable) NumPy array using the tensor. You may want to copy the array to protect its data or make it writeable before converting it to a tensor. This type of warning will be suppressed for the rest of this program.\n"
          ],
          "name": "stderr"
        }
      ]
    },
    {
      "cell_type": "code",
      "metadata": {
        "id": "bKsV_z6Ge5K9",
        "colab_type": "code",
        "outputId": "80ef3a72-c36f-4c77-c8c4-d96729c1c323",
        "colab": {
          "base_uri": "https://localhost:8080/",
          "height": 34
        }
      },
      "source": [
        "#train_data를 8:2로 train_dataset와 val_dataset으로 나눔\n",
        "\n",
        "train_val_ratio = 0.8\n",
        "train_size = int(len(train_data) * train_val_ratio)\n",
        "val_size = len(train_data) - train_size\n",
        "\n",
        "# train set와 validation set로 나누자\n",
        "\n",
        "train_dataset, val_dataset = torch.utils.data.random_split(train_data, [train_size, val_size])\n",
        "print(len(train_dataset), len(val_dataset))"
      ],
      "execution_count": 5,
      "outputs": [
        {
          "output_type": "stream",
          "text": [
            "48000 12000\n"
          ],
          "name": "stdout"
        }
      ]
    },
    {
      "cell_type": "code",
      "metadata": {
        "id": "yVLfsQfSfLSh",
        "colab_type": "code",
        "colab": {}
      },
      "source": [
        "learning_rate = 0.01\n",
        "batch_size=64"
      ],
      "execution_count": 0,
      "outputs": []
    },
    {
      "cell_type": "code",
      "metadata": {
        "id": "rwTCpqU2fVNi",
        "colab_type": "code",
        "colab": {}
      },
      "source": [
        "train_loader=DataLoader(dataset=train_dataset,batch_size=batch_size,shuffle=True,drop_last=True)\n",
        "val_loader=DataLoader(dataset=val_dataset,batch_size=batch_size,shuffle=True,drop_last=True) \n",
        "test_loader=DataLoader(dataset=test_data,batch_size=batch_size,shuffle=False,drop_last=True)"
      ],
      "execution_count": 0,
      "outputs": []
    },
    {
      "cell_type": "markdown",
      "metadata": {
        "id": "m_SaJ5cmh541",
        "colab_type": "text"
      },
      "source": [
        "단층 레이어"
      ]
    },
    {
      "cell_type": "code",
      "metadata": {
        "id": "jdVgzRUXgBQZ",
        "colab_type": "code",
        "colab": {}
      },
      "source": [
        "class Fmnist1(nn.Module):\n",
        "    def __init__(self):\n",
        "        super().__init__()\n",
        "        self.layer=nn.Sequential(\n",
        "            nn.Linear(784,10)\n",
        "           \n",
        "        )\n",
        "\n",
        "    def forward(self,x):\n",
        "        x=x.view(x.size(0),-1)\n",
        "        x=self.layer(x)\n",
        "        return x"
      ],
      "execution_count": 0,
      "outputs": []
    },
    {
      "cell_type": "code",
      "metadata": {
        "id": "AojTrOVehcbA",
        "colab_type": "code",
        "colab": {}
      },
      "source": [
        "#relu 함수이니까 he정규화 한번 해보자\n",
        "\n",
        "def weights_init(m):\n",
        "    if isinstance(m, nn.Linear): # 모델의 모든 MLP 레이어에 대해서\n",
        "        nn.init.kaiming_normal_(m.weight) # Weight를 he_normal로 초기화\n",
        "        print(m.weight)"
      ],
      "execution_count": 0,
      "outputs": []
    },
    {
      "cell_type": "code",
      "metadata": {
        "id": "ophx2H5uhs6M",
        "colab_type": "code",
        "outputId": "6185928c-0ca4-4130-e45f-a6738d777d90",
        "colab": {
          "base_uri": "https://localhost:8080/",
          "height": 281
        }
      },
      "source": [
        "model1=Fmnist1().to(device)\n",
        "model1.apply(weights_init)"
      ],
      "execution_count": 10,
      "outputs": [
        {
          "output_type": "stream",
          "text": [
            "\n",
            "Parameter containing:\n",
            "tensor([[-0.0150,  0.1352, -0.0071,  ...,  0.0113,  0.0085, -0.0496],\n",
            "        [ 0.0039,  0.0253, -0.0591,  ...,  0.0631, -0.0273,  0.0277],\n",
            "        [ 0.0905,  0.0936, -0.0038,  ...,  0.0043, -0.0216, -0.0667],\n",
            "        ...,\n",
            "        [-0.0814,  0.0138,  0.0115,  ..., -0.0393,  0.0366, -0.1038],\n",
            "        [-0.0645, -0.0775, -0.0344,  ..., -0.0236, -0.0331, -0.0384],\n",
            "        [-0.0559, -0.0191,  0.0325,  ..., -0.0170,  0.0567, -0.0339]],\n",
            "       device='cuda:0', requires_grad=True)\n"
          ],
          "name": "stdout"
        },
        {
          "output_type": "execute_result",
          "data": {
            "text/plain": [
              "Fmnist1(\n",
              "  (layer): Sequential(\n",
              "    (0): Linear(in_features=784, out_features=10, bias=True)\n",
              "  )\n",
              ")"
            ]
          },
          "metadata": {
            "tags": []
          },
          "execution_count": 10
        }
      ]
    },
    {
      "cell_type": "code",
      "metadata": {
        "id": "FLFhH-xJjShT",
        "colab_type": "code",
        "colab": {}
      },
      "source": [
        "criterion = nn.CrossEntropyLoss().to(device)\n",
        "optimizer = optim.Adam(model1.parameters(),lr=learning_rate)"
      ],
      "execution_count": 0,
      "outputs": []
    },
    {
      "cell_type": "code",
      "metadata": {
        "id": "83mX7t4YjSno",
        "colab_type": "code",
        "outputId": "ee176237-bd25-4b97-c661-b3a026f2ccdd",
        "colab": {
          "base_uri": "https://localhost:8080/",
          "height": 598
        }
      },
      "source": [
        "total_batch=len(train_loader)+len(val_loader)\n",
        "\n",
        "train_losses = []\n",
        "val_losses = []\n",
        "\n",
        "epochs=10\n",
        "\n",
        "for epoch in range(epochs+1):\n",
        "    avg_cost=0\n",
        "    for i,data in enumerate(train_loader):\n",
        "        imgs,labels=data\n",
        "        imgs=imgs.to(device)\n",
        "        labels=labels.to(device)\n",
        "\n",
        "        optimizer.zero_grad()\n",
        "        hypothesis=model1(imgs)\n",
        "        cost=criterion(hypothesis,labels)\n",
        "        cost.backward()\n",
        "        optimizer.step()\n",
        "        train_losses.append(cost.item())\n",
        "\n",
        "\n",
        "        avg_cost += cost/total_batch\n",
        "\n",
        "    print('epoch:{} cost= {}'.format(epoch+1,avg_cost))\n",
        "\n",
        "    for i,data in enumerate(val_loader):\n",
        "        imgs,labels=data\n",
        "        imgs=imgs.to(device)\n",
        "        labels=labels.to(device)\n",
        "\n",
        "        optimizer.zero_grad()\n",
        "        hypothesis=model1(imgs)\n",
        "        cost=criterion(hypothesis,labels)\n",
        "        cost.backward()\n",
        "        optimizer.step()\n",
        "        val_losses.append(cost.item())\n",
        "\n",
        "\n",
        "        avg_cost += cost/total_batch\n",
        "\n",
        "    print('epoch:{} cost= {}'.format(epoch+1,avg_cost))\n",
        "    print('-'*50)"
      ],
      "execution_count": 12,
      "outputs": [
        {
          "output_type": "stream",
          "text": [
            "epoch:1 cost= 0.5623453259468079\n",
            "epoch:1 cost= 0.7011311054229736\n",
            "--------------------------------------------------\n",
            "epoch:2 cost= 0.5302460193634033\n",
            "epoch:2 cost= 0.6602708697319031\n",
            "--------------------------------------------------\n",
            "epoch:3 cost= 0.5255603194236755\n",
            "epoch:3 cost= 0.6638447642326355\n",
            "--------------------------------------------------\n",
            "epoch:4 cost= 0.5293907523155212\n",
            "epoch:4 cost= 0.660694420337677\n",
            "--------------------------------------------------\n",
            "epoch:5 cost= 0.5364067554473877\n",
            "epoch:5 cost= 0.6650168299674988\n",
            "--------------------------------------------------\n",
            "epoch:6 cost= 0.5056276321411133\n",
            "epoch:6 cost= 0.6477472186088562\n",
            "--------------------------------------------------\n",
            "epoch:7 cost= 0.5310006737709045\n",
            "epoch:7 cost= 0.6586558222770691\n",
            "--------------------------------------------------\n",
            "epoch:8 cost= 0.529986560344696\n",
            "epoch:8 cost= 0.6738790273666382\n",
            "--------------------------------------------------\n",
            "epoch:9 cost= 0.5112943649291992\n",
            "epoch:9 cost= 0.6422080397605896\n",
            "--------------------------------------------------\n",
            "epoch:10 cost= 0.522997260093689\n",
            "epoch:10 cost= 0.6517257690429688\n",
            "--------------------------------------------------\n",
            "epoch:11 cost= 0.5159844160079956\n",
            "epoch:11 cost= 0.646710991859436\n",
            "--------------------------------------------------\n"
          ],
          "name": "stdout"
        }
      ]
    },
    {
      "cell_type": "code",
      "metadata": {
        "id": "vcadukavjSuW",
        "colab_type": "code",
        "outputId": "1668eb74-8c3f-4b13-c7be-2b23dd50e2cb",
        "colab": {
          "base_uri": "https://localhost:8080/",
          "height": 265
        }
      },
      "source": [
        "plt.plot(train_losses,label='Train')\n",
        "plt.plot(val_losses,label='Val')\n",
        "plt.legend()\n",
        "plt.show()"
      ],
      "execution_count": 13,
      "outputs": [
        {
          "output_type": "display_data",
          "data": {
            "image/png": "[encoded data removed]",
            "text/plain": [
              "<Figure size 432x288 with 1 Axes>"
            ]
          },
          "metadata": {
            "tags": [],
            "needs_background": "light"
          }
        }
      ]
    },
    {
      "cell_type": "code",
      "metadata": {
        "id": "niAzRWkUjSwe",
        "colab_type": "code",
        "outputId": "ac05d45d-6c16-403a-99b7-ac21985434f9",
        "colab": {
          "base_uri": "https://localhost:8080/",
          "height": 34
        }
      },
      "source": [
        "with torch.no_grad():\n",
        "    correct=0\n",
        "    total=0\n",
        "    \n",
        "    for i,data in enumerate(test_loader):\n",
        "        imgs,labels=data\n",
        "        imgs=imgs.to(device)\n",
        "        labels=labels.to(device)\n",
        "\n",
        "        prediction=model1(imgs)\n",
        "        _,argmax= torch.max(prediction,1)\n",
        "        total += imgs.size(0)\n",
        "        correct += (labels == argmax).sum().item()\n",
        "    \n",
        "    print('Test accuracy for {} images: {:.2f}%'.format(total, correct / total * 100))"
      ],
      "execution_count": 14,
      "outputs": [
        {
          "output_type": "stream",
          "text": [
            "Test accuracy for 9984 images: 79.86%\n"
          ],
          "name": "stdout"
        }
      ]
    },
    {
      "cell_type": "markdown",
      "metadata": {
        "id": "LFnGx8j5iyqU",
        "colab_type": "text"
      },
      "source": [
        "다층 레이어"
      ]
    },
    {
      "cell_type": "code",
      "metadata": {
        "id": "bc5ul0qvgAc7",
        "colab_type": "code",
        "colab": {}
      },
      "source": [
        "class Fmnist2(nn.Module):\n",
        "    def __init__(self):\n",
        "        super().__init__()\n",
        "        self.layer1=nn.Sequential(\n",
        "            nn.Linear(784,512),\n",
        "            nn.BatchNorm1d(512),     #batchnorm해보자 output 10개를 따라가는 듯??\n",
        "            nn.ReLU()\n",
        "        )\n",
        "\n",
        "\n",
        "        self.layer2=nn.Sequential(\n",
        "            nn.Linear(512,128),\n",
        "            nn.BatchNorm1d(128),\n",
        "            nn.ReLU()\n",
        "        )\n",
        "\n",
        "        self.layer3= nn.Sequential(\n",
        "            \n",
        "            nn.Linear(128,10)    #마지막 레이어는 Linear 까지만 적용....\n",
        "        )\n",
        "\n",
        "    def forward(self,x):\n",
        "        x=x.view(x.size(0),-1)\n",
        "        x=self.layer1(x)\n",
        "        x=self.layer2(x)\n",
        "        x=self.layer3(x)\n",
        "        \n",
        "        return x"
      ],
      "execution_count": 0,
      "outputs": []
    },
    {
      "cell_type": "code",
      "metadata": {
        "id": "72v74N3ggAf_",
        "colab_type": "code",
        "outputId": "20b0dadb-3681-48f1-a07b-53f085a2d7d2",
        "colab": {
          "base_uri": "https://localhost:8080/",
          "height": 756
        }
      },
      "source": [
        "# 마찬가지로 he 정규화 적용\n",
        "model2=Fmnist2().to(device)\n",
        "model2.apply(weights_init)"
      ],
      "execution_count": 16,
      "outputs": [
        {
          "output_type": "stream",
          "text": [
            "Parameter containing:\n",
            "tensor([[-0.0320, -0.0325, -0.0324,  ...,  0.0478, -0.0152, -0.0555],\n",
            "        [ 0.0889,  0.0222,  0.0421,  ...,  0.0234,  0.0195, -0.0266],\n",
            "        [-0.0615,  0.0356, -0.0479,  ...,  0.0351, -0.0971, -0.0217],\n",
            "        ...,\n",
            "        [-0.0677,  0.0495, -0.0305,  ...,  0.0618, -0.0014,  0.0650],\n",
            "        [ 0.0704, -0.0445, -0.0338,  ..., -0.0403, -0.0041, -0.0740],\n",
            "        [ 0.0915, -0.0360, -0.0259,  ..., -0.1140, -0.0644, -0.0016]],\n",
            "       device='cuda:0', requires_grad=True)\n",
            "Parameter containing:\n",
            "tensor([[-0.0363, -0.0639,  0.0521,  ..., -0.0414,  0.0215,  0.1177],\n",
            "        [-0.0248,  0.0969,  0.0338,  ...,  0.1077,  0.0251,  0.0268],\n",
            "        [ 0.0751,  0.0806,  0.0748,  ..., -0.1414,  0.0566,  0.0168],\n",
            "        ...,\n",
            "        [ 0.0460, -0.0424,  0.0345,  ...,  0.0569, -0.0572, -0.0162],\n",
            "        [ 0.0079, -0.0300, -0.0060,  ..., -0.0299,  0.0588, -0.0025],\n",
            "        [-0.0494, -0.0337, -0.0637,  ...,  0.0880, -0.0481, -0.0409]],\n",
            "       device='cuda:0', requires_grad=True)\n",
            "Parameter containing:\n",
            "tensor([[ 0.0212, -0.1621,  0.0394,  ...,  0.0360, -0.0540, -0.0376],\n",
            "        [ 0.1219,  0.1418, -0.0322,  ..., -0.1010,  0.0288, -0.0082],\n",
            "        [ 0.0067,  0.0496,  0.1903,  ...,  0.2496, -0.0004,  0.0419],\n",
            "        ...,\n",
            "        [ 0.1392, -0.0731, -0.0474,  ...,  0.0584, -0.0410, -0.0698],\n",
            "        [-0.0517,  0.0508,  0.0683,  ...,  0.1088,  0.0402, -0.0037],\n",
            "        [-0.1096,  0.1252, -0.0547,  ...,  0.1910, -0.0822, -0.0985]],\n",
            "       device='cuda:0', requires_grad=True)\n"
          ],
          "name": "stdout"
        },
        {
          "output_type": "execute_result",
          "data": {
            "text/plain": [
              "Fmnist2(\n",
              "  (layer1): Sequential(\n",
              "    (0): Linear(in_features=784, out_features=512, bias=True)\n",
              "    (1): BatchNorm1d(512, eps=1e-05, momentum=0.1, affine=True, track_running_stats=True)\n",
              "    (2): ReLU()\n",
              "  )\n",
              "  (layer2): Sequential(\n",
              "    (0): Linear(in_features=512, out_features=128, bias=True)\n",
              "    (1): BatchNorm1d(128, eps=1e-05, momentum=0.1, affine=True, track_running_stats=True)\n",
              "    (2): ReLU()\n",
              "  )\n",
              "  (layer3): Sequential(\n",
              "    (0): Linear(in_features=128, out_features=10, bias=True)\n",
              "  )\n",
              ")"
            ]
          },
          "metadata": {
            "tags": []
          },
          "execution_count": 16
        }
      ]
    },
    {
      "cell_type": "code",
      "metadata": {
        "id": "n8M6mOgskRgr",
        "colab_type": "code",
        "colab": {}
      },
      "source": [
        "criterion = nn.CrossEntropyLoss().to(device)\n",
        "optimizer = optim.Adam(model2.parameters(),lr=learning_rate)"
      ],
      "execution_count": 0,
      "outputs": []
    },
    {
      "cell_type": "code",
      "metadata": {
        "id": "ao_RhUr2gAa9",
        "colab_type": "code",
        "outputId": "b67a4c23-7e1b-4d56-ac39-4df3d437d344",
        "colab": {
          "base_uri": "https://localhost:8080/",
          "height": 598
        }
      },
      "source": [
        "total_batch=len(train_loader)+len(val_loader)\n",
        "\n",
        "train_losses = []\n",
        "val_losses = []\n",
        "\n",
        "epochs=10\n",
        "\n",
        "for epoch in range(epochs+1):\n",
        "    avg_cost=0\n",
        "    for i,data in enumerate(train_loader):\n",
        "        imgs,labels=data\n",
        "        imgs=imgs.to(device)\n",
        "        labels=labels.to(device)\n",
        "\n",
        "        optimizer.zero_grad()\n",
        "        hypothesis=model2(imgs)\n",
        "        cost=criterion(hypothesis,labels)\n",
        "        cost.backward()\n",
        "        optimizer.step()\n",
        "        train_losses.append(cost.item())\n",
        "\n",
        "\n",
        "        avg_cost += cost/total_batch\n",
        "\n",
        "    print('epoch:{} cost= {}'.format(epoch+1,avg_cost))\n",
        "\n",
        "    for i,data in enumerate(val_loader):\n",
        "        imgs,labels=data\n",
        "        imgs=imgs.to(device)\n",
        "        labels=labels.to(device)\n",
        "\n",
        "        optimizer.zero_grad()\n",
        "        hypothesis=model2(imgs)\n",
        "        cost=criterion(hypothesis,labels)\n",
        "        cost.backward()\n",
        "        optimizer.step()\n",
        "        val_losses.append(cost.item())\n",
        "\n",
        "\n",
        "        avg_cost += cost/total_batch\n",
        "\n",
        "    print('epoch:{} cost= {}'.format(epoch+1,avg_cost))\n",
        "    print('-'*50)"
      ],
      "execution_count": 18,
      "outputs": [
        {
          "output_type": "stream",
          "text": [
            "epoch:1 cost= 0.3793409764766693\n",
            "epoch:1 cost= 0.4602895677089691\n",
            "--------------------------------------------------\n",
            "epoch:2 cost= 0.29137077927589417\n",
            "epoch:2 cost= 0.36038970947265625\n",
            "--------------------------------------------------\n",
            "epoch:3 cost= 0.2595446705818176\n",
            "epoch:3 cost= 0.32144874334335327\n",
            "--------------------------------------------------\n",
            "epoch:4 cost= 0.23940050601959229\n",
            "epoch:4 cost= 0.2987751364707947\n",
            "--------------------------------------------------\n",
            "epoch:5 cost= 0.22157767415046692\n",
            "epoch:5 cost= 0.27512937784194946\n",
            "--------------------------------------------------\n",
            "epoch:6 cost= 0.210440993309021\n",
            "epoch:6 cost= 0.26116493344306946\n",
            "--------------------------------------------------\n",
            "epoch:7 cost= 0.19702351093292236\n",
            "epoch:7 cost= 0.24510128796100616\n",
            "--------------------------------------------------\n",
            "epoch:8 cost= 0.1896527260541916\n",
            "epoch:8 cost= 0.2362447828054428\n",
            "--------------------------------------------------\n",
            "epoch:9 cost= 0.18027463555335999\n",
            "epoch:9 cost= 0.2238907366991043\n",
            "--------------------------------------------------\n",
            "epoch:10 cost= 0.16923189163208008\n",
            "epoch:10 cost= 0.21087685227394104\n",
            "--------------------------------------------------\n",
            "epoch:11 cost= 0.1593877077102661\n",
            "epoch:11 cost= 0.20010283589363098\n",
            "--------------------------------------------------\n"
          ],
          "name": "stdout"
        }
      ]
    },
    {
      "cell_type": "code",
      "metadata": {
        "id": "Dpx8gLfXkQm_",
        "colab_type": "code",
        "outputId": "c821b7c2-5026-4944-b3e0-deca0268ceea",
        "colab": {
          "base_uri": "https://localhost:8080/",
          "height": 265
        }
      },
      "source": [
        "plt.plot(train_losses,label='Train')\n",
        "plt.plot(val_losses,label='Val')\n",
        "plt.legend()\n",
        "plt.show()"
      ],
      "execution_count": 19,
      "outputs": [
        {
          "output_type": "display_data",
          "data": {
            "image/png": "[encoded data removed]",
            "text/plain": [
              "<Figure size 432x288 with 1 Axes>"
            ]
          },
          "metadata": {
            "tags": [],
            "needs_background": "light"
          }
        }
      ]
    },
    {
      "cell_type": "code",
      "metadata": {
        "id": "bLhsDwSVkQp_",
        "colab_type": "code",
        "outputId": "06ed7757-07a2-4515-bcc6-cf949c759393",
        "colab": {
          "base_uri": "https://localhost:8080/",
          "height": 34
        }
      },
      "source": [
        "with torch.no_grad():\n",
        "    correct=0\n",
        "    total=0\n",
        "    \n",
        "    for i,data in enumerate(test_loader):\n",
        "        imgs,labels=data\n",
        "        imgs=imgs.to(device)\n",
        "        labels=labels.to(device)\n",
        "\n",
        "        prediction=model2(imgs)\n",
        "        _,argmax= torch.max(prediction,1)\n",
        "        total += imgs.size(0)\n",
        "        correct += (labels == argmax).sum().item()\n",
        "    \n",
        "    print('Test accuracy for {} images: {:.2f}%'.format(total, correct / total * 100))"
      ],
      "execution_count": 20,
      "outputs": [
        {
          "output_type": "stream",
          "text": [
            "Test accuracy for 9984 images: 88.70%\n"
          ],
          "name": "stdout"
        }
      ]
    },
    {
      "cell_type": "markdown",
      "metadata": {
        "id": "wmBrt75hmGS4",
        "colab_type": "text"
      },
      "source": [
        "층도 2개 더 쌓고 배치정규화도 추가해주긴 했지만 확실히 효과가 좋다!!\n",
        "저번주 소프트맥스는 79.86%"
      ]
    }
  ]
}