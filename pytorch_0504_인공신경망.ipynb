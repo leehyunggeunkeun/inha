{
  "nbformat": 4,
  "nbformat_minor": 0,
  "metadata": {
    "colab": {
      "name": "pytorch_0504_인공신경망.ipynb",
      "provenance": [],
      "authorship_tag": "ABX9TyPqnhd7PjS3K7Nuu0ybXLAf",
      "include_colab_link": true
    },
    "kernelspec": {
      "name": "python3",
      "display_name": "Python 3"
    },
    "accelerator": "GPU"
  },
  "cells": [
    {
      "cell_type": "markdown",
      "metadata": {
        "id": "view-in-github",
        "colab_type": "text"
      },
      "source": [
        "<a href=\"https://colab.research.google.com/github/leehyunggeunkeun/pytorch-study/blob/master/pytorch_0504_%EC%9D%B8%EA%B3%B5%EC%8B%A0%EA%B2%BD%EB%A7%9D.ipynb\" target=\"_parent\"><img src=\"https://colab.research.google.com/assets/colab-badge.svg\" alt=\"Open In Colab\"/></a>"
      ]
    },
    {
      "cell_type": "markdown",
      "metadata": {
        "id": "WV7DUzPheGQr",
        "colab_type": "text"
      },
      "source": [
        "저번주와 동일한 FMNIST 데이터셋으로  소프트맥스방법이 아니라\n",
        "여러개의 층을 쌓는 인공신경망으로 테스트를 해보겠습니다\n",
        "\n",
        "층을 제외한 기타 하이퍼파라미터 값들은 동일"
      ]
    },
    {
      "cell_type": "code",
      "metadata": {
        "id": "uxrkvxT-3YfZ",
        "colab_type": "code",
        "colab": {}
      },
      "source": [
        "#필요 라이브러리\n",
        "\n",
        "#기본 \n",
        "import torch\n",
        "import torch.nn as nn\n",
        "import torch.optim as optim\n",
        "\n",
        "import torchvision.datasets as dsets #데이터셋 불러오기\n",
        "import torchvision.transforms as transforms #데이터 전처리\n",
        "from torch.utils.data import DataLoader #데이터 로더시에 필요\n",
        "import matplotlib.pyplot as plt #시각화"
      ],
      "execution_count": 0,
      "outputs": []
    },
    {
      "cell_type": "code",
      "metadata": {
        "id": "IBBQLN0genUm",
        "colab_type": "code",
        "outputId": "4b79bb27-432a-4151-8c48-143fed947578",
        "colab": {
          "base_uri": "https://localhost:8080/",
          "height": 34
        }
      },
      "source": [
        "#이미지라서 오래걸리니 gpu사용하자\n",
        "\n",
        "USE_CUDA = torch.cuda.is_available() # GPU를 사용가능하면 True, 아니라면 False를 리턴\n",
        "device = torch.device(\"cuda\" if USE_CUDA else \"cpu\") # GPU 사용 가능하면 사용하고 아니면 CPU 사용\n",
        "print(\"다음 기기로 학습합니다:\", device)"
      ],
      "execution_count": 0,
      "outputs": [
        {
          "output_type": "stream",
          "text": [
            "다음 기기로 학습합니다: cuda\n"
          ],
          "name": "stdout"
        }
      ]
    },
    {
      "cell_type": "code",
      "metadata": {
        "id": "-EWJwuXhenve",
        "colab_type": "code",
        "colab": {}
      },
      "source": [
        "torch.manual_seed(1)\n",
        "if device == 'cuda':\n",
        "    torch.cuda.manual_seed_all(1)"
      ],
      "execution_count": 0,
      "outputs": []
    },
    {
      "cell_type": "code",
      "metadata": {
        "id": "r9bjrAPrepXP",
        "colab_type": "code",
        "colab": {}
      },
      "source": [
        "#데이터셋 불러오기\n",
        "\n",
        "trans = transforms.Compose([transforms.ToTensor(),\n",
        "transforms.Normalize((0.5,), (0.5,))])  #compose 는 이미지 관련 전처리를 한곳에서 묶어서 할 수 있게 해주는 기능, 데이터 로드시 transform에 변수값만 입력해주면 된다\n",
        "\n",
        "train_data = dsets.FashionMNIST('./data', train=True, transform=trans, download=True)\n",
        "\n",
        "test_data = dsets.FashionMNIST('./data', train=False, transform=trans, download=True)"
      ],
      "execution_count": 0,
      "outputs": []
    },
    {
      "cell_type": "code",
      "metadata": {
        "id": "bKsV_z6Ge5K9",
        "colab_type": "code",
        "outputId": "d7889cf2-59e5-4386-df2c-34d62eaf2290",
        "colab": {
          "base_uri": "https://localhost:8080/",
          "height": 34
        }
      },
      "source": [
        "#train_data를 8:2로 train_dataset와 val_dataset으로 나눔\n",
        "\n",
        "train_val_ratio = 0.8\n",
        "train_size = int(len(train_data) * train_val_ratio)\n",
        "val_size = len(train_data) - train_size\n",
        "\n",
        "# train set와 validation set로 나누자\n",
        "\n",
        "train_dataset, val_dataset = torch.utils.data.random_split(train_data, [train_size, val_size])\n",
        "print(len(train_dataset), len(val_dataset))"
      ],
      "execution_count": 0,
      "outputs": [
        {
          "output_type": "stream",
          "text": [
            "48000 12000\n"
          ],
          "name": "stdout"
        }
      ]
    },
    {
      "cell_type": "code",
      "metadata": {
        "id": "yVLfsQfSfLSh",
        "colab_type": "code",
        "colab": {}
      },
      "source": [
        "learning_rate = 0.01\n",
        "batch_size=64"
      ],
      "execution_count": 0,
      "outputs": []
    },
    {
      "cell_type": "code",
      "metadata": {
        "id": "rwTCpqU2fVNi",
        "colab_type": "code",
        "colab": {}
      },
      "source": [
        "train_loader=DataLoader(dataset=train_dataset,batch_size=batch_size,shuffle=True)\n",
        "val_loader=DataLoader(dataset=val_dataset,batch_size=batch_size,shuffle=True) \n",
        "test_loader=DataLoader(dataset=test_data,batch_size=batch_size,shuffle=False)"
      ],
      "execution_count": 0,
      "outputs": []
    },
    {
      "cell_type": "markdown",
      "metadata": {
        "id": "m_SaJ5cmh541",
        "colab_type": "text"
      },
      "source": [
        "단층 레이어"
      ]
    },
    {
      "cell_type": "code",
      "metadata": {
        "id": "jdVgzRUXgBQZ",
        "colab_type": "code",
        "colab": {}
      },
      "source": [
        "class Fmnist1(nn.Module):\n",
        "    def __init__(self):\n",
        "        super().__init__()\n",
        "        self.layer=nn.Sequential(\n",
        "            nn.Linear(784,10)\n",
        "           \n",
        "        )\n",
        "\n",
        "    def forward(self,x):\n",
        "        x=x.view(x.size(0),-1)\n",
        "        x=self.layer(x)\n",
        "        return x"
      ],
      "execution_count": 0,
      "outputs": []
    },
    {
      "cell_type": "code",
      "metadata": {
        "id": "AojTrOVehcbA",
        "colab_type": "code",
        "colab": {}
      },
      "source": [
        "#relu 함수이니까 he정규화 한번 해보자\n",
        "\n",
        "def weights_init(m):\n",
        "    if isinstance(m, nn.Linear): # 모델의 모든 MLP 레이어에 대해서\n",
        "        nn.init.kaiming_normal_(m.weight) # Weight를 xavier_normal로 초기화\n",
        "        print(m.weight)"
      ],
      "execution_count": 0,
      "outputs": []
    },
    {
      "cell_type": "code",
      "metadata": {
        "id": "ophx2H5uhs6M",
        "colab_type": "code",
        "outputId": "bb66625b-ec97-47cc-cdfd-210e407de8b9",
        "colab": {
          "base_uri": "https://localhost:8080/",
          "height": 263
        }
      },
      "source": [
        "model1=Fmnist1().to(device)\n",
        "model1.apply(weights_init)"
      ],
      "execution_count": 0,
      "outputs": [
        {
          "output_type": "stream",
          "text": [
            "Parameter containing:\n",
            "tensor([[-0.0150,  0.1352, -0.0071,  ...,  0.0113,  0.0085, -0.0496],\n",
            "        [ 0.0039,  0.0253, -0.0591,  ...,  0.0631, -0.0273,  0.0277],\n",
            "        [ 0.0905,  0.0936, -0.0038,  ...,  0.0043, -0.0216, -0.0667],\n",
            "        ...,\n",
            "        [-0.0814,  0.0138,  0.0115,  ..., -0.0393,  0.0366, -0.1038],\n",
            "        [-0.0645, -0.0775, -0.0344,  ..., -0.0236, -0.0331, -0.0384],\n",
            "        [-0.0559, -0.0191,  0.0325,  ..., -0.0170,  0.0567, -0.0339]],\n",
            "       device='cuda:0', requires_grad=True)\n"
          ],
          "name": "stdout"
        },
        {
          "output_type": "execute_result",
          "data": {
            "text/plain": [
              "Fmnist1(\n",
              "  (layer): Sequential(\n",
              "    (0): Linear(in_features=784, out_features=10, bias=True)\n",
              "  )\n",
              ")"
            ]
          },
          "metadata": {
            "tags": []
          },
          "execution_count": 10
        }
      ]
    },
    {
      "cell_type": "code",
      "metadata": {
        "id": "FLFhH-xJjShT",
        "colab_type": "code",
        "colab": {}
      },
      "source": [
        "criterion = nn.CrossEntropyLoss().to(device)\n",
        "optimizer = optim.Adam(model1.parameters(),lr=learning_rate)"
      ],
      "execution_count": 0,
      "outputs": []
    },
    {
      "cell_type": "code",
      "metadata": {
        "id": "83mX7t4YjSno",
        "colab_type": "code",
        "outputId": "7882112d-c3d1-4fc2-93fd-a90c14718f86",
        "colab": {
          "base_uri": "https://localhost:8080/",
          "height": 598
        }
      },
      "source": [
        "total_batch=len(train_loader)+len(val_loader)\n",
        "\n",
        "train_losses = []\n",
        "val_losses = []\n",
        "\n",
        "epochs=10\n",
        "\n",
        "for epoch in range(epochs+1):\n",
        "    avg_cost=0\n",
        "    for i,data in enumerate(train_loader):\n",
        "        imgs,labels=data\n",
        "        imgs=imgs.to(device)\n",
        "        labels=labels.to(device)\n",
        "\n",
        "        optimizer.zero_grad()\n",
        "        hypothesis=model1(imgs)\n",
        "        cost=criterion(hypothesis,labels)\n",
        "        cost.backward()\n",
        "        optimizer.step()\n",
        "        train_losses.append(cost.item())\n",
        "\n",
        "\n",
        "        avg_cost += cost/total_batch\n",
        "\n",
        "    print('epoch:{} cost= {}'.format(epoch+1,avg_cost))\n",
        "\n",
        "    for i,data in enumerate(val_loader):\n",
        "        imgs,labels=data\n",
        "        imgs=imgs.to(device)\n",
        "        labels=labels.to(device)\n",
        "\n",
        "        optimizer.zero_grad()\n",
        "        hypothesis=model1(imgs)\n",
        "        cost=criterion(hypothesis,labels)\n",
        "        cost.backward()\n",
        "        optimizer.step()\n",
        "        val_losses.append(cost.item())\n",
        "\n",
        "\n",
        "        avg_cost += cost/total_batch\n",
        "\n",
        "    print('epoch:{} cost= {}'.format(epoch+1,avg_cost))\n",
        "    print('-'*50)"
      ],
      "execution_count": 0,
      "outputs": [
        {
          "output_type": "stream",
          "text": [
            "epoch:1 cost= 0.5617455840110779\n",
            "epoch:1 cost= 0.701030969619751\n",
            "--------------------------------------------------\n",
            "epoch:2 cost= 0.5295794606208801\n",
            "epoch:2 cost= 0.6597519516944885\n",
            "--------------------------------------------------\n",
            "epoch:3 cost= 0.5256406664848328\n",
            "epoch:3 cost= 0.6645017266273499\n",
            "--------------------------------------------------\n",
            "epoch:4 cost= 0.5292627811431885\n",
            "epoch:4 cost= 0.6617534160614014\n",
            "--------------------------------------------------\n",
            "epoch:5 cost= 0.5357295274734497\n",
            "epoch:5 cost= 0.6644222140312195\n",
            "--------------------------------------------------\n",
            "epoch:6 cost= 0.5036950707435608\n",
            "epoch:6 cost= 0.6455655694007874\n",
            "--------------------------------------------------\n",
            "epoch:7 cost= 0.5305380821228027\n",
            "epoch:7 cost= 0.6583595275878906\n",
            "--------------------------------------------------\n",
            "epoch:8 cost= 0.5296777486801147\n",
            "epoch:8 cost= 0.6740692257881165\n",
            "--------------------------------------------------\n",
            "epoch:9 cost= 0.5114107728004456\n",
            "epoch:9 cost= 0.6420432329177856\n",
            "--------------------------------------------------\n",
            "epoch:10 cost= 0.5245905518531799\n",
            "epoch:10 cost= 0.6546440720558167\n",
            "--------------------------------------------------\n",
            "epoch:11 cost= 0.5129203200340271\n",
            "epoch:11 cost= 0.6446797251701355\n",
            "--------------------------------------------------\n"
          ],
          "name": "stdout"
        }
      ]
    },
    {
      "cell_type": "code",
      "metadata": {
        "id": "vcadukavjSuW",
        "colab_type": "code",
        "outputId": "97016c12-7694-48e0-834c-bc875a6a0835",
        "colab": {
          "base_uri": "https://localhost:8080/",
          "height": 265
        }
      },
      "source": [
        "plt.plot(train_losses,label='Train')\n",
        "plt.plot(val_losses,label='Val')\n",
        "plt.legend()\n",
        "plt.show()"
      ],
      "execution_count": 0,
      "outputs": [
        {
          "output_type": "display_data",
          "data": {
            "image/png": "[encoded data removed]",
            "text/plain": [
              "<Figure size 432x288 with 1 Axes>"
            ]
          },
          "metadata": {
            "tags": [],
            "needs_background": "light"
          }
        }
      ]
    },
    {
      "cell_type": "code",
      "metadata": {
        "id": "niAzRWkUjSwe",
        "colab_type": "code",
        "outputId": "8d2cbd76-c33b-4908-c331-c6e4aad13936",
        "colab": {
          "base_uri": "https://localhost:8080/",
          "height": 34
        }
      },
      "source": [
        "with torch.no_grad():\n",
        "    correct=0\n",
        "    total=0\n",
        "    \n",
        "    for i,data in enumerate(test_loader):\n",
        "        imgs,labels=data\n",
        "        imgs=imgs.to(device)\n",
        "        labels=labels.to(device)\n",
        "\n",
        "        prediction=model1(imgs)\n",
        "        _,argmax= torch.max(prediction,1)\n",
        "        total += imgs.size(0)\n",
        "        correct += (labels == argmax).sum().item()\n",
        "    \n",
        "    print('Test accuracy for {} images: {:.2f}%'.format(total, correct / total * 100))"
      ],
      "execution_count": 0,
      "outputs": [
        {
          "output_type": "stream",
          "text": [
            "Test accuracy for 10000 images: 80.62%\n"
          ],
          "name": "stdout"
        }
      ]
    },
    {
      "cell_type": "markdown",
      "metadata": {
        "id": "LFnGx8j5iyqU",
        "colab_type": "text"
      },
      "source": [
        "다층 레이어"
      ]
    },
    {
      "cell_type": "code",
      "metadata": {
        "id": "bc5ul0qvgAc7",
        "colab_type": "code",
        "colab": {}
      },
      "source": [
        "class Fmnist2(nn.Module):\n",
        "    def __init__(self):\n",
        "        super().__init__()\n",
        "        self.layer1=nn.Sequential(\n",
        "            nn.Linear(784,512),\n",
        "            nn.BatchNorm1d(512),     #batchnorm해보자 output 10개를 따라가는 듯??\n",
        "            nn.ReLU()\n",
        "        )\n",
        "\n",
        "\n",
        "        self.layer2=nn.Sequential(\n",
        "            nn.Linear(512,128),\n",
        "            nn.BatchNorm1d(128),\n",
        "            nn.ReLU()\n",
        "        )\n",
        "\n",
        "        self.layer3= nn.Sequential(\n",
        "            \n",
        "            nn.Linear(128,10)    #마지막 레이어는 Linear 까지만 적용....\n",
        "        )\n",
        "\n",
        "    def forward(self,x):\n",
        "        x=x.view(x.size(0),-1)\n",
        "        x=self.layer1(x)\n",
        "        x=self.layer2(x)\n",
        "        x=self.layer3(x)\n",
        "        \n",
        "        return x"
      ],
      "execution_count": 0,
      "outputs": []
    },
    {
      "cell_type": "code",
      "metadata": {
        "id": "72v74N3ggAf_",
        "colab_type": "code",
        "outputId": "04b23231-fd32-4875-85e0-735ad0cc922a",
        "colab": {
          "base_uri": "https://localhost:8080/",
          "height": 844
        }
      },
      "source": [
        "# 마찬가지로 he 정규화 적용\n",
        "model2=Fmnist2().to(device)\n",
        "model2.apply(weights_init)"
      ],
      "execution_count": 0,
      "outputs": [
        {
          "output_type": "stream",
          "text": [
            "Parameter containing:\n",
            "tensor([[-0.0320, -0.0325, -0.0324,  ...,  0.0478, -0.0152, -0.0555],\n",
            "        [ 0.0889,  0.0222,  0.0421,  ...,  0.0234,  0.0195, -0.0266],\n",
            "        [-0.0615,  0.0356, -0.0479,  ...,  0.0351, -0.0971, -0.0217],\n",
            "        ...,\n",
            "        [ 0.0383, -0.0674,  0.0633,  ...,  0.0131,  0.0473, -0.0112],\n",
            "        [-0.0661,  0.0523, -0.0667,  ..., -0.0129,  0.0698,  0.0374],\n",
            "        [-0.0175,  0.0389,  0.0852,  ..., -0.0260,  0.0046,  0.0830]],\n",
            "       device='cuda:0', requires_grad=True)\n",
            "Parameter containing:\n",
            "tensor([[-8.9285e-02, -6.7962e-02,  3.4746e-02,  ...,  1.9234e-02,\n",
            "         -8.3617e-02,  1.7218e-02],\n",
            "        [ 6.2778e-02,  1.0142e-01, -2.8100e-02,  ...,  8.2556e-02,\n",
            "          5.3373e-02, -8.2697e-03],\n",
            "        [ 6.7397e-03, -8.9441e-02,  6.0939e-05,  ...,  4.3825e-02,\n",
            "          4.4948e-02,  1.5389e-02],\n",
            "        ...,\n",
            "        [ 1.6894e-02,  5.4270e-02, -3.0722e-02,  ..., -1.4480e-02,\n",
            "          2.2273e-02,  1.0190e-01],\n",
            "        [ 5.7814e-02,  5.9625e-02, -5.8806e-02,  ...,  2.9430e-02,\n",
            "         -8.8550e-03, -3.4260e-02],\n",
            "        [ 6.6737e-02, -6.5365e-02,  8.8763e-02,  ...,  8.6257e-02,\n",
            "         -1.0678e-02, -6.0472e-02]], device='cuda:0', requires_grad=True)\n",
            "Parameter containing:\n",
            "tensor([[ 0.2295, -0.1617, -0.1706,  ..., -0.0712,  0.1396,  0.0766],\n",
            "        [-0.0187,  0.1185, -0.0261,  ..., -0.0215,  0.0662, -0.1616],\n",
            "        [-0.0938,  0.0968, -0.0257,  ..., -0.0845,  0.1736,  0.1650],\n",
            "        ...,\n",
            "        [-0.1018, -0.2110,  0.0706,  ..., -0.2743,  0.1062,  0.1206],\n",
            "        [ 0.1440,  0.0335, -0.0360,  ..., -0.0309,  0.1399,  0.0696],\n",
            "        [-0.0891, -0.1201, -0.0630,  ...,  0.1946, -0.0418,  0.1675]],\n",
            "       device='cuda:0', requires_grad=True)\n"
          ],
          "name": "stdout"
        },
        {
          "output_type": "execute_result",
          "data": {
            "text/plain": [
              "Fmnist2(\n",
              "  (layer1): Sequential(\n",
              "    (0): Linear(in_features=784, out_features=512, bias=True)\n",
              "    (1): BatchNorm1d(512, eps=1e-05, momentum=0.1, affine=True, track_running_stats=True)\n",
              "    (2): ReLU()\n",
              "  )\n",
              "  (layer2): Sequential(\n",
              "    (0): Linear(in_features=512, out_features=128, bias=True)\n",
              "    (1): BatchNorm1d(128, eps=1e-05, momentum=0.1, affine=True, track_running_stats=True)\n",
              "    (2): ReLU()\n",
              "  )\n",
              "  (layer3): Sequential(\n",
              "    (0): Linear(in_features=128, out_features=10, bias=True)\n",
              "  )\n",
              ")"
            ]
          },
          "metadata": {
            "tags": []
          },
          "execution_count": 16
        }
      ]
    },
    {
      "cell_type": "code",
      "metadata": {
        "id": "n8M6mOgskRgr",
        "colab_type": "code",
        "colab": {}
      },
      "source": [
        "criterion = nn.CrossEntropyLoss().to(device)\n",
        "optimizer = optim.Adam(model2.parameters(),lr=learning_rate)"
      ],
      "execution_count": 0,
      "outputs": []
    },
    {
      "cell_type": "code",
      "metadata": {
        "id": "ao_RhUr2gAa9",
        "colab_type": "code",
        "outputId": "5896f0f9-2c2d-4469-d752-0ab83ff25964",
        "colab": {
          "base_uri": "https://localhost:8080/",
          "height": 598
        }
      },
      "source": [
        "total_batch=len(train_loader)+len(val_loader)\n",
        "\n",
        "train_losses = []\n",
        "val_losses = []\n",
        "\n",
        "epochs=10\n",
        "\n",
        "for epoch in range(epochs+1):\n",
        "    avg_cost=0\n",
        "    for i,data in enumerate(train_loader):\n",
        "        imgs,labels=data\n",
        "        imgs=imgs.to(device)\n",
        "        labels=labels.to(device)\n",
        "\n",
        "        optimizer.zero_grad()\n",
        "        hypothesis=model2(imgs)\n",
        "        cost=criterion(hypothesis,labels)\n",
        "        cost.backward()\n",
        "        optimizer.step()\n",
        "        train_losses.append(cost.item())\n",
        "\n",
        "\n",
        "        avg_cost += cost/total_batch\n",
        "\n",
        "    print('epoch:{} cost= {}'.format(epoch+1,avg_cost))\n",
        "\n",
        "    for i,data in enumerate(val_loader):\n",
        "        imgs,labels=data\n",
        "        imgs=imgs.to(device)\n",
        "        labels=labels.to(device)\n",
        "\n",
        "        optimizer.zero_grad()\n",
        "        hypothesis=model2(imgs)\n",
        "        cost=criterion(hypothesis,labels)\n",
        "        cost.backward()\n",
        "        optimizer.step()\n",
        "        val_losses.append(cost.item())\n",
        "\n",
        "\n",
        "        avg_cost += cost/total_batch\n",
        "\n",
        "    print('epoch:{} cost= {}'.format(epoch+1,avg_cost))\n",
        "    print('-'*50)"
      ],
      "execution_count": 0,
      "outputs": [
        {
          "output_type": "stream",
          "text": [
            "epoch:1 cost= 0.3779623508453369\n",
            "epoch:1 cost= 0.4588623046875\n",
            "--------------------------------------------------\n",
            "epoch:2 cost= 0.2898751497268677\n",
            "epoch:2 cost= 0.35875675082206726\n",
            "--------------------------------------------------\n",
            "epoch:3 cost= 0.25885748863220215\n",
            "epoch:3 cost= 0.3212423324584961\n",
            "--------------------------------------------------\n",
            "epoch:4 cost= 0.23914571106433868\n",
            "epoch:4 cost= 0.298493355512619\n",
            "--------------------------------------------------\n",
            "epoch:5 cost= 0.22258059680461884\n",
            "epoch:5 cost= 0.2765256464481354\n",
            "--------------------------------------------------\n",
            "epoch:6 cost= 0.20851217210292816\n",
            "epoch:6 cost= 0.260158896446228\n",
            "--------------------------------------------------\n",
            "epoch:7 cost= 0.19682902097702026\n",
            "epoch:7 cost= 0.24465061724185944\n",
            "--------------------------------------------------\n",
            "epoch:8 cost= 0.18869549036026\n",
            "epoch:8 cost= 0.23577256500720978\n",
            "--------------------------------------------------\n",
            "epoch:9 cost= 0.17827852070331573\n",
            "epoch:9 cost= 0.22238986194133759\n",
            "--------------------------------------------------\n",
            "epoch:10 cost= 0.1706264168024063\n",
            "epoch:10 cost= 0.21140842139720917\n",
            "--------------------------------------------------\n",
            "epoch:11 cost= 0.15879236161708832\n",
            "epoch:11 cost= 0.19778817892074585\n",
            "--------------------------------------------------\n"
          ],
          "name": "stdout"
        }
      ]
    },
    {
      "cell_type": "code",
      "metadata": {
        "id": "Dpx8gLfXkQm_",
        "colab_type": "code",
        "outputId": "e6cd5394-2040-4f0a-f2cc-89d8c4e3b4da",
        "colab": {
          "base_uri": "https://localhost:8080/",
          "height": 265
        }
      },
      "source": [
        "plt.plot(train_losses,label='Train')\n",
        "plt.plot(val_losses,label='Val')\n",
        "plt.legend()\n",
        "plt.show()"
      ],
      "execution_count": 0,
      "outputs": [
        {
          "output_type": "display_data",
          "data": {
            "image/png": "[encoded data removed]",
            "text/plain": [
              "<Figure size 432x288 with 1 Axes>"
            ]
          },
          "metadata": {
            "tags": [],
            "needs_background": "light"
          }
        }
      ]
    },
    {
      "cell_type": "code",
      "metadata": {
        "id": "bLhsDwSVkQp_",
        "colab_type": "code",
        "outputId": "798d10e2-ced0-4531-f925-7c29ba0ffca5",
        "colab": {
          "base_uri": "https://localhost:8080/",
          "height": 34
        }
      },
      "source": [
        "with torch.no_grad():\n",
        "    correct=0\n",
        "    total=0\n",
        "    \n",
        "    for i,data in enumerate(test_loader):\n",
        "        imgs,labels=data\n",
        "        imgs=imgs.to(device)\n",
        "        labels=labels.to(device)\n",
        "\n",
        "        prediction=model2(imgs)\n",
        "        _,argmax= torch.max(prediction,1)\n",
        "        total += imgs.size(0)\n",
        "        correct += (labels == argmax).sum().item()\n",
        "    \n",
        "    print('Test accuracy for {} images: {:.2f}%'.format(total, correct / total * 100))"
      ],
      "execution_count": 0,
      "outputs": [
        {
          "output_type": "stream",
          "text": [
            "Test accuracy for 10000 images: 88.34%\n"
          ],
          "name": "stdout"
        }
      ]
    },
    {
      "cell_type": "markdown",
      "metadata": {
        "id": "wmBrt75hmGS4",
        "colab_type": "text"
      },
      "source": [
        "층도 2개 더 쌓고 배치정규화도 추가해주긴 했지만 확실히 효과가 좋다!!"
      ]
    }
  ]
}